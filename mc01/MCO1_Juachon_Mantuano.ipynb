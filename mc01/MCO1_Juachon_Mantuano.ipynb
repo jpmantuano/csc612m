{
  "nbformat": 4,
  "nbformat_minor": 0,
  "metadata": {
    "colab": {
      "provenance": [],
      "gpuType": "T4",
      "toc_visible": true,
      "collapsed_sections": [
        "9UymYRF-r3BL",
        "qmUXXCDSPS3F",
        "56uyE-Y0PHEZ",
        "H1w59KHGRjSN",
        "9wFek4PdSSbP",
        "kw6vgZz5Ue5m"
      ],
      "include_colab_link": true
    },
    "kernelspec": {
      "name": "python3",
      "display_name": "Python 3"
    },
    "language_info": {
      "name": "python"
    },
    "accelerator": "GPU"
  },
  "cells": [
    {
      "cell_type": "markdown",
      "metadata": {
        "id": "view-in-github",
        "colab_type": "text"
      },
      "source": [
        "<a href=\"https://colab.research.google.com/github/jpmantuano/csc612m/blob/main/mc01/MCO1_Juachon_Mantuano.ipynb\" target=\"_parent\"><img src=\"https://colab.research.google.com/assets/colab-badge.svg\" alt=\"Open In Colab\"/></a>"
      ]
    },
    {
      "cell_type": "markdown",
      "source": [
        "### **Group 3 : MC01** ###"
      ],
      "metadata": {
        "id": "oRLPa771Oyqt"
      }
    },
    {
      "cell_type": "markdown",
      "source": [
        "Jean Philip Juachon\n",
        "\n",
        "Joseph Paulo Mantuano"
      ],
      "metadata": {
        "id": "ykMCLdY9O9QC"
      }
    },
    {
      "cell_type": "markdown",
      "source": [
        "### Explaining Multiple Data Transfer Method ###"
      ],
      "metadata": {
        "id": "cN-0EW6FLZlq"
      }
    },
    {
      "cell_type": "markdown",
      "source": [
        "How data moves between your computer’s main memory (the CPU) and the graphics card (the GPU). Below are four data transfer methods between CPU and GPU."
      ],
      "metadata": {
        "id": "fdZywrtILZq0"
      }
    },
    {
      "cell_type": "markdown",
      "source": [
        "1.) Unified memory\n",
        "\n",
        "2.) Prefetching of data with memory advice\n",
        "\n",
        "3.) Data initialization as a CUDA kernel\n",
        "\n",
        "4.) Old method of transferring data between CPU and memory (memCUDA malloc + CUDAmemcpy)"
      ],
      "metadata": {
        "id": "rEZdDYX6LZoJ"
      }
    },
    {
      "cell_type": "markdown",
      "source": [
        "# Summary: Test Results #"
      ],
      "metadata": {
        "id": "JoPyMgLFMOKX"
      }
    },
    {
      "cell_type": "markdown",
      "source": [
        "### GPU Kernel Execution Time ###"
      ],
      "metadata": {
        "id": "Q_lNQzXeNAYD"
      }
    },
    {
      "cell_type": "markdown",
      "source": [
        "| Version | Type                      | Total Run time (ms) | Average (ms) | Ranking |\n",
        "|---------|---------------------------|---------------------|--------------|---------|\n",
        "| 0       | Vanilla C                 | 31510.242           | 1050.34      | 5       |\n",
        "| 1       | Unified Memory Version    | 1029.68             | 34.32        | 3       |\n",
        "| 2       | Prefetch and Mem Advise   | 585.92              | 19.53        | 1       |\n",
        "| 3       | Data Initialization with CUDA | 925.49          | 30.85        | 2       |\n",
        "| 4       | Old Method                | 1284.66             | 42.822       | 4       |\n"
      ],
      "metadata": {
        "id": "11PSf8tFMOUn"
      }
    },
    {
      "cell_type": "markdown",
      "source": [
        "### Comparison of GPU Kernel Execution Time Between Data Transfer Methods ###"
      ],
      "metadata": {
        "id": "wdP5EZAjM_f0"
      }
    },
    {
      "cell_type": "markdown",
      "source": [
        "| Version | Type                      | vs Vanilla C (x times better) | vs Unified Memory | vs Prefetching and Mem Advise | vs Data Initialization with CUDA | vs Old Method |\n",
        "|---------|---------------------------|-------------------------------|-------------------|------------------------------|----------------------------------|---------------|\n",
        "| 0       | Vanilla C                 | 1.00                          | 0.03              | 0.02                         | 0.03                             | 0.04          |\n",
        "| 1       | Unified Memory Version    | 30.60                         | 1.00              | 0.57                         | 0.90                             | 1.25          |\n",
        "| 2       | Prefetch and Mem Advise   | 53.78                         | 1.76              | 1.00                         | 1.58                             | 2.19          |\n",
        "| 3       | Data Initialization with CUDA | 34.05                    | 1.11              | 0.63                         | 1.00                             | 1.39          |\n",
        "| 4       | Old Method                | 24.53                         | 0.80              | 0.46                         | 0.72                             | 1.00          |\n"
      ],
      "metadata": {
        "id": "6QQ0UN5cMOYB"
      }
    },
    {
      "cell_type": "markdown",
      "source": [
        "### Data Transfer Time ###"
      ],
      "metadata": {
        "id": "oJP5fmgNNyY7"
      }
    },
    {
      "cell_type": "markdown",
      "source": [
        "| Version | Type                      | Total Data Transfer Time (ms) | Ranking |\n",
        "|---------|---------------------------|-------------------------------|---------|\n",
        "| 0       | Vanilla C                 | NA                            | NA      |\n",
        "| 1       | Unified Memory Version    | 306.37                        | 3       |\n",
        "| 2       | Prefetch and Mem Advise   | 252.98                        | 1       |\n",
        "| 3       | Data Initialization with CUDA | 263.22                    | 2       |\n",
        "| 4       | Old Method                | 951.3                         | 4       |\n"
      ],
      "metadata": {
        "id": "2UOdpnc-Nybs"
      }
    },
    {
      "cell_type": "markdown",
      "source": [
        "### Comparison of Data Transfer Time Between Data Transfer Methods ###"
      ],
      "metadata": {
        "id": "wjbKtsu1NyeS"
      }
    },
    {
      "cell_type": "markdown",
      "source": [
        "| Version | Type                      | vs Vanilla C (x times better) | vs Unified Memory | vs Prefetching and Mem Advise | vs Data Initialization with CUDA | vs Old Method |\n",
        "|---------|---------------------------|-------------------------------|-------------------|------------------------------|----------------------------------|---------------|\n",
        "| 0       | Vanilla C                 | NA                            | NA                | NA                           | NA                               | NA            |\n",
        "| 1       | Unified Memory Version    | NA                            | 1.00              | 0.83                         | 0.86                             | 3.11          |\n",
        "| 2       | Prefetch and Mem Advise   | NA                            | 1.21              | 1.00                         | 1.04                             | 3.76          |\n",
        "| 3       | Data Initialization with CUDA | NA                        | 1.16              | 0.96                         | 1.00                             | 3.61          |\n",
        "| 4       | Old Method                | NA                            | 0.32              | 0.27                         | 0.28                             | 1.00          |\n"
      ],
      "metadata": {
        "id": "6rNZ2hq5Nygw"
      }
    },
    {
      "cell_type": "markdown",
      "source": [],
      "metadata": {
        "id": "SPthX2-YOWoQ"
      }
    },
    {
      "cell_type": "markdown",
      "source": [
        "# CUDA Programming Project Specifications : 1D Convolution #"
      ],
      "metadata": {
        "id": "eySWAJMzGpuW"
      }
    },
    {
      "cell_type": "markdown",
      "source": [
        "Implements a 1D convolution and compares the performance of CPU-based and GPU-accelerated CUDA implementations, exploring different data transfer methods and CUDA optimization techniques."
      ],
      "metadata": {
        "id": "47o_bCc1Gpwu"
      }
    },
    {
      "cell_type": "markdown",
      "source": [
        "#### General Implementation of the 1D convolution defined as : out[i] = (in[i] + in[i + 1] + in[i + 2]) / 3.0f ####\n",
        "\n",
        "\n",
        "```\n",
        "conv1D(const float* in, float* out, int n) {\n",
        "    int i = blockIdx.x * blockDim.x + threadIdx.x;\n",
        "    if (i < n - 2) {\n",
        "        out[i] = (in[i] + in[i + 1] + in[i + 2]) / 3.0f;\n",
        "    }\n",
        "}\n",
        "```\n",
        "\n"
      ],
      "metadata": {
        "id": "17BMTBsPGpzT"
      }
    },
    {
      "cell_type": "markdown",
      "source": [
        "#### Input: `2^28` elements or `268435456` ####\n",
        "Generally initialized using the following code:\n",
        "\n",
        "\n",
        "```\n",
        "float* initialize_input(float *in, size_t n) {\n",
        "    for (size_t i = 0; i < n; i++) {\n",
        "        in[i] = (float)i;\n",
        "    }\n",
        "    return in;\n",
        "}\n",
        "```\n",
        "\n"
      ],
      "metadata": {
        "id": "d2_1wwq6Gvjy"
      }
    },
    {
      "cell_type": "markdown",
      "source": [
        "The first and last 20 elements of the output with be displayed at the end of the run, excluding the two zeros at the end.\n",
        "\n",
        "\n",
        "\n",
        "```\n",
        "void print_results(const float *out, size_t n) {\n",
        "    printf(\"First %d elements of output:\\n\", PRINT_VALUES);\n",
        "    for (int i = 0; i < PRINT_VALUES; i++) {\n",
        "        printf(\"out[%d] = %f\\n\", i, out[i]);\n",
        "    }\n",
        "\n",
        "    printf(\"Last %d elements of output:\\n\", PRINT_VALUES);\n",
        "    for (size_t i = n - PRINT_VALUES; i < n - 2; i++) {\n",
        "        printf(\"out[%zu] = %f\\n\", i, out[i]);\n",
        "    }\n",
        "}\n",
        "```\n",
        "\n"
      ],
      "metadata": {
        "id": "xVmlt4ZrGvt8"
      }
    },
    {
      "cell_type": "markdown",
      "source": [
        "The convolution method will be run 30 times and the average runtime will be recorded, this is to accomodate any forms of caching and inconsistencies between runs.\n",
        "\n",
        "\n",
        "\n",
        "```\n",
        "//Kernel run method\n",
        "void run_kernel(const float *in, float *out) {\n",
        "    int blocks = (N + THREADS_PER_BLOCK - 1) / THREADS_PER_BLOCK;\n",
        "    for (int iter = 0; iter < RUNS; iter++) {\n",
        "        conv1D_kernel<<<blocks, THREADS_PER_BLOCK>>>(in, out, N);\n",
        "        cudaDeviceSynchronize();\n",
        "    }\n",
        "}\n",
        "```\n",
        "\n"
      ],
      "metadata": {
        "id": "MoAb8HhuGvwr"
      }
    },
    {
      "cell_type": "markdown",
      "source": [
        "Error checking method, also excluding the last two elements as they are always Zero.\n",
        "\n",
        "```\n",
        "size_t check_errors(const float *in, const float *out, size_t n) {\n",
        "    size_t err_count = 0;\n",
        "    for (size_t i = 0; i < n - 2; i++) {\n",
        "        float expected = (in[i] + in[i + 1] + in[i + 2]) / 3.0f;\n",
        "        if (fabs(out[i] - expected) > 1e-5) {\n",
        "            err_count++;\n",
        "        }\n",
        "    }\n",
        "    return err_count;\n",
        "}\n",
        "```\n",
        "\n"
      ],
      "metadata": {
        "id": "xQgajF8nGvza"
      }
    },
    {
      "cell_type": "markdown",
      "source": [
        " #### CUDA configurations ####\n",
        "* The number of blocks is automatically coomputed depending on the number of input elements and the number of threads per block.\n",
        "* The threads per block is set to 1024 threads."
      ],
      "metadata": {
        "id": "2tJ9yjHhGv15"
      }
    },
    {
      "cell_type": "markdown",
      "source": [
        "# Version 0: Using C to implement 1D Convolution #"
      ],
      "metadata": {
        "id": "9UymYRF-r3BL"
      }
    },
    {
      "cell_type": "markdown",
      "source": [
        "Get the runtime of 1D Convolution implemented in C and use as the baseline for comparison with the different CUDA version implementation of 1D Convolution."
      ],
      "metadata": {
        "id": "VWnNitQnInBX"
      }
    },
    {
      "cell_type": "code",
      "source": [
        "%%writefile conv1d_c.c\n",
        "#include <stdio.h>\n",
        "#include <stdlib.h>\n",
        "#include <math.h>\n",
        "#include <time.h>\n",
        "\n",
        "#define ARRAY_SIZE (1 << 28)  // 268,435,456 elements\n",
        "\n",
        "// ***C function version\n",
        "void conv_1d(size_t n, float* out, float *in)\n",
        "{\n",
        "  for (int i=0; i<n;i++)\n",
        "     out[i] = (in[i] + in[i+1] + in[i+2])/3.0f;\n",
        "\n",
        "}\n",
        "\n",
        "int main() {\n",
        "    float *in = (float *)malloc((ARRAY_SIZE + 2) * sizeof(float));  // +2 for safe bounds\n",
        "    float *out = (float *)malloc(ARRAY_SIZE * sizeof(float));\n",
        "\n",
        "    const size_t loope = 30;\n",
        "\n",
        "    // Initialize input with some values\n",
        "    for (size_t i = 0; i < ARRAY_SIZE + 2; i++) {\n",
        "        in[i] = (float)i;\n",
        "    }\n",
        "\n",
        "    //time here\n",
        "    double elapse, time_taken;\n",
        "\n",
        "    //timer variables\n",
        "    clock_t start, end;\n",
        "    elapse = 0.0f;\n",
        "\n",
        "    // 1D Convolution (naive C)\n",
        "    for (int i=0; i<loope; i++){\n",
        "        start = clock();\n",
        "        conv_1d(ARRAY_SIZE,out, in);\n",
        "        end = clock();\n",
        "        time_taken = ((double)(end-start))*1E3/CLOCKS_PER_SEC;\n",
        "        elapse = elapse + time_taken;\n",
        "    }\n",
        "    printf(\"Function (in C) average time for %lu loops is %f milliseconds to execute an array size %u \\n\", loope, elapse/loope, ARRAY_SIZE);\n",
        "\n",
        "    // Print first and last 20 values\n",
        "    printf(\"First 20 elements of output:\\n\");\n",
        "    for (int i = 0; i < 20; i++) printf(\"%f \", out[i]);\n",
        "    printf(\"\\nLast 20 elements of output:\\n\");\n",
        "    for (size_t i = ARRAY_SIZE - 20; i < ARRAY_SIZE; i++) printf(\"%f \", out[i]);\n",
        "    printf(\"\\n\");\n",
        "\n",
        "    free(in);\n",
        "    free(out);\n",
        "    return 0;\n",
        "}"
      ],
      "metadata": {
        "colab": {
          "base_uri": "https://localhost:8080/"
        },
        "id": "MPDKVpGgpnYo",
        "outputId": "e7c602c8-7dfc-42a3-ca21-09a79a1b50bb"
      },
      "execution_count": 6,
      "outputs": [
        {
          "output_type": "stream",
          "name": "stdout",
          "text": [
            "Overwriting conv1d_c.c\n"
          ]
        }
      ]
    },
    {
      "cell_type": "code",
      "source": [
        "%%shell\n",
        "gcc conv1d_c.c -o conv1d_c"
      ],
      "metadata": {
        "colab": {
          "base_uri": "https://localhost:8080/"
        },
        "id": "zk5172PYsAFj",
        "outputId": "87b7c05c-dd57-4cc5-9a9f-08b09bd2b920"
      },
      "execution_count": 7,
      "outputs": [
        {
          "output_type": "execute_result",
          "data": {
            "text/plain": []
          },
          "metadata": {},
          "execution_count": 7
        }
      ]
    },
    {
      "cell_type": "code",
      "source": [
        "%%shell\n",
        "./conv1d_c"
      ],
      "metadata": {
        "colab": {
          "base_uri": "https://localhost:8080/"
        },
        "id": "RRxzrwSpsPqm",
        "outputId": "36e94247-f5f3-4a6b-f2b1-bb3c4897506c"
      },
      "execution_count": null,
      "outputs": [
        {
          "output_type": "stream",
          "name": "stdout",
          "text": [
            "Function (in C) average time for 30 loops is 1050.341400 milliseconds to execute an array size 268435456 \n",
            "First 20 elements of output:\n",
            "1.000000 2.000000 3.000000 4.000000 5.000000 6.000000 7.000000 8.000000 9.000000 10.000000 11.000000 12.000000 13.000000 14.000000 15.000000 16.000000 17.000000 18.000000 19.000000 20.000000 \n",
            "Last 20 elements of output:\n",
            "268435440.000000 268435440.000000 268435440.000000 268435440.000000 268435440.000000 268435440.000000 268435440.000000 268435440.000000 268435440.000000 268435440.000000 268435456.000000 268435456.000000 268435456.000000 268435456.000000 268435456.000000 268435456.000000 268435456.000000 268435456.000000 268435456.000000 268435456.000000 \n"
          ]
        },
        {
          "output_type": "execute_result",
          "data": {
            "text/plain": []
          },
          "metadata": {},
          "execution_count": 30
        }
      ]
    },
    {
      "cell_type": "markdown",
      "source": [
        "# GPU Check"
      ],
      "metadata": {
        "id": "qmUXXCDSPS3F"
      }
    },
    {
      "cell_type": "markdown",
      "source": [
        "Getting the GPU id for Google Colab but this is often 0 for free tier accounts."
      ],
      "metadata": {
        "id": "FCpgMbpqI41P"
      }
    },
    {
      "cell_type": "code",
      "source": [
        "gpu_info = !nvidia-smi\n",
        "gpu_info = '\\n'.join(gpu_info)\n",
        "if gpu_info.find('failed') >= 0:\n",
        "  print('Not connected to a GPU')\n",
        "else:\n",
        "  print(gpu_info)"
      ],
      "metadata": {
        "colab": {
          "base_uri": "https://localhost:8080/"
        },
        "id": "DtSaA7LePE30",
        "outputId": "5c5eac0d-602d-405b-c8da-b4bb38fe5654"
      },
      "execution_count": null,
      "outputs": [
        {
          "output_type": "stream",
          "name": "stdout",
          "text": [
            "Tue Jun  3 12:09:28 2025       \n",
            "+-----------------------------------------------------------------------------------------+\n",
            "| NVIDIA-SMI 550.54.15              Driver Version: 550.54.15      CUDA Version: 12.4     |\n",
            "|-----------------------------------------+------------------------+----------------------+\n",
            "| GPU  Name                 Persistence-M | Bus-Id          Disp.A | Volatile Uncorr. ECC |\n",
            "| Fan  Temp   Perf          Pwr:Usage/Cap |           Memory-Usage | GPU-Util  Compute M. |\n",
            "|                                         |                        |               MIG M. |\n",
            "|=========================================+========================+======================|\n",
            "|   0  Tesla T4                       Off |   00000000:00:04.0 Off |                    0 |\n",
            "| N/A   38C    P8              9W /   70W |       0MiB /  15360MiB |      0%      Default |\n",
            "|                                         |                        |                  N/A |\n",
            "+-----------------------------------------+------------------------+----------------------+\n",
            "                                                                                         \n",
            "+-----------------------------------------------------------------------------------------+\n",
            "| Processes:                                                                              |\n",
            "|  GPU   GI   CI        PID   Type   Process name                              GPU Memory |\n",
            "|        ID   ID                                                               Usage      |\n",
            "|=========================================================================================|\n",
            "|  No running processes found                                                             |\n",
            "+-----------------------------------------------------------------------------------------+\n"
          ]
        }
      ]
    },
    {
      "cell_type": "markdown",
      "source": [
        "# Version 1: Unified Memory Version of 1D Convolution"
      ],
      "metadata": {
        "id": "56uyE-Y0PHEZ"
      }
    },
    {
      "cell_type": "markdown",
      "source": [
        "A single memory address space accessible by both CPU and GPU. [Nvidia Blog](https://developer.nvidia.com/blog/unified-memory-cuda-beginners/)"
      ],
      "metadata": {
        "id": "gtcXgQz8I-J7"
      }
    },
    {
      "cell_type": "markdown",
      "source": [
        "Analogy: Instead of two separate offices, imagine a shared workspace where both the CPU and GPU can reach the same files. You don’t have to move files around; you just work on them where they are.\n",
        "\n",
        "How it works:\n",
        "- You allocate memory with cudaMallocManaged.\n",
        "- Both the CPU and GPU can access this memory.\n",
        "- CUDA automatically moves data behind the scenes when needed."
      ],
      "metadata": {
        "id": "cvy9TFUQI-Mk"
      }
    },
    {
      "cell_type": "markdown",
      "source": [
        "Example:\n",
        "\n",
        "```\n",
        "float *data;\n",
        "cudaMallocManaged(&data, N * sizeof(float));  // Accessible by CPU/GPU\n",
        "```"
      ],
      "metadata": {
        "id": "t0MpNgIuI-Pj"
      }
    },
    {
      "cell_type": "code",
      "source": [
        "%%writefile CUDA_conv1d_base.cu\n",
        "#include <stdio.h>\n",
        "#include <stdlib.h>\n",
        "#include <math.h>\n",
        "\n",
        "__global__\n",
        "void conv_1d(size_t n, float *out, float *in){\n",
        "\n",
        "    //IMPORTANT 1: ID = BLOCKID, BLOCKDIM, THREADID\n",
        "    int index = blockIdx.x * blockDim.x + threadIdx.x;\n",
        "    int stride = blockDim.x * gridDim.x;\n",
        "\n",
        "    //IMPORTANT 2: GRID STRIDE LOOP\n",
        "    for (int i = index; i < n-2; i += stride){\n",
        "        out[i] = (in[i] + in[i+1] + in[i+2]) / 3.0f;\n",
        "    }\n",
        "}\n",
        "\n",
        "int main(){\n",
        "    const size_t ARRAY_SIZE = 1<<28;\n",
        "    const size_t ARRAY_BYTES = ARRAY_SIZE * sizeof(float);\n",
        "\n",
        "    //loop\n",
        "    const size_t loope = 30;\n",
        "\n",
        "    //declare array\n",
        "    float *in, *out;\n",
        "    cudaMallocManaged(&in, ARRAY_BYTES);\n",
        "    cudaMallocManaged(&out, ARRAY_BYTES);\n",
        "\n",
        "    //Initialize array\n",
        "    for (int i=0; i<ARRAY_SIZE; i++)\n",
        "      in[i] = (float) i;\n",
        "\n",
        "    //setup CUDA kernel\n",
        "    size_t numThreads = 1024;\n",
        "\n",
        "    //size_t numBlocks = 1;\n",
        "    //IMPORTANT 3: AUTO COMPUTE BLOCKS\n",
        "    size_t numBlocks = (ARRAY_SIZE + numThreads-1) / numThreads; //round-up\n",
        "\n",
        "    printf(\"*** function = Conv 1d\\n\");\n",
        "    printf(\"numElements = %lu\\n\", ARRAY_SIZE);\n",
        "    printf(\"numBlocks = %lu, numThreads = %lu \\n\",numBlocks,numThreads);\n",
        "\n",
        "    for (size_t i=0; i<loope;i++)\n",
        "        conv_1d <<<numBlocks, numThreads>>> (ARRAY_SIZE,out,in);\n",
        "\n",
        "        //barrier\n",
        "        cudaDeviceSynchronize();\n",
        "\n",
        "    //error checking    //this is cpu\n",
        "    size_t err_count = 0;\n",
        "\n",
        "    // ***C version\n",
        "    for (int i=0; i<ARRAY_SIZE-2; i++){\n",
        "        if (fabs(out[i] - (in[i] + in[i+1] + in[i+2])/3.0f) > 1e-5)\n",
        "            err_count++;\n",
        "   }\n",
        "\n",
        "    printf(\"Error count(CUDA program): %zu\\n\", err_count);\n",
        "    if (err_count == 0){\n",
        "        printf(\"CUDA Version is Correct\\n\");\n",
        "    }\n",
        "    else{\n",
        "        printf(\"CUDA Version is Incorrect\\n\");\n",
        "    }\n",
        "\n",
        "\n",
        "    printf(\"First 20 elements of output:\\n\");\n",
        "    for (int i = 0; i < 20; i++)\n",
        "        printf(\"%f \", out[i]);\n",
        "    printf(\"\\nLast 20 elements of output:\\n\");\n",
        "    for (int i = ARRAY_SIZE - 20; i < ARRAY_SIZE; i++)\n",
        "        printf(\"%f \", out[i]);\n",
        "    printf(\"\\n\");\n",
        "\n",
        "    //free memory\n",
        "    cudaFree(in);\n",
        "    cudaFree(out);\n",
        "    return 0;\n",
        "}"
      ],
      "metadata": {
        "colab": {
          "base_uri": "https://localhost:8080/"
        },
        "id": "JwiCqEKOPNnO",
        "outputId": "1fbbbbcf-28e1-4593-ee0d-787cee94f6b6"
      },
      "execution_count": null,
      "outputs": [
        {
          "output_type": "stream",
          "name": "stdout",
          "text": [
            "Writing CUDA_conv1d_base.cu\n"
          ]
        }
      ]
    },
    {
      "cell_type": "code",
      "source": [
        "%%shell\n",
        "nvcc CUDA_conv1d_base.cu -o CUDA_conv1d_base -arch=sm_75"
      ],
      "metadata": {
        "colab": {
          "base_uri": "https://localhost:8080/"
        },
        "id": "BkA0OEsUQE35",
        "outputId": "1b7a0614-4fc0-41b7-c4a8-86531cf06685"
      },
      "execution_count": null,
      "outputs": [
        {
          "output_type": "execute_result",
          "data": {
            "text/plain": []
          },
          "metadata": {},
          "execution_count": 33
        }
      ]
    },
    {
      "cell_type": "code",
      "source": [
        "%%shell\n",
        "nvprof ./CUDA_conv1d_base"
      ],
      "metadata": {
        "colab": {
          "base_uri": "https://localhost:8080/"
        },
        "id": "Nv5z416iQFc2",
        "outputId": "c93ae748-972c-42cf-92ba-0330f0d26b67"
      },
      "execution_count": null,
      "outputs": [
        {
          "output_type": "stream",
          "name": "stdout",
          "text": [
            "==4948== NVPROF is profiling process 4948, command: ./CUDA_conv1d_base\n",
            "*** function = Conv 1d\n",
            "numElements = 268435456\n",
            "numBlocks = 262144, numThreads = 1024 \n",
            "Error count(CUDA program): 0\n",
            "CUDA Version is Correct\n",
            "First 20 elements of output:\n",
            "1.000000 2.000000 3.000000 4.000000 5.000000 6.000000 7.000000 8.000000 9.000000 10.000000 11.000000 12.000000 13.000000 14.000000 15.000000 16.000000 17.000000 18.000000 19.000000 20.000000 \n",
            "Last 20 elements of output:\n",
            "268435440.000000 268435440.000000 268435440.000000 268435440.000000 268435440.000000 268435440.000000 268435440.000000 268435440.000000 268435440.000000 268435440.000000 268435456.000000 268435456.000000 268435456.000000 268435456.000000 268435456.000000 268435456.000000 268435456.000000 268435456.000000 0.000000 0.000000 \n",
            "==4948== Profiling application: ./CUDA_conv1d_base\n",
            "==4948== Profiling result:\n",
            "            Type  Time(%)      Time     Calls       Avg       Min       Max  Name\n",
            " GPU activities:  100.00%  1.02968s        30  34.323ms  8.8027ms  774.23ms  conv_1d(unsigned long, float*, float*)\n",
            "      API calls:   71.66%  1.02951s         1  1.02951s  1.02951s  1.02951s  cudaDeviceSynchronize\n",
            "                   18.01%  258.74ms         2  129.37ms  50.041us  258.69ms  cudaMallocManaged\n",
            "                   10.12%  145.44ms         2  72.721ms  70.242ms  75.200ms  cudaFree\n",
            "                    0.12%  1.7129ms        30  57.095us  4.9850us  1.5280ms  cudaLaunchKernel\n",
            "                    0.08%  1.0894ms         1  1.0894ms  1.0894ms  1.0894ms  cuDeviceGetPCIBusId\n",
            "                    0.01%  139.26us       114  1.2210us     106ns  54.463us  cuDeviceGetAttribute\n",
            "                    0.00%  11.573us         1  11.573us  11.573us  11.573us  cuDeviceGetName\n",
            "                    0.00%  1.6460us         3     548ns     179ns  1.2400us  cuDeviceGetCount\n",
            "                    0.00%     992ns         2     496ns     130ns     862ns  cuDeviceGet\n",
            "                    0.00%     494ns         1     494ns     494ns     494ns  cuDeviceTotalMem\n",
            "                    0.00%     473ns         1     473ns     473ns     473ns  cuModuleGetLoadingMode\n",
            "                    0.00%     230ns         1     230ns     230ns     230ns  cuDeviceGetUuid\n",
            "\n",
            "==4948== Unified Memory profiling result:\n",
            "Device \"Tesla T4 (0)\"\n",
            "   Count  Avg Size  Min Size  Max Size  Total Size  Total Time  Name\n",
            "   16886  57.560KB  4.0000KB  0.9805MB  949.1836MB  121.7858ms  Host To Device\n",
            "   12288  170.67KB  4.0000KB  0.9961MB  2.000000GB  184.5870ms  Device To Host\n",
            "    3845         -         -         -           -  716.8658ms  Gpu page fault groups\n",
            "Total CPU Page faults: 9216\n"
          ]
        },
        {
          "output_type": "execute_result",
          "data": {
            "text/plain": []
          },
          "metadata": {},
          "execution_count": 34
        }
      ]
    },
    {
      "cell_type": "markdown",
      "source": [
        "# Version 2: CUDA with Prefetching data and Memory Advice"
      ],
      "metadata": {
        "id": "H1w59KHGRjSN"
      }
    },
    {
      "cell_type": "markdown",
      "source": [
        "Explicit control over data locality using:\n",
        "\n",
        "**a. cudaMemPrefetchAsync**\n",
        "\n",
        "Pre-migrates data to a specific processor (CPU/GPU) before access:\n",
        "\n",
        "```\n",
        "cudaMemPrefetchAsync(data, size, deviceId);  // Force data to GPU\n",
        "\n",
        "```\n",
        "**b. cudaMemAdvise**\n",
        "\n",
        "Hints about access patterns:\n",
        "```\n",
        "cudaMemAdvise(data, size, cudaMemAdviseSetAccessedBy, deviceId);  // GPU will access\n",
        "\n",
        "```\n",
        "\n",
        "```\n",
        "# This is formatted as code\n",
        "```\n",
        "\n"
      ],
      "metadata": {
        "id": "9g3u1jXeJ0sr"
      }
    },
    {
      "cell_type": "markdown",
      "source": [
        "Analogy: Imagine you know you’ll need a certain file in the GPU office soon. You tell your assistant in advance, “Hey, please have this file ready on the GPU desk before I get there.” That way, there’s no waiting around.\n",
        "\n",
        "How it works:\n",
        "- With Unified Memory, you use cudaMemPrefetchAsync to pre-load data to where it’ll be needed (CPU or GPU).\n",
        "- You can also give “advice” with cudaMemAdvise to help CUDA optimize data placement."
      ],
      "metadata": {
        "id": "e9HdVo1bJ0kV"
      }
    },
    {
      "cell_type": "code",
      "source": [
        "%%writefile CUDA_conv1d_complete.cu\n",
        "#include <stdio.h>\n",
        "#include <stdlib.h>\n",
        "#include <math.h>\n",
        "\n",
        "__global__\n",
        "void conv_1d(size_t n, float *out, float *in){\n",
        "\n",
        "    //IMPORTANT 1: ID = BLOCKID, BLOCKDIM, THREADID\n",
        "    int index = blockIdx.x * blockDim.x + threadIdx.x;\n",
        "    int stride = blockDim.x * gridDim.x;\n",
        "\n",
        "    //IMPORTANT 2: GRID STRIDE LOOP\n",
        "    for (int i = index; i < n-2; i += stride){\n",
        "        out[i] = (in[i] + in[i+1] + in[i+2]) / 3.0f;\n",
        "    }\n",
        "}\n",
        "\n",
        "int main(){\n",
        "    const size_t ARRAY_SIZE = 1<<28;\n",
        "    const size_t ARRAY_BYTES = ARRAY_SIZE * sizeof(float);\n",
        "\n",
        "    //loop\n",
        "    const size_t loope = 30;\n",
        "\n",
        "    //declare array\n",
        "    float *in, *out;\n",
        "    cudaMallocManaged(&in, ARRAY_BYTES);\n",
        "    cudaMallocManaged(&out, ARRAY_BYTES);\n",
        "\n",
        "\n",
        "    //get gpu id\n",
        "    int device = -1;\n",
        "    cudaGetDevice(&device);\n",
        "\n",
        "    // MEMORY ADVISE\n",
        "    cudaMemAdvise(in, ARRAY_BYTES, cudaMemAdviseSetPreferredLocation, cudaCpuDeviceId);\n",
        "    cudaMemAdvise(out, ARRAY_BYTES, cudaMemAdviseSetReadMostly, cudaCpuDeviceId);\n",
        "\n",
        "    //\"prefetch data\" to create CPU page memory\n",
        "    cudaMemPrefetchAsync(in,ARRAY_BYTES,cudaCpuDeviceId,NULL);\n",
        "    //\"prefetch data\" to create GPU page memory\n",
        "    cudaMemPrefetchAsync(out,ARRAY_BYTES,device,NULL);\n",
        "\n",
        "    //Initialize array\n",
        "    for (int i=0; i<ARRAY_SIZE; i++)\n",
        "      in[i] = (float) i;\n",
        "\n",
        "    //\"Prefetch data\" from CPU-GPU\n",
        "    cudaMemPrefetchAsync(in,ARRAY_BYTES,device,NULL);\n",
        "\n",
        "    //****** SETUP CUDA KERNEL ******\n",
        "    size_t numThreads = 1024;\n",
        "\n",
        "    //IMPORTANT 3: AUTO COMPUTE BLOCKS\n",
        "    size_t numBlocks = (ARRAY_SIZE + numThreads-1) / numThreads; //round-up\n",
        "\n",
        "    printf(\"*** function = Conv 1d\\n\");\n",
        "    printf(\"numElements = %lu\\n\", ARRAY_SIZE);\n",
        "    printf(\"numBlocks = %lu, numThreads = %lu \\n\",numBlocks,numThreads);\n",
        "\n",
        "    for (size_t i=0; i<loope;i++)\n",
        "        conv_1d <<<numBlocks, numThreads>>> (ARRAY_SIZE,out,in);\n",
        "\n",
        "        cudaDeviceSynchronize();\n",
        "\n",
        "    //\"Prefetch data\" from GPU-CPU before error checking because error checking is in CPU.\n",
        "    cudaMemPrefetchAsync(out,ARRAY_BYTES,cudaCpuDeviceId,NULL);\n",
        "    cudaMemPrefetchAsync(in,ARRAY_BYTES,cudaCpuDeviceId,NULL);\n",
        "\n",
        "\n",
        "    //error checking    //this is cpu\n",
        "    size_t err_count = 0;\n",
        "\n",
        "    // ***C version\n",
        "    for (int i=0; i<ARRAY_SIZE-2; i++){\n",
        "        if (fabs(out[i] - (in[i] + in[i+1] + in[i+2])/3.0f) > 1e-5)\n",
        "            err_count++;\n",
        "   }\n",
        "\n",
        "    printf(\"Error count(CUDA program): %zu\\n\", err_count);\n",
        "    if (err_count == 0){\n",
        "        printf(\"CUDA Version is Correct\\n\");\n",
        "    }\n",
        "    else{\n",
        "        printf(\"CUDA Version is Incorrect\\n\");\n",
        "    }\n",
        "\n",
        "\n",
        "    printf(\"First 20 elements of output:\\n\");\n",
        "    for (int i = 0; i < 20; i++)\n",
        "        printf(\"%f \", out[i]);\n",
        "    printf(\"\\nLast 20 elements of output:\\n\");\n",
        "    for (int i = ARRAY_SIZE - 20; i < ARRAY_SIZE; i++)\n",
        "        printf(\"%f \", out[i]);\n",
        "    printf(\"\\n\");\n",
        "\n",
        "    //free memory\n",
        "    cudaFree(in);\n",
        "    cudaFree(out);\n",
        "    return 0;\n",
        "}"
      ],
      "metadata": {
        "colab": {
          "base_uri": "https://localhost:8080/"
        },
        "id": "i0RFqZmnRm4M",
        "outputId": "39bfadca-edef-4712-b58f-00b8a98d850b"
      },
      "execution_count": null,
      "outputs": [
        {
          "output_type": "stream",
          "name": "stdout",
          "text": [
            "Writing CUDA_conv1d_complete.cu\n"
          ]
        }
      ]
    },
    {
      "cell_type": "code",
      "source": [
        "%%shell\n",
        "nvcc CUDA_conv1d_complete.cu -o CUDA_conv1d_complete -arch=sm_75"
      ],
      "metadata": {
        "colab": {
          "base_uri": "https://localhost:8080/"
        },
        "id": "lKJuZh_qRvwQ",
        "outputId": "277e0a3d-078f-4ccf-dda9-2a84b918dfae"
      },
      "execution_count": null,
      "outputs": [
        {
          "output_type": "execute_result",
          "data": {
            "text/plain": []
          },
          "metadata": {},
          "execution_count": 36
        }
      ]
    },
    {
      "cell_type": "code",
      "source": [
        "%%shell\n",
        "nvprof ./CUDA_conv1d_complete"
      ],
      "metadata": {
        "colab": {
          "base_uri": "https://localhost:8080/"
        },
        "id": "TAhGjKIHRxBx",
        "outputId": "be07114d-5cae-48e7-e900-b1914f98bd40"
      },
      "execution_count": null,
      "outputs": [
        {
          "output_type": "stream",
          "name": "stdout",
          "text": [
            "==5030== NVPROF is profiling process 5030, command: ./CUDA_conv1d_complete\n",
            "*** function = Conv 1d\n",
            "numElements = 268435456\n",
            "numBlocks = 262144, numThreads = 1024 \n",
            "Error count(CUDA program): 0\n",
            "CUDA Version is Correct\n",
            "First 20 elements of output:\n",
            "1.000000 2.000000 3.000000 4.000000 5.000000 6.000000 7.000000 8.000000 9.000000 10.000000 11.000000 12.000000 13.000000 14.000000 15.000000 16.000000 17.000000 18.000000 19.000000 20.000000 \n",
            "Last 20 elements of output:\n",
            "268435440.000000 268435440.000000 268435440.000000 268435440.000000 268435440.000000 268435440.000000 268435440.000000 268435440.000000 268435440.000000 268435440.000000 268435456.000000 268435456.000000 268435456.000000 268435456.000000 268435456.000000 268435456.000000 268435456.000000 268435456.000000 0.000000 0.000000 \n",
            "==5030== Profiling application: ./CUDA_conv1d_complete\n",
            "==5030== Profiling result:\n",
            "            Type  Time(%)      Time     Calls       Avg       Min       Max  Name\n",
            " GPU activities:  100.00%  332.94ms        30  11.098ms  8.7950ms  14.833ms  conv_1d(unsigned long, float*, float*)\n",
            "      API calls:   48.01%  531.13ms         5  106.23ms  3.9937ms  229.01ms  cudaMemPrefetchAsync\n",
            "                   30.09%  332.85ms         1  332.85ms  332.85ms  332.85ms  cudaDeviceSynchronize\n",
            "                   16.28%  180.07ms         2  90.033ms  48.204us  180.02ms  cudaMallocManaged\n",
            "                    5.59%  61.802ms         2  30.901ms  28.122ms  33.680ms  cudaFree\n",
            "                    0.03%  309.77us        30  10.325us  3.2170us  181.49us  cudaLaunchKernel\n",
            "                    0.01%  127.15us       114  1.1150us     107ns  52.188us  cuDeviceGetAttribute\n",
            "                    0.00%  15.558us         2  7.7790us  2.3690us  13.189us  cudaMemAdvise\n",
            "                    0.00%  10.713us         1  10.713us  10.713us  10.713us  cuDeviceGetName\n",
            "                    0.00%  4.3670us         1  4.3670us  4.3670us  4.3670us  cuDeviceGetPCIBusId\n",
            "                    0.00%  2.1020us         1  2.1020us  2.1020us  2.1020us  cudaGetDevice\n",
            "                    0.00%  1.4970us         3     499ns     120ns  1.1040us  cuDeviceGetCount\n",
            "                    0.00%     643ns         2     321ns     128ns     515ns  cuDeviceGet\n",
            "                    0.00%     547ns         1     547ns     547ns     547ns  cuModuleGetLoadingMode\n",
            "                    0.00%     520ns         1     520ns     520ns     520ns  cuDeviceTotalMem\n",
            "                    0.00%     345ns         1     345ns     345ns     345ns  cuDeviceGetUuid\n",
            "\n",
            "==5030== Unified Memory profiling result:\n",
            "Device \"Tesla T4 (0)\"\n",
            "   Count  Avg Size  Min Size  Max Size  Total Size  Total Time  Name\n",
            "     512  2.0000MB  2.0000MB  2.0000MB  1.000000GB  89.00357ms  Host To Device\n",
            "    1024  2.0000MB  2.0000MB  2.0000MB  2.000000GB  163.9805ms  Device To Host\n"
          ]
        },
        {
          "output_type": "execute_result",
          "data": {
            "text/plain": []
          },
          "metadata": {},
          "execution_count": 37
        }
      ]
    },
    {
      "cell_type": "markdown",
      "source": [
        "# Version 3: Data Initialization with CUDA Kernel"
      ],
      "metadata": {
        "id": "9wFek4PdSSbP"
      }
    },
    {
      "cell_type": "markdown",
      "source": [
        "Direct GPU-side initialization avoids host-device transfers:\n",
        "\n",
        "**Advantages**\n",
        "\n",
        "* Eliminates cudaMemcpy for initial data setup.\n",
        "\n",
        "* Faster for large datasets (no PCIe transfer).\n",
        "\n",
        "Example:\n",
        "```\n",
        "__global__ void init_kernel(float *data, int n) {\n",
        "    int i = blockIdx.x * blockDim.x + threadIdx.x;\n",
        "    if (i < n) data[i] = i;  // Initialize directly on GPU\n",
        "}\n",
        "```"
      ],
      "metadata": {
        "id": "ekj9H1oLKVP0"
      }
    },
    {
      "cell_type": "markdown",
      "source": [
        "Analogy: Instead of carrying a box of blank forms from the CPU office to the GPU office, you just print the forms right there in the GPU office!\n",
        "\n",
        "How it works:\n",
        "- You write a small CUDA kernel (a function that runs on the GPU) to fill in or generate your data directly in GPU memory.\n",
        "- No need to copy data from CPU to GPU."
      ],
      "metadata": {
        "id": "A3tEJt7fKVSd"
      }
    },
    {
      "cell_type": "code",
      "source": [
        "%%writefile CUDA_conv1d_v3.cu\n",
        "#include <stdio.h>\n",
        "#include <stdlib.h>\n",
        "#include <math.h>\n",
        "\n",
        "__global__\n",
        "void init_array(size_t n, float *in){\n",
        "    int index = blockIdx.x * blockDim.x + threadIdx.x;\n",
        "    int stride = blockDim.x * gridDim.x;\n",
        "\n",
        "    for (int i = index; i < n; i += stride) {\n",
        "        in[i] = (float)i;\n",
        "    }\n",
        "}\n",
        "\n",
        "__global__\n",
        "void conv_1d(size_t n, float *out, float *in){\n",
        "    int index = blockIdx.x * blockDim.x + threadIdx.x;\n",
        "    int stride = blockDim.x * gridDim.x;\n",
        "\n",
        "    for (int i = index; i < n - 2; i += stride){\n",
        "        out[i] = (in[i] + in[i+1] + in[i+2]) / 3.0f;\n",
        "    }\n",
        "}\n",
        "\n",
        "int main(){\n",
        "    const size_t ARRAY_SIZE = 1<<28;  // 268,435,456\n",
        "    const size_t ARRAY_BYTES = ARRAY_SIZE * sizeof(float);\n",
        "\n",
        "    const size_t loope = 30;\n",
        "\n",
        "    float *in, *out;\n",
        "    cudaMallocManaged(&in, ARRAY_BYTES);\n",
        "    cudaMallocManaged(&out, ARRAY_BYTES);\n",
        "\n",
        "    // Get GPU device id\n",
        "    int device = -1;\n",
        "    cudaGetDevice(&device);\n",
        "\n",
        "    // Memory advise for better behavior\n",
        "    cudaMemAdvise(in, ARRAY_BYTES, cudaMemAdviseSetPreferredLocation, cudaCpuDeviceId);\n",
        "    cudaMemAdvise(out, ARRAY_BYTES, cudaMemAdviseSetReadMostly, cudaCpuDeviceId);\n",
        "\n",
        "    // Setup thread/block sizes\n",
        "    size_t numThreads = 1024;\n",
        "    size_t numBlocks = (ARRAY_SIZE + numThreads - 1) / numThreads;\n",
        "\n",
        "    // Initialize array on GPU with kernel\n",
        "    init_array<<<numBlocks, numThreads>>>(ARRAY_SIZE, in);\n",
        "    cudaDeviceSynchronize();\n",
        "\n",
        "    // Prefetch initialized data to GPU (optional but recommended)\n",
        "    cudaMemPrefetchAsync(in, ARRAY_BYTES, device, NULL);\n",
        "    cudaMemPrefetchAsync(out, ARRAY_BYTES, device, NULL);\n",
        "\n",
        "    printf(\"*** function = Conv 1d with CUDA Kernel Init\\n\");\n",
        "    printf(\"numElements = %lu\\n\", ARRAY_SIZE);\n",
        "    printf(\"numBlocks = %lu, numThreads = %lu \\n\", numBlocks, numThreads);\n",
        "\n",
        "    // Run convolution kernel multiple times for timing stability\n",
        "    for (size_t i = 0; i < loope; i++){\n",
        "        conv_1d<<<numBlocks, numThreads>>>(ARRAY_SIZE, out, in);\n",
        "    }\n",
        "    cudaDeviceSynchronize();\n",
        "\n",
        "    // Prefetch results back to CPU for validation\n",
        "    cudaMemPrefetchAsync(out, ARRAY_BYTES, cudaCpuDeviceId, NULL);\n",
        "\n",
        "    // Validation on CPU\n",
        "    size_t err_count = 0;\n",
        "    for (int i = 0; i < ARRAY_SIZE - 2; i++){\n",
        "        float expected = (in[i] + in[i+1] + in[i+2]) / 3.0f;\n",
        "        if (fabs(out[i] - expected) > 1e-5){\n",
        "            err_count++;\n",
        "        }\n",
        "    }\n",
        "\n",
        "    printf(\"Error count (CUDA kernel init): %zu\\n\", err_count);\n",
        "    if (err_count == 0)\n",
        "        printf(\"CUDA Version is Correct\\n\");\n",
        "    else\n",
        "        printf(\"CUDA Version is Incorrect\\n\");\n",
        "\n",
        "    printf(\"First 20 elements of output:\\n\");\n",
        "    for (int i = 0; i < 20; i++)\n",
        "        printf(\"%f \", out[i]);\n",
        "    printf(\"\\nLast 20 elements of output:\\n\");\n",
        "    for (int i = ARRAY_SIZE - 20; i < ARRAY_SIZE; i++)\n",
        "        printf(\"%f \", out[i]);\n",
        "    printf(\"\\n\");\n",
        "\n",
        "    cudaFree(in);\n",
        "    cudaFree(out);\n",
        "    return 0;\n",
        "}"
      ],
      "metadata": {
        "colab": {
          "base_uri": "https://localhost:8080/"
        },
        "id": "geXilFSqz4HY",
        "outputId": "33cb07ef-c18f-49bf-8642-070cdd228bc8"
      },
      "execution_count": null,
      "outputs": [
        {
          "output_type": "stream",
          "name": "stdout",
          "text": [
            "Overwriting CUDA_conv1d_v3.cu\n"
          ]
        }
      ]
    },
    {
      "cell_type": "code",
      "source": [
        "%%shell\n",
        "nvcc CUDA_conv1d_v3.cu -o CUDA_conv1d_v3 -arch=sm_75"
      ],
      "metadata": {
        "colab": {
          "base_uri": "https://localhost:8080/"
        },
        "id": "l30KTroVTMVx",
        "outputId": "bb55ce56-0eba-4e3d-b569-02a60b33263b"
      },
      "execution_count": null,
      "outputs": [
        {
          "output_type": "execute_result",
          "data": {
            "text/plain": []
          },
          "metadata": {},
          "execution_count": 42
        }
      ]
    },
    {
      "cell_type": "code",
      "source": [
        "%%shell\n",
        "nvprof ./CUDA_conv1d_v3"
      ],
      "metadata": {
        "colab": {
          "base_uri": "https://localhost:8080/"
        },
        "id": "DoEomHK8TSBK",
        "outputId": "65228df2-9134-463b-ed9a-a6b85d8e3ffe"
      },
      "execution_count": null,
      "outputs": [
        {
          "output_type": "stream",
          "name": "stdout",
          "text": [
            "==5179== NVPROF is profiling process 5179, command: ./CUDA_conv1d_v3\n",
            "*** function = Conv 1d with CUDA Kernel Init\n",
            "numElements = 268435456\n",
            "numBlocks = 262144, numThreads = 1024 \n",
            "Error count (CUDA kernel init): 0\n",
            "CUDA Version is Correct\n",
            "First 20 elements of output:\n",
            "1.000000 2.000000 3.000000 4.000000 5.000000 6.000000 7.000000 8.000000 9.000000 10.000000 11.000000 12.000000 13.000000 14.000000 15.000000 16.000000 17.000000 18.000000 19.000000 20.000000 \n",
            "Last 20 elements of output:\n",
            "268435440.000000 268435440.000000 268435440.000000 268435440.000000 268435440.000000 268435440.000000 268435440.000000 268435440.000000 268435440.000000 268435440.000000 268435456.000000 268435456.000000 268435456.000000 268435456.000000 268435456.000000 268435456.000000 268435456.000000 268435456.000000 0.000000 0.000000 \n",
            "==5179== Profiling application: ./CUDA_conv1d_v3\n",
            "==5179== Profiling result:\n",
            "            Type  Time(%)      Time     Calls       Avg       Min       Max  Name\n",
            " GPU activities:   57.78%  361.27ms         1  361.27ms  361.27ms  361.27ms  init_array(unsigned long, float*)\n",
            "                   42.22%  263.96ms        30  8.7986ms  8.7918ms  8.8205ms  conv_1d(unsigned long, float*, float*)\n",
            "      API calls:   63.04%  713.88ms         2  356.94ms  352.59ms  361.28ms  cudaDeviceSynchronize\n",
            "                   16.38%  185.45ms         2  92.726ms  60.641us  185.39ms  cudaMallocManaged\n",
            "                   12.31%  139.36ms         2  69.680ms  40.759ms  98.601ms  cudaFree\n",
            "                    8.23%  93.163ms         3  31.054ms  145.05us  85.055ms  cudaMemPrefetchAsync\n",
            "                    0.03%  364.61us        31  11.761us  3.2810us  151.58us  cudaLaunchKernel\n",
            "                    0.01%  127.48us       114  1.1180us     105ns  51.606us  cuDeviceGetAttribute\n",
            "                    0.00%  16.909us         2  8.4540us  2.2180us  14.691us  cudaMemAdvise\n",
            "                    0.00%  13.101us         1  13.101us  13.101us  13.101us  cuDeviceGetName\n",
            "                    0.00%  4.6650us         1  4.6650us  4.6650us  4.6650us  cuDeviceGetPCIBusId\n",
            "                    0.00%  2.0630us         1  2.0630us  2.0630us  2.0630us  cudaGetDevice\n",
            "                    0.00%  1.1580us         3     386ns     154ns     708ns  cuDeviceGetCount\n",
            "                    0.00%     737ns         2     368ns     237ns     500ns  cuDeviceGet\n",
            "                    0.00%     470ns         1     470ns     470ns     470ns  cuModuleGetLoadingMode\n",
            "                    0.00%     330ns         1     330ns     330ns     330ns  cuDeviceTotalMem\n",
            "                    0.00%     249ns         1     249ns     249ns     249ns  cuDeviceGetUuid\n",
            "\n",
            "==5179== Unified Memory profiling result:\n",
            "Device \"Tesla T4 (0)\"\n",
            "   Count  Avg Size  Min Size  Max Size  Total Size  Total Time  Name\n",
            "     512  2.0000MB  2.0000MB  2.0000MB  1.000000GB  90.51943ms  Host To Device\n",
            "    6656  315.08KB  4.0000KB  2.0000MB  2.000000GB  172.7076ms  Device To Host\n",
            "     512         -         -         -           -  292.9325ms  Gpu page fault groups\n",
            "     512  2.0000MB  2.0000MB  2.0000MB  1.000000GB           -  Remote mapping from device\n",
            "Total CPU Page faults: 3072\n",
            "Total remote mappings to CPU: 512\n"
          ]
        },
        {
          "output_type": "execute_result",
          "data": {
            "text/plain": []
          },
          "metadata": {},
          "execution_count": 43
        }
      ]
    },
    {
      "cell_type": "markdown",
      "source": [
        "# Version 4: Old method of data transfer"
      ],
      "metadata": {
        "id": "kw6vgZz5Ue5m"
      }
    },
    {
      "cell_type": "markdown",
      "source": [
        "Explicit host/device memory management:\n",
        "\n",
        "**Steps**\n",
        "\n",
        "1. Allocate host memory (malloc).\n",
        "2. Allocate device memory (cudaMalloc).\n",
        "3. Copy data:\n",
        "```\n",
        "cudaMemcpy(d_in, h_in, size, cudaMemcpyHostToDevice);  // Host→Device[6][7]\n",
        "```\n",
        "4. Process on GPU.\n",
        "5. Copy results back:\n",
        "```\n",
        "cudaMemcpy(h_out, d_out, size, cudaMemcpyDeviceToHost);  // Device→Host[6][7]\n",
        "```"
      ],
      "metadata": {
        "id": "CxrmdIuuK1Rx"
      }
    },
    {
      "cell_type": "markdown",
      "source": [
        "Analogy: Imagine you’re working in two separate offices — one for the CPU and one for the GPU. If you want to work on a file in the GPU office, you have to physically copy it over from the CPU office.\n",
        "\n",
        "How it works:\n",
        "- You allocate space on the GPU using something called cudaMalloc (like reserving a desk in the GPU office).\n",
        "- You copy your data from the CPU to the GPU with cudaMemcpy (like carrying a box of files from one office to the other).\n",
        "- When you’re done, you copy the results back the same way."
      ],
      "metadata": {
        "id": "cxGYFR8PK1UR"
      }
    },
    {
      "cell_type": "code",
      "source": [
        "%%writefile CUDA_conv1d_v4_1.cu\n",
        "#include <stdio.h>\n",
        "#include <stdlib.h>\n",
        "#include <math.h>\n",
        "#include <cuda_runtime.h>\n",
        "\n",
        "__global__\n",
        "void conv_1d(size_t n, float *out, const float *in) {\n",
        "    int index = blockIdx.x * blockDim.x + threadIdx.x;\n",
        "    int stride = blockDim.x * gridDim.x;\n",
        "\n",
        "    for (int i = index; i < n; i += stride) {\n",
        "        out[i] = (in[i] + in[i + 1] + in[i + 2]) / 3.0f;\n",
        "    }\n",
        "}\n",
        "\n",
        "int main() {\n",
        "    const size_t ARRAY_SIZE = 1 << 28;  // ~268 million elements\n",
        "    const size_t ARRAY_BYTES = ARRAY_SIZE * sizeof(float);\n",
        "    const size_t LOOP_COUNT = 30;\n",
        "\n",
        "    // Host arrays\n",
        "    float *h_in = (float *)malloc(ARRAY_BYTES);\n",
        "    float *h_out = (float *)malloc(ARRAY_BYTES);\n",
        "\n",
        "    if (!h_in || !h_out) {\n",
        "        fprintf(stderr, \"Failed to allocate host memory\\n\");\n",
        "        return -1;\n",
        "    }\n",
        "\n",
        "    // Initialize input on CPU\n",
        "    for (size_t i = 0; i < ARRAY_SIZE; i++) {\n",
        "        h_in[i] = (float)i;\n",
        "    }\n",
        "\n",
        "    // Device pointers\n",
        "    float *d_in = NULL;\n",
        "    float *d_out = NULL;\n",
        "\n",
        "    // Allocate device memory\n",
        "    cudaMalloc((void **)&d_in, ARRAY_BYTES);\n",
        "    cudaMalloc((void **)&d_out, ARRAY_BYTES);\n",
        "\n",
        "    // Copy input data from CPU to GPU\n",
        "    cudaMemcpy(d_in, h_in, ARRAY_BYTES, cudaMemcpyHostToDevice);\n",
        "\n",
        "    // Kernel launch parameters\n",
        "    size_t numThreads = 1024;\n",
        "    size_t numBlocks = (ARRAY_SIZE + numThreads - 1) / numThreads;\n",
        "\n",
        "    printf(\"*** function = Conv 1d (Old cudaMalloc + cudaMemcpy method)\\n\");\n",
        "    printf(\"numElements = %lu\\n\", ARRAY_SIZE);\n",
        "    printf(\"numBlocks = %lu, numThreads = %lu\\n\", numBlocks, numThreads);\n",
        "\n",
        "    for (size_t i = 0; i < LOOP_COUNT; i++) {\n",
        "        conv_1d<<<numBlocks, numThreads>>>(ARRAY_SIZE - 2, d_out, d_in);\n",
        "    }\n",
        "    cudaDeviceSynchronize();\n",
        "\n",
        "    // Copy result back from GPU to CPU\n",
        "    cudaMemcpy(h_out, d_out, ARRAY_BYTES, cudaMemcpyDeviceToHost);\n",
        "\n",
        "    // Verify results\n",
        "    size_t err_count = 0;\n",
        "    for (size_t i = 0; i < ARRAY_SIZE - 2; i++) {\n",
        "        float expected = (h_in[i] + h_in[i + 1] + h_in[i + 2]) / 3.0f;\n",
        "        if (fabs(h_out[i] - expected) > 1e-5) {\n",
        "            err_count++;\n",
        "        }\n",
        "    }\n",
        "\n",
        "    printf(\"Error count (CUDA program): %zu\\n\", err_count);\n",
        "    if (err_count == 0) {\n",
        "        printf(\"CUDA Version is Correct\\n\");\n",
        "    } else {\n",
        "        printf(\"CUDA Version is Incorrect\\n\");\n",
        "    }\n",
        "\n",
        "    printf(\"First 20 elements of output:\\n\");\n",
        "    for (int i = 0; i < 20; i++) {\n",
        "        printf(\"%f \", h_out[i]);\n",
        "    }\n",
        "    printf(\"\\nLast 20 elements of output:\\n\");\n",
        "    for (size_t i = ARRAY_SIZE - 20; i < ARRAY_SIZE; i++) {\n",
        "        printf(\"%f \", h_out[i]);\n",
        "    }\n",
        "    printf(\"\\n\");\n",
        "\n",
        "    // Free memory\n",
        "    cudaFree(d_in);\n",
        "    cudaFree(d_out);\n",
        "    free(h_in);\n",
        "    free(h_out);\n",
        "\n",
        "    return 0;\n",
        "}\n"
      ],
      "metadata": {
        "colab": {
          "base_uri": "https://localhost:8080/"
        },
        "id": "lAOei_vX1rwr",
        "outputId": "c491859a-fc8a-46e2-ee00-d4f49109a316"
      },
      "execution_count": null,
      "outputs": [
        {
          "output_type": "stream",
          "name": "stdout",
          "text": [
            "Writing CUDA_conv1d_v4_1.cu\n"
          ]
        }
      ]
    },
    {
      "cell_type": "code",
      "source": [
        "%%shell\n",
        "nvcc CUDA_conv1d_v4_1.cu -o CUDA_conv1d_v4_1 -arch=sm_75"
      ],
      "metadata": {
        "colab": {
          "base_uri": "https://localhost:8080/"
        },
        "id": "ma5KuONP1xVX",
        "outputId": "fb4641ec-a1d0-40e2-989a-b7f2e6a91e01"
      },
      "execution_count": null,
      "outputs": [
        {
          "output_type": "execute_result",
          "data": {
            "text/plain": []
          },
          "metadata": {},
          "execution_count": 48
        }
      ]
    },
    {
      "cell_type": "code",
      "source": [
        "%%shell\n",
        "nvprof ./CUDA_conv1d_v4_1"
      ],
      "metadata": {
        "colab": {
          "base_uri": "https://localhost:8080/"
        },
        "id": "K89dKzlL1zOH",
        "outputId": "1eef25d7-30fe-463c-c51c-8030f65e91fb"
      },
      "execution_count": null,
      "outputs": [
        {
          "output_type": "stream",
          "name": "stdout",
          "text": [
            "==5326== NVPROF is profiling process 5326, command: ./CUDA_conv1d_v4_1\n",
            "*** function = Conv 1d (Old cudaMalloc + cudaMemcpy method)\n",
            "numElements = 268435456\n",
            "numBlocks = 262144, numThreads = 1024\n",
            "Error count (CUDA program): 0\n",
            "CUDA Version is Correct\n",
            "First 20 elements of output:\n",
            "1.000000 2.000000 3.000000 4.000000 5.000000 6.000000 7.000000 8.000000 9.000000 10.000000 11.000000 12.000000 13.000000 14.000000 15.000000 16.000000 17.000000 18.000000 19.000000 20.000000 \n",
            "Last 20 elements of output:\n",
            "268435440.000000 268435440.000000 268435440.000000 268435440.000000 268435440.000000 268435440.000000 268435440.000000 268435440.000000 268435440.000000 268435440.000000 268435456.000000 268435456.000000 268435456.000000 268435456.000000 268435456.000000 268435456.000000 268435456.000000 268435456.000000 0.000000 0.000000 \n",
            "==5326== Profiling application: ./CUDA_conv1d_v4_1\n",
            "==5326== Profiling result:\n",
            "            Type  Time(%)      Time     Calls       Avg       Min       Max  Name\n",
            " GPU activities:   56.40%  724.57ms         1  724.57ms  724.57ms  724.57ms  [CUDA memcpy DtoH]\n",
            "                   25.95%  333.36ms        30  11.112ms  8.8331ms  14.625ms  conv_1d(unsigned long, float*, float const *)\n",
            "                   17.65%  226.73ms         1  226.73ms  226.73ms  226.73ms  [CUDA memcpy HtoD]\n",
            "      API calls:   65.60%  952.81ms         2  476.41ms  226.90ms  725.91ms  cudaMemcpy\n",
            "                   22.94%  333.26ms         1  333.26ms  333.26ms  333.26ms  cudaDeviceSynchronize\n",
            "                   11.16%  162.13ms         2  81.065ms  140.85us  161.99ms  cudaMalloc\n",
            "                    0.26%  3.7904ms         2  1.8952ms  1.0951ms  2.6954ms  cudaFree\n",
            "                    0.02%  298.00us        30  9.9330us  3.2030us  176.99us  cudaLaunchKernel\n",
            "                    0.01%  128.32us       114  1.1250us     103ns  52.947us  cuDeviceGetAttribute\n",
            "                    0.00%  10.981us         1  10.981us  10.981us  10.981us  cuDeviceGetName\n",
            "                    0.00%  6.7510us         1  6.7510us  6.7510us  6.7510us  cuDeviceGetPCIBusId\n",
            "                    0.00%  2.1250us         1  2.1250us  2.1250us  2.1250us  cuModuleGetLoadingMode\n",
            "                    0.00%  1.2520us         3     417ns     138ns     826ns  cuDeviceGetCount\n",
            "                    0.00%     898ns         2     449ns     210ns     688ns  cuDeviceGet\n",
            "                    0.00%     394ns         1     394ns     394ns     394ns  cuDeviceTotalMem\n",
            "                    0.00%     246ns         1     246ns     246ns     246ns  cuDeviceGetUuid\n"
          ]
        },
        {
          "output_type": "execute_result",
          "data": {
            "text/plain": []
          },
          "metadata": {},
          "execution_count": 49
        }
      ]
    }
  ]
}