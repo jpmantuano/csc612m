{
  "nbformat": 4,
  "nbformat_minor": 0,
  "metadata": {
    "colab": {
      "provenance": [],
      "gpuType": "T4",
      "collapsed_sections": [
        "LTplKN2sM3T-",
        "wi3j6_5ZNaJP"
      ],
      "toc_visible": true,
      "authorship_tag": "ABX9TyO9WdfNHY0hw1DO0DR/wkdN",
      "include_colab_link": true
    },
    "kernelspec": {
      "name": "python3",
      "display_name": "Python 3"
    },
    "language_info": {
      "name": "python"
    },
    "accelerator": "GPU"
  },
  "cells": [
    {
      "cell_type": "markdown",
      "metadata": {
        "id": "view-in-github",
        "colab_type": "text"
      },
      "source": [
        "<a href=\"https://colab.research.google.com/github/jpmantuano/csc612m/blob/main/Discovery_Series_01_Understanding_CUDA.ipynb\" target=\"_parent\"><img src=\"https://colab.research.google.com/assets/colab-badge.svg\" alt=\"Open In Colab\"/></a>"
      ]
    },
    {
      "cell_type": "markdown",
      "source": [
        "Joseph Paulo L Mantuano"
      ],
      "metadata": {
        "id": "iRaovukV2lIM"
      }
    },
    {
      "cell_type": "markdown",
      "source": [
        "## 1: C/C++ program version"
      ],
      "metadata": {
        "id": "Rrxt5ahV4cD0"
      }
    },
    {
      "cell_type": "code",
      "execution_count": null,
      "metadata": {
        "id": "D2wNQEeE1sFb"
      },
      "outputs": [],
      "source": [
        "%%writefile convolve.cpp\n",
        "#include <iostream>\n",
        "#include <vector>\n",
        "#include <ctime>\n",
        "#include <cstdio>\n",
        "\n",
        "void convolve1D(const std::vector<float>& in, std::vector<float>& out) {\n",
        "    int n = in.size();\n",
        "    if (n < 3) {\n",
        "        out.clear();\n",
        "        return;\n",
        "    }\n",
        "    out.resize(n - 2);\n",
        "    for (int i = 0; i < n - 2; ++i) {\n",
        "        out[i] = (in[i] + in[i + 1] + in[i + 2]) / 3.0f;\n",
        "    }\n",
        "}\n",
        "\n",
        "int main() {\n",
        "    int arr[] = {\n",
        "      256,\n",
        "      1024,\n",
        "      16777216, //2^24\n",
        "      67108864, //2^26\n",
        "      268435456 //2^28\n",
        "    };\n",
        "\n",
        "    int length = sizeof(arr) / sizeof(arr[0]);\n",
        "\n",
        "    for (int j = 0; j < length; j++) {\n",
        "\n",
        "        std::vector<float> _in_(arr[j]);\n",
        "\n",
        "        for (int i = 0; i < arr[j]; ++i) {\n",
        "            _in_[i] = static_cast<float>(i + 1);\n",
        "        }\n",
        "        std::vector<float> _out_;\n",
        "\n",
        "      clock_t start, end;\n",
        "      double cpu_time_used;\n",
        "      double sum = 0.0;\n",
        "\n",
        "      for (int run = 0; run < 10; run++) {\n",
        "        start = clock();  // Start time\n",
        "        convolve1D(_in_, _out_);\n",
        "        end = clock(); // End time\n",
        "\n",
        "        cpu_time_used = ((double) (end - start)) / CLOCKS_PER_SEC;\n",
        "        sum += cpu_time_used;\n",
        "      }\n",
        "\n",
        "      double avg_time = sum / 10;\n",
        "      printf(\"Average execution time for %d inputs: %.6f seconds\\n\", arr[j], avg_time);\n",
        "    }\n",
        "\n",
        "    return 0;\n",
        "}"
      ]
    },
    {
      "cell_type": "code",
      "source": [
        "%%shell\n",
        "g++ -o convolve convolve.cpp"
      ],
      "metadata": {
        "id": "D6BZWpWT57Qg"
      },
      "execution_count": null,
      "outputs": []
    },
    {
      "cell_type": "code",
      "source": [
        "%%shell\n",
        "./convolve"
      ],
      "metadata": {
        "id": "XRZPmwjx69bT"
      },
      "execution_count": null,
      "outputs": []
    },
    {
      "cell_type": "markdown",
      "source": [],
      "metadata": {
        "id": "c50kgcWPx1V-"
      }
    },
    {
      "cell_type": "markdown",
      "source": [
        "### CPU execution time (at least ten runs): ###"
      ],
      "metadata": {
        "id": "f6bj6uA9xw_r"
      }
    },
    {
      "cell_type": "markdown",
      "source": [
        "Execution time in milliseconds.  Multiple kernel run is based on average execution time."
      ],
      "metadata": {
        "id": "UeztIvgoxrTB"
      }
    },
    {
      "cell_type": "markdown",
      "source": [
        "| Number of elements | Avg. execution time |\n",
        "| ------------------ | ------------------- |\n",
        "| 256                | 0.005 ms            |\n",
        "| 1024               | 0.017 ms            |\n",
        "| 2^24               | 191.308 ms          |\n",
        "| 2^26               | 843.958 ms          |\n",
        "| 2^28               | 3345.247 ms         |"
      ],
      "metadata": {
        "id": "zvKi09rDx_mH"
      }
    },
    {
      "cell_type": "markdown",
      "source": [
        "## 2: CUDA program version using grid-stride loop without prefetch"
      ],
      "metadata": {
        "id": "nBbuHtKo7_wZ"
      }
    },
    {
      "cell_type": "code",
      "source": [
        "%%writefile CUDA_convolve.cu\n",
        "#include <stdio.h>\n",
        "#include <stdlib.h>\n",
        "#include <iostream>\n",
        "#include <vector>\n",
        "\n",
        "__global__ void conv1d_kernel(const float* in, float* out, int n) {\n",
        "  int idx = blockIdx.x * blockDim.x + threadIdx.x;\n",
        "  int stride = blockDim.x * gridDim.x;\n",
        "  for (int i = idx; i < n - 2; i += stride) {\n",
        "      out[i] = (in[i] + in[i + 1] + in[i + 2]) / 3.0f;\n",
        "  }\n",
        "}\n",
        "\n",
        "int main(int argc, char* argv[]) {\n",
        "    if (argc < 2) {\n",
        "        std::cerr << \"Usage: \" << argv[0] << \" <N>\" << std::endl;\n",
        "        return 1;\n",
        "    }\n",
        "\n",
        "    int N = std::atoi(argv[1]);\n",
        "    if (N <= 0) {\n",
        "        std::cerr << \"N must be a positive integer.\" << std::endl;\n",
        "        return 1;\n",
        "    }\n",
        "\n",
        "    // const int N = 256;\n",
        "\n",
        "    // Use vector for dynamic size and easy modification\n",
        "    std::vector<float> h_in(N);\n",
        "    std::vector<float> h_out(N, 0.0f);\n",
        "\n",
        "    // Initialize h_in with values 1.0, 2.0, 3.0, ..., N\n",
        "    for (int i = 0; i < N; ++i) {\n",
        "        h_in[i] = static_cast<float>(i + 1);\n",
        "    }\n",
        "\n",
        "    float *d_in = nullptr, *d_out = nullptr;\n",
        "    cudaMalloc(&d_in, N * sizeof(float));\n",
        "    cudaMalloc(&d_out, N * sizeof(float));\n",
        "\n",
        "    cudaMemcpy(d_in, h_in.data(), N * sizeof(float), cudaMemcpyHostToDevice);\n",
        "\n",
        "    int threadsPerBlock = 1024;\n",
        "    int blocksPerGrid = (N + threadsPerBlock - 1) / threadsPerBlock;\n",
        "//    int threadsPerBlock = (N < 1024) ? N : 1024;\n",
        "//    int blocksPerGrid = 1;\n",
        "\n",
        "    conv1d_kernel<<<blocksPerGrid, threadsPerBlock>>>(d_in, d_out, N);\n",
        "    cudaDeviceSynchronize();\n",
        "\n",
        "    cudaMemcpy(h_out.data(), d_out, N * sizeof(float), cudaMemcpyDeviceToHost);\n",
        "\n",
        "//    std::cout << \"Convolution output:\\n\";\n",
        "//    for (int i = 0; i < N - 2; ++i) {\n",
        "//        std::cout << h_out[i] << \" \";\n",
        "//    }\n",
        "//    std::cout << std::endl;\n",
        "\n",
        "    cudaFree(d_in);\n",
        "    cudaFree(d_out);\n",
        "\n",
        "    return 0;\n",
        "}"
      ],
      "metadata": {
        "id": "nMO62VMY8BJq",
        "colab": {
          "base_uri": "https://localhost:8080/"
        },
        "outputId": "7ebc1f42-e60c-4d3a-e270-08a8e4eb925e"
      },
      "execution_count": null,
      "outputs": [
        {
          "output_type": "stream",
          "name": "stdout",
          "text": [
            "Overwriting CUDA_convolve.cu\n"
          ]
        }
      ]
    },
    {
      "cell_type": "code",
      "source": [
        "%%shell\n",
        "nvcc CUDA_convolve.cu -o CUDA_convolve -arch=sm_75"
      ],
      "metadata": {
        "id": "0lbGZX5HG-t-",
        "colab": {
          "base_uri": "https://localhost:8080/"
        },
        "outputId": "3f149ce6-3830-4fe1-dbe2-e4b9a91ce946"
      },
      "execution_count": null,
      "outputs": [
        {
          "output_type": "execute_result",
          "data": {
            "text/plain": []
          },
          "metadata": {},
          "execution_count": 18
        }
      ]
    },
    {
      "cell_type": "code",
      "source": [
        "%%shell\n",
        "./CUDA_convolve 16777216"
      ],
      "metadata": {
        "id": "nBPUQsTZIYJO"
      },
      "execution_count": null,
      "outputs": []
    },
    {
      "cell_type": "code",
      "source": [
        "%%shell\n",
        "nvprof --unified-memory-profiling per-process-device --print-gpu-trace ./CUDA_convolve 16777216"
      ],
      "metadata": {
        "id": "C-hcFO2zH6hP",
        "colab": {
          "base_uri": "https://localhost:8080/"
        },
        "outputId": "ee4d81c2-324d-4c03-8dd4-bc1e858b0d63"
      },
      "execution_count": null,
      "outputs": [
        {
          "output_type": "stream",
          "name": "stdout",
          "text": [
            "==12260== NVPROF is profiling process 12260, command: ./CUDA_convolve 16777216\n",
            "==12260== Profiling application: ./CUDA_convolve 16777216\n",
            "==12260== Profiling result:\n",
            "   Start  Duration            Grid Size      Block Size     Regs*    SSMem*    DSMem*      Size  Throughput  SrcMemType  DstMemType           Device   Context    Stream  Name\n",
            "317.10ms  13.991ms                    -               -         -         -         -  64.000MB  4.4671GB/s    Pageable      Device     Tesla T4 (0)         1         7  [CUDA memcpy HtoD]\n",
            "331.15ms  1.1654ms          (16384 1 1)      (1024 1 1)        21        0B        0B         -           -           -           -     Tesla T4 (0)         1         7  conv1d_kernel(float const *, float*, int) [128]\n",
            "332.33ms  14.510ms                    -               -         -         -         -  64.000MB  4.3074GB/s      Device    Pageable     Tesla T4 (0)         1         7  [CUDA memcpy DtoH]\n",
            "\n",
            "Regs: Number of registers used per CUDA thread. This number includes registers used internally by the CUDA driver and/or tools and can be more than what the compiler shows.\n",
            "SSMem: Static shared memory allocated per CUDA block.\n",
            "DSMem: Dynamic shared memory allocated per CUDA block.\n",
            "SrcMemType: The type of source memory accessed by memory operation/copy\n",
            "DstMemType: The type of destination memory accessed by memory operation/copy\n"
          ]
        },
        {
          "output_type": "execute_result",
          "data": {
            "text/plain": []
          },
          "metadata": {},
          "execution_count": 20
        }
      ]
    },
    {
      "cell_type": "code",
      "source": [
        "%%shell\n",
        "nvprof ./CUDA_convolve 16777216"
      ],
      "metadata": {
        "id": "83S7FwP-ZoQD",
        "colab": {
          "base_uri": "https://localhost:8080/"
        },
        "outputId": "abdf19f0-4c1b-4a23-c0a3-af9a2a7f79bc"
      },
      "execution_count": null,
      "outputs": [
        {
          "output_type": "stream",
          "name": "stdout",
          "text": [
            "==12165== NVPROF is profiling process 12165, command: ./CUDA_convolve 16777216\n",
            "==12165== Profiling application: ./CUDA_convolve 16777216\n",
            "==12165== Profiling result:\n",
            "            Type  Time(%)      Time     Calls       Avg       Min       Max  Name\n",
            " GPU activities:   49.25%  14.854ms         1  14.854ms  14.854ms  14.854ms  [CUDA memcpy DtoH]\n",
            "                   46.89%  14.142ms         1  14.142ms  14.142ms  14.142ms  [CUDA memcpy HtoD]\n",
            "                    3.86%  1.1656ms         1  1.1656ms  1.1656ms  1.1656ms  conv1d_kernel(float const *, float*, int)\n",
            "      API calls:   85.14%  185.37ms         2  92.687ms  89.895us  185.28ms  cudaMalloc\n",
            "                   13.60%  29.615ms         2  14.808ms  14.349ms  15.266ms  cudaMemcpy\n",
            "                    0.59%  1.2815ms         2  640.75us  157.40us  1.1241ms  cudaFree\n",
            "                    0.54%  1.1685ms         1  1.1685ms  1.1685ms  1.1685ms  cudaDeviceSynchronize\n",
            "                    0.06%  134.99us       114  1.1840us     105ns  56.107us  cuDeviceGetAttribute\n",
            "                    0.06%  131.39us         1  131.39us  131.39us  131.39us  cudaLaunchKernel\n",
            "                    0.01%  17.680us         1  17.680us  17.680us  17.680us  cuDeviceGetName\n",
            "                    0.00%  5.2170us         1  5.2170us  5.2170us  5.2170us  cuDeviceGetPCIBusId\n",
            "                    0.00%  1.2950us         3     431ns     147ns     932ns  cuDeviceGetCount\n",
            "                    0.00%     811ns         2     405ns     137ns     674ns  cuDeviceGet\n",
            "                    0.00%     541ns         1     541ns     541ns     541ns  cuModuleGetLoadingMode\n",
            "                    0.00%     356ns         1     356ns     356ns     356ns  cuDeviceTotalMem\n",
            "                    0.00%     270ns         1     270ns     270ns     270ns  cuDeviceGetUuid\n"
          ]
        },
        {
          "output_type": "execute_result",
          "data": {
            "text/plain": []
          },
          "metadata": {},
          "execution_count": 19
        }
      ]
    },
    {
      "cell_type": "code",
      "source": [
        "%%shell\n",
        "for i in {1..10}\n",
        "do\n",
        "  nvprof ./CUDA_convolve 16777216 2>&1 | tee run_$i.log\n",
        "done"
      ],
      "metadata": {
        "id": "0vvVFsl-S7wD"
      },
      "execution_count": null,
      "outputs": []
    },
    {
      "cell_type": "markdown",
      "source": [
        "### Execution time in milliseconds.  Multiple kernel run is based on average execution time. ###"
      ],
      "metadata": {
        "id": "eVS5LmQxyOBw"
      }
    },
    {
      "cell_type": "markdown",
      "source": [
        "a.) Number of blocks/grid = 1\n",
        "\n",
        "| Block size (2^24 elements) | Single kernel run | Multiple kernel run |\n",
        "| -------------------------- | ----------------- | ------------------- |\n",
        "| Block size = 1024          | 12.633ms          | 12.6288ms           |"
      ],
      "metadata": {
        "id": "doyVVpRsyOLG"
      }
    },
    {
      "cell_type": "markdown",
      "source": [
        "b.) Number of blocks/grid = max (as per formula)\n",
        "\n",
        "| Block size (2^24 elements) | Single kernel run | multiple kernel run |\n",
        "| -------------------------- | ----------------- | ------------------- |\n",
        "| Block size = 1024          | 1.1660 ms         | 1.1668 ms           |"
      ],
      "metadata": {
        "id": "6X5Sygt4yONc"
      }
    },
    {
      "cell_type": "markdown",
      "source": [
        "c.) Unified memory profile - data transfer (2^24 elements)\n",
        "\n",
        "| Type           | Total size | Total time |\n",
        "| -------------- | ---------- | ---------- |\n",
        "| host to device | 64 MB      | 14.217ms   |\n",
        "| device to host | 64 MB      | 14.899ms   |"
      ],
      "metadata": {
        "id": "x2qZ-pxTyOP1"
      }
    },
    {
      "cell_type": "markdown",
      "source": [
        "d.) Unified memory profile - page fault (2^24 elements)\n",
        "\n",
        "| Type                 | Count | Total time |\n",
        "| -------------------- | ----- | ---------- |\n",
        "| GPU page fault group |       |            |\n",
        "| CPU Page fault group |       | -----      |"
      ],
      "metadata": {
        "id": "pp76TLJKyOSK"
      }
    },
    {
      "cell_type": "markdown",
      "source": [
        "a.) What is the effect of having one block only vs. max block in terms of execution time?  Why is it so?\n",
        "- The number of blocks allows the increase parallelism and utilization of GPU resources. Having one block, all executions are processed in a single GPU processor while having max blocks allows the exploit of maximizing GPU processors.\n",
        "\n",
        "b.) What is the effect of single run vs multiple run in terms of execution time? Why is it so?\n",
        "- The average execution time decreases if taken after multiple runs vs a single run. Because in a multiple run there is a cache effect after transferring the data after the first run making the succeeding runs faster because of lower overhead compared to a single run.\n",
        "\n",
        "c.) In the unified memory profile, is the data transfer time included in the GPU execution time?  Explain your answer.\n",
        "- the data transfer time is generally included in the GPU execution time reported by the profiler. The amount of time taken to move data from host to device and device to host for processing by the GPU.\n",
        "\n",
        "d.)  In the unified memory profile, is the page fault time included in the GPU execution time?  Explain your answer.\n",
        "- No, the code uses cudaMalloc which does explicit memory allocations and not unified memory.\n",
        "\n",
        "e.) What is the speedup (or speed down) of the execution time of GPU (including all the overhead) compare to C/C++? Is GPU execution time better or worse?\n",
        "- In general the GPU execution is faster, even on the one block runs. But when running with smaller number of elements for computation the difference between GPU runtime vs CPU runtime is smaller. Probably due to the amount of processing needed with smaller data, the advantage of using GPU for processing decreases."
      ],
      "metadata": {
        "id": "zosA9xb2ymDU"
      }
    },
    {
      "cell_type": "markdown",
      "source": [
        "## 3: CUDA Program Version Using Grid-Stride Loop With Prefetching"
      ],
      "metadata": {
        "id": "LTplKN2sM3T-"
      }
    },
    {
      "cell_type": "code",
      "source": [
        "%%writefile CUDA_convolve_prefetch.cu\n",
        "#include <stdio.h>\n",
        "#include <stdlib.h>\n",
        "#include <iostream>\n",
        "\n",
        "__global__ void conv1d_kernel(const float* __restrict__ in, float* __restrict__ out, int n) {\n",
        "    int idx = blockIdx.x * blockDim.x + threadIdx.x;\n",
        "    int stride = blockDim.x * gridDim.x;\n",
        "\n",
        "    for (int i = idx; i < n - 2; i += stride) {\n",
        "        out[i] = (in[i] + in[i + 1] + in[i + 2]) / 3.0f;\n",
        "    }\n",
        "}\n",
        "\n",
        "int main(int argc, char* argv[]) {\n",
        "    if (argc < 2) {\n",
        "        std::cerr << \"Usage: \" << argv[0] << \" <N>\" << std::endl;\n",
        "        return 1;\n",
        "    }\n",
        "\n",
        "    int N = std::atoi(argv[1]);\n",
        "    if (N <= 0) {\n",
        "        std::cerr << \"N must be a positive integer.\" << std::endl;\n",
        "        return 1;\n",
        "    }\n",
        "\n",
        "    // const int N = 256;\n",
        "\n",
        "    float *h_in = nullptr;\n",
        "    float *h_out = nullptr;\n",
        "\n",
        "    // Allocate unified memory (managed memory)\n",
        "    cudaMallocManaged(&h_in, N * sizeof(float));\n",
        "    cudaMallocManaged(&h_out, N * sizeof(float));\n",
        "\n",
        "    // Initialize input\n",
        "    for (int i = 0; i < N; ++i) {\n",
        "        h_in[i] = float(i + 1);\n",
        "        h_out[i] = 0.0f;\n",
        "    }\n",
        "\n",
        "    // Prefetch input and output to GPU\n",
        "    int device = -1;\n",
        "    cudaGetDevice(&device);\n",
        "    cudaMemPrefetchAsync(h_in, N * sizeof(float), device);\n",
        "    cudaMemPrefetchAsync(h_out, N * sizeof(float), device);\n",
        "\n",
        "    int threadsPerBlock = 1024;\n",
        "    int blocksPerGrid = (N + threadsPerBlock - 1) / threadsPerBlock;\n",
        "//    int threadsPerBlock = (N < 1024) ? N : 1024;\n",
        "//    int blocksPerGrid = 1;\n",
        "\n",
        "    conv1d_kernel<<<blocksPerGrid, threadsPerBlock>>>(h_in, h_out, N);\n",
        "    cudaDeviceSynchronize();\n",
        "\n",
        "    // Prefetch output back to CPU (optional)\n",
        "    cudaMemPrefetchAsync(h_out, N * sizeof(float), cudaCpuDeviceId);\n",
        "\n",
        "    cudaDeviceSynchronize();\n",
        "\n",
        "//    std::cout << \"Convolution output:\\n\";\n",
        "//    for (int i = 0; i < N - 2; ++i) {\n",
        "//        std::cout << h_out[i] << \" \";\n",
        "//    }\n",
        "//    std::cout << std::endl;\n",
        "\n",
        "    cudaFree(h_in);\n",
        "    cudaFree(h_out);\n",
        "\n",
        "    return 0;\n",
        "}"
      ],
      "metadata": {
        "id": "rBdYxPsHM4PN",
        "colab": {
          "base_uri": "https://localhost:8080/"
        },
        "outputId": "b0116cd3-9cb8-4700-b2b7-dbe6029ea54c"
      },
      "execution_count": null,
      "outputs": [
        {
          "output_type": "stream",
          "name": "stdout",
          "text": [
            "Writing CUDA_convolve_prefetch.cu\n"
          ]
        }
      ]
    },
    {
      "cell_type": "code",
      "source": [
        "%%shell\n",
        "nvcc CUDA_convolve_prefetch.cu -o CUDA_convolve_prefetch -arch=sm_75"
      ],
      "metadata": {
        "id": "nYzY4bhuNGzi",
        "colab": {
          "base_uri": "https://localhost:8080/"
        },
        "outputId": "74ef2d8b-5e5b-4f3e-f9f3-4ef05b00a409"
      },
      "execution_count": null,
      "outputs": [
        {
          "output_type": "execute_result",
          "data": {
            "text/plain": []
          },
          "metadata": {},
          "execution_count": 10
        }
      ]
    },
    {
      "cell_type": "code",
      "source": [
        "%%shell\n",
        "./CUDA_convolve_prefetch 16777216"
      ],
      "metadata": {
        "id": "NkBwBp99NG15"
      },
      "execution_count": null,
      "outputs": []
    },
    {
      "cell_type": "code",
      "source": [
        "%%shell\n",
        "nvprof --unified-memory-profiling per-process-device --print-gpu-trace ./CUDA_convolve_prefetch 16777216"
      ],
      "metadata": {
        "id": "XNC33JJLcZBx",
        "colab": {
          "base_uri": "https://localhost:8080/"
        },
        "outputId": "096d8d02-2e72-4c7e-cd0a-6172847d6a82"
      },
      "execution_count": null,
      "outputs": [
        {
          "output_type": "stream",
          "name": "stdout",
          "text": [
            "==9062== NVPROF is profiling process 9062, command: ./CUDA_convolve_prefetch 16777216\n",
            "==9062== Profiling application: ./CUDA_convolve_prefetch 16777216\n",
            "==9062== Profiling result:\n",
            "   Start  Duration            Grid Size      Block Size     Regs*    SSMem*    DSMem*           Device   Context    Stream        Unified Memory  Virtual Address  Name\n",
            "337.80ms         -                    -               -         -         -         -                -         -         -         PC 0x45828d6e   0x7ec76a000000  [Unified Memory CPU page faults]\n",
            "338.27ms         -                    -               -         -         -         -                -         -         -         PC 0x45828d86   0x7ec766000000  [Unified Memory CPU page faults]\n",
            "338.71ms         -                    -               -         -         -         -                -         -         -         PC 0x45828d6e   0x7ec76a010000  [Unified Memory CPU page faults]\n",
            "338.75ms         -                    -               -         -         -         -                -         -         -         PC 0x45828d86   0x7ec766010000  [Unified Memory CPU page faults]\n",
            "338.83ms         -                    -               -         -         -         -                -         -         -         PC 0x45828d6e   0x7ec76a020000  [Unified Memory CPU page faults]\n",
            "338.87ms         -                    -               -         -         -         -                -         -         -         PC 0x45828d86   0x7ec766020000  [Unified Memory CPU page faults]\n",
            "339.00ms         -                    -               -         -         -         -                -         -         -         PC 0x45828d6e   0x7ec76a040000  [Unified Memory CPU page faults]\n",
            "339.04ms         -                    -               -         -         -         -                -         -         -         PC 0x45828d86   0x7ec766040000  [Unified Memory CPU page faults]\n",
            "339.30ms         -                    -               -         -         -         -                -         -         -         PC 0x45828d6e   0x7ec76a080000  [Unified Memory CPU page faults]\n",
            "339.36ms         -                    -               -         -         -         -                -         -         -         PC 0x45828d86   0x7ec766080000  [Unified Memory CPU page faults]\n",
            "339.78ms         -                    -               -         -         -         -                -         -         -         PC 0x45828d6e   0x7ec76a100000  [Unified Memory CPU page faults]\n",
            "339.88ms         -                    -               -         -         -         -                -         -         -         PC 0x45828d86   0x7ec766100000  [Unified Memory CPU page faults]\n",
            "340.70ms         -                    -               -         -         -         -                -         -         -         PC 0x45828d6e   0x7ec76a200000  [Unified Memory CPU page faults]\n",
            "341.13ms         -                    -               -         -         -         -                -         -         -         PC 0x45828d86   0x7ec766200000  [Unified Memory CPU page faults]\n",
            "341.58ms         -                    -               -         -         -         -                -         -         -         PC 0x45828d6e   0x7ec76a210000  [Unified Memory CPU page faults]\n",
            "341.61ms         -                    -               -         -         -         -                -         -         -         PC 0x45828d86   0x7ec766210000  [Unified Memory CPU page faults]\n",
            "341.69ms         -                    -               -         -         -         -                -         -         -         PC 0x45828d6e   0x7ec76a220000  [Unified Memory CPU page faults]\n",
            "341.73ms         -                    -               -         -         -         -                -         -         -         PC 0x45828d86   0x7ec766220000  [Unified Memory CPU page faults]\n",
            "341.86ms         -                    -               -         -         -         -                -         -         -         PC 0x45828d6e   0x7ec76a240000  [Unified Memory CPU page faults]\n",
            "341.91ms         -                    -               -         -         -         -                -         -         -         PC 0x45828d86   0x7ec766240000  [Unified Memory CPU page faults]\n",
            "342.18ms         -                    -               -         -         -         -                -         -         -         PC 0x45828d6e   0x7ec76a280000  [Unified Memory CPU page faults]\n",
            "342.24ms         -                    -               -         -         -         -                -         -         -         PC 0x45828d86   0x7ec766280000  [Unified Memory CPU page faults]\n",
            "342.70ms         -                    -               -         -         -         -                -         -         -         PC 0x45828d6e   0x7ec76a300000  [Unified Memory CPU page faults]\n",
            "342.80ms         -                    -               -         -         -         -                -         -         -         PC 0x45828d86   0x7ec766300000  [Unified Memory CPU page faults]\n",
            "343.61ms         -                    -               -         -         -         -                -         -         -         PC 0x45828d6e   0x7ec76a400000  [Unified Memory CPU page faults]\n",
            "344.00ms         -                    -               -         -         -         -                -         -         -         PC 0x45828d86   0x7ec766400000  [Unified Memory CPU page faults]\n",
            "344.45ms         -                    -               -         -         -         -                -         -         -         PC 0x45828d6e   0x7ec76a410000  [Unified Memory CPU page faults]\n",
            "344.49ms         -                    -               -         -         -         -                -         -         -         PC 0x45828d86   0x7ec766410000  [Unified Memory CPU page faults]\n",
            "344.57ms         -                    -               -         -         -         -                -         -         -         PC 0x45828d6e   0x7ec76a420000  [Unified Memory CPU page faults]\n",
            "344.60ms         -                    -               -         -         -         -                -         -         -         PC 0x45828d86   0x7ec766420000  [Unified Memory CPU page faults]\n",
            "344.74ms         -                    -               -         -         -         -                -         -         -         PC 0x45828d6e   0x7ec76a440000  [Unified Memory CPU page faults]\n",
            "344.78ms         -                    -               -         -         -         -                -         -         -         PC 0x45828d86   0x7ec766440000  [Unified Memory CPU page faults]\n",
            "345.02ms         -                    -               -         -         -         -                -         -         -         PC 0x45828d6e   0x7ec76a480000  [Unified Memory CPU page faults]\n",
            "345.10ms         -                    -               -         -         -         -                -         -         -         PC 0x45828d86   0x7ec766480000  [Unified Memory CPU page faults]\n",
            "345.53ms         -                    -               -         -         -         -                -         -         -         PC 0x45828d6e   0x7ec76a500000  [Unified Memory CPU page faults]\n",
            "345.63ms         -                    -               -         -         -         -                -         -         -         PC 0x45828d86   0x7ec766500000  [Unified Memory CPU page faults]\n",
            "346.43ms         -                    -               -         -         -         -                -         -         -         PC 0x45828d6e   0x7ec76a600000  [Unified Memory CPU page faults]\n",
            "346.84ms         -                    -               -         -         -         -                -         -         -         PC 0x45828d86   0x7ec766600000  [Unified Memory CPU page faults]\n",
            "347.28ms         -                    -               -         -         -         -                -         -         -         PC 0x45828d6e   0x7ec76a610000  [Unified Memory CPU page faults]\n",
            "347.31ms         -                    -               -         -         -         -                -         -         -         PC 0x45828d86   0x7ec766610000  [Unified Memory CPU page faults]\n",
            "347.40ms         -                    -               -         -         -         -                -         -         -         PC 0x45828d6e   0x7ec76a620000  [Unified Memory CPU page faults]\n",
            "347.43ms         -                    -               -         -         -         -                -         -         -         PC 0x45828d86   0x7ec766620000  [Unified Memory CPU page faults]\n",
            "347.57ms         -                    -               -         -         -         -                -         -         -         PC 0x45828d6e   0x7ec76a640000  [Unified Memory CPU page faults]\n",
            "347.61ms         -                    -               -         -         -         -                -         -         -         PC 0x45828d86   0x7ec766640000  [Unified Memory CPU page faults]\n",
            "347.85ms         -                    -               -         -         -         -                -         -         -         PC 0x45828d6e   0x7ec76a680000  [Unified Memory CPU page faults]\n",
            "347.92ms         -                    -               -         -         -         -                -         -         -         PC 0x45828d86   0x7ec766680000  [Unified Memory CPU page faults]\n",
            "348.37ms         -                    -               -         -         -         -                -         -         -         PC 0x45828d6e   0x7ec76a700000  [Unified Memory CPU page faults]\n",
            "348.47ms         -                    -               -         -         -         -                -         -         -         PC 0x45828d86   0x7ec766700000  [Unified Memory CPU page faults]\n",
            "349.27ms         -                    -               -         -         -         -                -         -         -         PC 0x45828d6e   0x7ec76a800000  [Unified Memory CPU page faults]\n",
            "349.68ms         -                    -               -         -         -         -                -         -         -         PC 0x45828d86   0x7ec766800000  [Unified Memory CPU page faults]\n",
            "350.13ms         -                    -               -         -         -         -                -         -         -         PC 0x45828d6e   0x7ec76a810000  [Unified Memory CPU page faults]\n",
            "350.16ms         -                    -               -         -         -         -                -         -         -         PC 0x45828d86   0x7ec766810000  [Unified Memory CPU page faults]\n",
            "350.25ms         -                    -               -         -         -         -                -         -         -         PC 0x45828d6e   0x7ec76a820000  [Unified Memory CPU page faults]\n",
            "350.29ms         -                    -               -         -         -         -                -         -         -         PC 0x45828d86   0x7ec766820000  [Unified Memory CPU page faults]\n",
            "350.44ms         -                    -               -         -         -         -                -         -         -         PC 0x45828d6e   0x7ec76a840000  [Unified Memory CPU page faults]\n",
            "350.48ms         -                    -               -         -         -         -                -         -         -         PC 0x45828d86   0x7ec766840000  [Unified Memory CPU page faults]\n",
            "350.72ms         -                    -               -         -         -         -                -         -         -         PC 0x45828d6e   0x7ec76a880000  [Unified Memory CPU page faults]\n",
            "350.79ms         -                    -               -         -         -         -                -         -         -         PC 0x45828d86   0x7ec766880000  [Unified Memory CPU page faults]\n",
            "351.22ms         -                    -               -         -         -         -                -         -         -         PC 0x45828d6e   0x7ec76a900000  [Unified Memory CPU page faults]\n",
            "351.32ms         -                    -               -         -         -         -                -         -         -         PC 0x45828d86   0x7ec766900000  [Unified Memory CPU page faults]\n",
            "352.13ms         -                    -               -         -         -         -                -         -         -         PC 0x45828d6e   0x7ec76aa00000  [Unified Memory CPU page faults]\n",
            "352.53ms         -                    -               -         -         -         -                -         -         -         PC 0x45828d86   0x7ec766a00000  [Unified Memory CPU page faults]\n",
            "352.96ms         -                    -               -         -         -         -                -         -         -         PC 0x45828d6e   0x7ec76aa10000  [Unified Memory CPU page faults]\n",
            "353.00ms         -                    -               -         -         -         -                -         -         -         PC 0x45828d86   0x7ec766a10000  [Unified Memory CPU page faults]\n",
            "353.10ms         -                    -               -         -         -         -                -         -         -         PC 0x45828d6e   0x7ec76aa20000  [Unified Memory CPU page faults]\n",
            "353.17ms         -                    -               -         -         -         -                -         -         -         PC 0x45828d86   0x7ec766a20000  [Unified Memory CPU page faults]\n",
            "353.32ms         -                    -               -         -         -         -                -         -         -         PC 0x45828d6e   0x7ec76aa40000  [Unified Memory CPU page faults]\n",
            "353.37ms         -                    -               -         -         -         -                -         -         -         PC 0x45828d86   0x7ec766a40000  [Unified Memory CPU page faults]\n",
            "353.61ms         -                    -               -         -         -         -                -         -         -         PC 0x45828d6e   0x7ec76aa80000  [Unified Memory CPU page faults]\n",
            "353.67ms         -                    -               -         -         -         -                -         -         -         PC 0x45828d86   0x7ec766a80000  [Unified Memory CPU page faults]\n",
            "354.10ms         -                    -               -         -         -         -                -         -         -         PC 0x45828d6e   0x7ec76ab00000  [Unified Memory CPU page faults]\n",
            "354.19ms         -                    -               -         -         -         -                -         -         -         PC 0x45828d86   0x7ec766b00000  [Unified Memory CPU page faults]\n",
            "354.97ms         -                    -               -         -         -         -                -         -         -         PC 0x45828d6e   0x7ec76ac00000  [Unified Memory CPU page faults]\n",
            "355.39ms         -                    -               -         -         -         -                -         -         -         PC 0x45828d86   0x7ec766c00000  [Unified Memory CPU page faults]\n",
            "355.83ms         -                    -               -         -         -         -                -         -         -         PC 0x45828d6e   0x7ec76ac10000  [Unified Memory CPU page faults]\n",
            "355.86ms         -                    -               -         -         -         -                -         -         -         PC 0x45828d86   0x7ec766c10000  [Unified Memory CPU page faults]\n",
            "355.94ms         -                    -               -         -         -         -                -         -         -         PC 0x45828d6e   0x7ec76ac20000  [Unified Memory CPU page faults]\n",
            "355.98ms         -                    -               -         -         -         -                -         -         -         PC 0x45828d86   0x7ec766c20000  [Unified Memory CPU page faults]\n",
            "356.14ms         -                    -               -         -         -         -                -         -         -         PC 0x45828d6e   0x7ec76ac40000  [Unified Memory CPU page faults]\n",
            "356.18ms         -                    -               -         -         -         -                -         -         -         PC 0x45828d86   0x7ec766c40000  [Unified Memory CPU page faults]\n",
            "356.42ms         -                    -               -         -         -         -                -         -         -         PC 0x45828d6e   0x7ec76ac80000  [Unified Memory CPU page faults]\n",
            "356.50ms         -                    -               -         -         -         -                -         -         -         PC 0x45828d86   0x7ec766c80000  [Unified Memory CPU page faults]\n",
            "356.91ms         -                    -               -         -         -         -                -         -         -         PC 0x45828d6e   0x7ec76ad00000  [Unified Memory CPU page faults]\n",
            "357.01ms         -                    -               -         -         -         -                -         -         -         PC 0x45828d86   0x7ec766d00000  [Unified Memory CPU page faults]\n",
            "357.82ms         -                    -               -         -         -         -                -         -         -         PC 0x45828d6e   0x7ec76ae00000  [Unified Memory CPU page faults]\n",
            "358.23ms         -                    -               -         -         -         -                -         -         -         PC 0x45828d86   0x7ec766e00000  [Unified Memory CPU page faults]\n",
            "358.67ms         -                    -               -         -         -         -                -         -         -         PC 0x45828d6e   0x7ec76ae10000  [Unified Memory CPU page faults]\n",
            "358.70ms         -                    -               -         -         -         -                -         -         -         PC 0x45828d86   0x7ec766e10000  [Unified Memory CPU page faults]\n",
            "358.78ms         -                    -               -         -         -         -                -         -         -         PC 0x45828d6e   0x7ec76ae20000  [Unified Memory CPU page faults]\n",
            "358.82ms         -                    -               -         -         -         -                -         -         -         PC 0x45828d86   0x7ec766e20000  [Unified Memory CPU page faults]\n",
            "358.95ms         -                    -               -         -         -         -                -         -         -         PC 0x45828d6e   0x7ec76ae40000  [Unified Memory CPU page faults]\n",
            "359.00ms         -                    -               -         -         -         -                -         -         -         PC 0x45828d86   0x7ec766e40000  [Unified Memory CPU page faults]\n",
            "359.24ms         -                    -               -         -         -         -                -         -         -         PC 0x45828d6e   0x7ec76ae80000  [Unified Memory CPU page faults]\n",
            "359.31ms         -                    -               -         -         -         -                -         -         -         PC 0x45828d86   0x7ec766e80000  [Unified Memory CPU page faults]\n",
            "359.73ms         -                    -               -         -         -         -                -         -         -         PC 0x45828d6e   0x7ec76af00000  [Unified Memory CPU page faults]\n",
            "359.83ms         -                    -               -         -         -         -                -         -         -         PC 0x45828d86   0x7ec766f00000  [Unified Memory CPU page faults]\n",
            "360.69ms         -                    -               -         -         -         -                -         -         -         PC 0x45828d6e   0x7ec76b000000  [Unified Memory CPU page faults]\n",
            "361.16ms         -                    -               -         -         -         -                -         -         -         PC 0x45828d86   0x7ec767000000  [Unified Memory CPU page faults]\n",
            "361.61ms         -                    -               -         -         -         -                -         -         -         PC 0x45828d6e   0x7ec76b010000  [Unified Memory CPU page faults]\n",
            "361.64ms         -                    -               -         -         -         -                -         -         -         PC 0x45828d86   0x7ec767010000  [Unified Memory CPU page faults]\n",
            "361.72ms         -                    -               -         -         -         -                -         -         -         PC 0x45828d6e   0x7ec76b020000  [Unified Memory CPU page faults]\n",
            "361.76ms         -                    -               -         -         -         -                -         -         -         PC 0x45828d86   0x7ec767020000  [Unified Memory CPU page faults]\n",
            "361.90ms         -                    -               -         -         -         -                -         -         -         PC 0x45828d6e   0x7ec76b040000  [Unified Memory CPU page faults]\n",
            "361.94ms         -                    -               -         -         -         -                -         -         -         PC 0x45828d86   0x7ec767040000  [Unified Memory CPU page faults]\n",
            "362.21ms         -                    -               -         -         -         -                -         -         -         PC 0x45828d6e   0x7ec76b080000  [Unified Memory CPU page faults]\n",
            "362.27ms         -                    -               -         -         -         -                -         -         -         PC 0x45828d86   0x7ec767080000  [Unified Memory CPU page faults]\n",
            "362.72ms         -                    -               -         -         -         -                -         -         -         PC 0x45828d6e   0x7ec76b100000  [Unified Memory CPU page faults]\n",
            "362.82ms         -                    -               -         -         -         -                -         -         -         PC 0x45828d86   0x7ec767100000  [Unified Memory CPU page faults]\n",
            "363.63ms         -                    -               -         -         -         -                -         -         -         PC 0x45828d6e   0x7ec76b200000  [Unified Memory CPU page faults]\n",
            "364.04ms         -                    -               -         -         -         -                -         -         -         PC 0x45828d86   0x7ec767200000  [Unified Memory CPU page faults]\n",
            "364.48ms         -                    -               -         -         -         -                -         -         -         PC 0x45828d6e   0x7ec76b210000  [Unified Memory CPU page faults]\n",
            "364.52ms         -                    -               -         -         -         -                -         -         -         PC 0x45828d86   0x7ec767210000  [Unified Memory CPU page faults]\n",
            "364.62ms         -                    -               -         -         -         -                -         -         -         PC 0x45828d6e   0x7ec76b220000  [Unified Memory CPU page faults]\n",
            "364.66ms         -                    -               -         -         -         -                -         -         -         PC 0x45828d86   0x7ec767220000  [Unified Memory CPU page faults]\n",
            "364.80ms         -                    -               -         -         -         -                -         -         -         PC 0x45828d6e   0x7ec76b240000  [Unified Memory CPU page faults]\n",
            "364.85ms         -                    -               -         -         -         -                -         -         -         PC 0x45828d86   0x7ec767240000  [Unified Memory CPU page faults]\n",
            "365.12ms         -                    -               -         -         -         -                -         -         -         PC 0x45828d6e   0x7ec76b280000  [Unified Memory CPU page faults]\n",
            "365.18ms         -                    -               -         -         -         -                -         -         -         PC 0x45828d86   0x7ec767280000  [Unified Memory CPU page faults]\n",
            "365.63ms         -                    -               -         -         -         -                -         -         -         PC 0x45828d6e   0x7ec76b300000  [Unified Memory CPU page faults]\n",
            "365.72ms         -                    -               -         -         -         -                -         -         -         PC 0x45828d86   0x7ec767300000  [Unified Memory CPU page faults]\n",
            "366.53ms         -                    -               -         -         -         -                -         -         -         PC 0x45828d6e   0x7ec76b400000  [Unified Memory CPU page faults]\n",
            "366.93ms         -                    -               -         -         -         -                -         -         -         PC 0x45828d86   0x7ec767400000  [Unified Memory CPU page faults]\n",
            "367.37ms         -                    -               -         -         -         -                -         -         -         PC 0x45828d6e   0x7ec76b410000  [Unified Memory CPU page faults]\n",
            "367.40ms         -                    -               -         -         -         -                -         -         -         PC 0x45828d86   0x7ec767410000  [Unified Memory CPU page faults]\n",
            "367.49ms         -                    -               -         -         -         -                -         -         -         PC 0x45828d6e   0x7ec76b420000  [Unified Memory CPU page faults]\n",
            "367.53ms         -                    -               -         -         -         -                -         -         -         PC 0x45828d86   0x7ec767420000  [Unified Memory CPU page faults]\n",
            "367.66ms         -                    -               -         -         -         -                -         -         -         PC 0x45828d6e   0x7ec76b440000  [Unified Memory CPU page faults]\n",
            "367.71ms         -                    -               -         -         -         -                -         -         -         PC 0x45828d86   0x7ec767440000  [Unified Memory CPU page faults]\n",
            "367.94ms         -                    -               -         -         -         -                -         -         -         PC 0x45828d6e   0x7ec76b480000  [Unified Memory CPU page faults]\n",
            "368.02ms         -                    -               -         -         -         -                -         -         -         PC 0x45828d86   0x7ec767480000  [Unified Memory CPU page faults]\n",
            "368.46ms         -                    -               -         -         -         -                -         -         -         PC 0x45828d6e   0x7ec76b500000  [Unified Memory CPU page faults]\n",
            "368.57ms         -                    -               -         -         -         -                -         -         -         PC 0x45828d86   0x7ec767500000  [Unified Memory CPU page faults]\n",
            "369.37ms         -                    -               -         -         -         -                -         -         -         PC 0x45828d6e   0x7ec76b600000  [Unified Memory CPU page faults]\n",
            "369.77ms         -                    -               -         -         -         -                -         -         -         PC 0x45828d86   0x7ec767600000  [Unified Memory CPU page faults]\n",
            "370.20ms         -                    -               -         -         -         -                -         -         -         PC 0x45828d6e   0x7ec76b610000  [Unified Memory CPU page faults]\n",
            "370.24ms         -                    -               -         -         -         -                -         -         -         PC 0x45828d86   0x7ec767610000  [Unified Memory CPU page faults]\n",
            "370.32ms         -                    -               -         -         -         -                -         -         -         PC 0x45828d6e   0x7ec76b620000  [Unified Memory CPU page faults]\n",
            "370.36ms         -                    -               -         -         -         -                -         -         -         PC 0x45828d86   0x7ec767620000  [Unified Memory CPU page faults]\n",
            "370.50ms         -                    -               -         -         -         -                -         -         -         PC 0x45828d6e   0x7ec76b640000  [Unified Memory CPU page faults]\n",
            "370.54ms         -                    -               -         -         -         -                -         -         -         PC 0x45828d86   0x7ec767640000  [Unified Memory CPU page faults]\n",
            "370.77ms         -                    -               -         -         -         -                -         -         -         PC 0x45828d6e   0x7ec76b680000  [Unified Memory CPU page faults]\n",
            "370.84ms         -                    -               -         -         -         -                -         -         -         PC 0x45828d86   0x7ec767680000  [Unified Memory CPU page faults]\n",
            "371.29ms         -                    -               -         -         -         -                -         -         -         PC 0x45828d6e   0x7ec76b700000  [Unified Memory CPU page faults]\n",
            "371.39ms         -                    -               -         -         -         -                -         -         -         PC 0x45828d86   0x7ec767700000  [Unified Memory CPU page faults]\n",
            "372.19ms         -                    -               -         -         -         -                -         -         -         PC 0x45828d6e   0x7ec76b800000  [Unified Memory CPU page faults]\n",
            "372.59ms         -                    -               -         -         -         -                -         -         -         PC 0x45828d86   0x7ec767800000  [Unified Memory CPU page faults]\n",
            "373.02ms         -                    -               -         -         -         -                -         -         -         PC 0x45828d6e   0x7ec76b810000  [Unified Memory CPU page faults]\n",
            "373.07ms         -                    -               -         -         -         -                -         -         -         PC 0x45828d86   0x7ec767810000  [Unified Memory CPU page faults]\n",
            "373.15ms         -                    -               -         -         -         -                -         -         -         PC 0x45828d6e   0x7ec76b820000  [Unified Memory CPU page faults]\n",
            "373.18ms         -                    -               -         -         -         -                -         -         -         PC 0x45828d86   0x7ec767820000  [Unified Memory CPU page faults]\n",
            "373.32ms         -                    -               -         -         -         -                -         -         -         PC 0x45828d6e   0x7ec76b840000  [Unified Memory CPU page faults]\n",
            "373.37ms         -                    -               -         -         -         -                -         -         -         PC 0x45828d86   0x7ec767840000  [Unified Memory CPU page faults]\n",
            "373.60ms         -                    -               -         -         -         -                -         -         -         PC 0x45828d6e   0x7ec76b880000  [Unified Memory CPU page faults]\n",
            "373.67ms         -                    -               -         -         -         -                -         -         -         PC 0x45828d86   0x7ec767880000  [Unified Memory CPU page faults]\n",
            "374.20ms         -                    -               -         -         -         -                -         -         -         PC 0x45828d6e   0x7ec76b900000  [Unified Memory CPU page faults]\n",
            "374.61ms         -                    -               -         -         -         -                -         -         -         PC 0x45828d86   0x7ec767900000  [Unified Memory CPU page faults]\n",
            "375.68ms         -                    -               -         -         -         -                -         -         -         PC 0x45828d6e   0x7ec76ba00000  [Unified Memory CPU page faults]\n",
            "376.16ms         -                    -               -         -         -         -                -         -         -         PC 0x45828d86   0x7ec767a00000  [Unified Memory CPU page faults]\n",
            "376.70ms         -                    -               -         -         -         -                -         -         -         PC 0x45828d6e   0x7ec76ba10000  [Unified Memory CPU page faults]\n",
            "376.72ms         -                    -               -         -         -         -                -         -         -         PC 0x45828d86   0x7ec767a10000  [Unified Memory CPU page faults]\n",
            "376.80ms         -                    -               -         -         -         -                -         -         -         PC 0x45828d6e   0x7ec76ba20000  [Unified Memory CPU page faults]\n",
            "376.82ms         -                    -               -         -         -         -                -         -         -         PC 0x45828d86   0x7ec767a20000  [Unified Memory CPU page faults]\n",
            "376.96ms         -                    -               -         -         -         -                -         -         -         PC 0x45828d6e   0x7ec76ba40000  [Unified Memory CPU page faults]\n",
            "376.99ms         -                    -               -         -         -         -                -         -         -         PC 0x45828d86   0x7ec767a40000  [Unified Memory CPU page faults]\n",
            "377.26ms         -                    -               -         -         -         -                -         -         -         PC 0x45828d6e   0x7ec76ba80000  [Unified Memory CPU page faults]\n",
            "377.33ms         -                    -               -         -         -         -                -         -         -         PC 0x45828d86   0x7ec767a80000  [Unified Memory CPU page faults]\n",
            "377.76ms         -                    -               -         -         -         -                -         -         -         PC 0x45828d6e   0x7ec76bb00000  [Unified Memory CPU page faults]\n",
            "377.87ms         -                    -               -         -         -         -                -         -         -         PC 0x45828d86   0x7ec767b00000  [Unified Memory CPU page faults]\n",
            "378.69ms         -                    -               -         -         -         -                -         -         -         PC 0x45828d6e   0x7ec76bc00000  [Unified Memory CPU page faults]\n",
            "379.10ms         -                    -               -         -         -         -                -         -         -         PC 0x45828d86   0x7ec767c00000  [Unified Memory CPU page faults]\n",
            "379.53ms         -                    -               -         -         -         -                -         -         -         PC 0x45828d6e   0x7ec76bc10000  [Unified Memory CPU page faults]\n",
            "379.57ms         -                    -               -         -         -         -                -         -         -         PC 0x45828d86   0x7ec767c10000  [Unified Memory CPU page faults]\n",
            "379.65ms         -                    -               -         -         -         -                -         -         -         PC 0x45828d6e   0x7ec76bc20000  [Unified Memory CPU page faults]\n",
            "379.69ms         -                    -               -         -         -         -                -         -         -         PC 0x45828d86   0x7ec767c20000  [Unified Memory CPU page faults]\n",
            "379.82ms         -                    -               -         -         -         -                -         -         -         PC 0x45828d6e   0x7ec76bc40000  [Unified Memory CPU page faults]\n",
            "379.87ms         -                    -               -         -         -         -                -         -         -         PC 0x45828d86   0x7ec767c40000  [Unified Memory CPU page faults]\n",
            "380.14ms         -                    -               -         -         -         -                -         -         -         PC 0x45828d6e   0x7ec76bc80000  [Unified Memory CPU page faults]\n",
            "380.20ms         -                    -               -         -         -         -                -         -         -         PC 0x45828d86   0x7ec767c80000  [Unified Memory CPU page faults]\n",
            "380.66ms         -                    -               -         -         -         -                -         -         -         PC 0x45828d6e   0x7ec76bd00000  [Unified Memory CPU page faults]\n",
            "380.76ms         -                    -               -         -         -         -                -         -         -         PC 0x45828d86   0x7ec767d00000  [Unified Memory CPU page faults]\n",
            "381.57ms         -                    -               -         -         -         -                -         -         -         PC 0x45828d6e   0x7ec76be00000  [Unified Memory CPU page faults]\n",
            "381.97ms         -                    -               -         -         -         -                -         -         -         PC 0x45828d86   0x7ec767e00000  [Unified Memory CPU page faults]\n",
            "382.42ms         -                    -               -         -         -         -                -         -         -         PC 0x45828d6e   0x7ec76be10000  [Unified Memory CPU page faults]\n",
            "382.45ms         -                    -               -         -         -         -                -         -         -         PC 0x45828d86   0x7ec767e10000  [Unified Memory CPU page faults]\n",
            "382.54ms         -                    -               -         -         -         -                -         -         -         PC 0x45828d6e   0x7ec76be20000  [Unified Memory CPU page faults]\n",
            "382.58ms         -                    -               -         -         -         -                -         -         -         PC 0x45828d86   0x7ec767e20000  [Unified Memory CPU page faults]\n",
            "382.71ms         -                    -               -         -         -         -                -         -         -         PC 0x45828d6e   0x7ec76be40000  [Unified Memory CPU page faults]\n",
            "382.76ms         -                    -               -         -         -         -                -         -         -         PC 0x45828d86   0x7ec767e40000  [Unified Memory CPU page faults]\n",
            "382.99ms         -                    -               -         -         -         -                -         -         -         PC 0x45828d6e   0x7ec76be80000  [Unified Memory CPU page faults]\n",
            "383.07ms         -                    -               -         -         -         -                -         -         -         PC 0x45828d86   0x7ec767e80000  [Unified Memory CPU page faults]\n",
            "383.48ms         -                    -               -         -         -         -                -         -         -         PC 0x45828d6e   0x7ec76bf00000  [Unified Memory CPU page faults]\n",
            "383.59ms         -                    -               -         -         -         -                -         -         -         PC 0x45828d86   0x7ec767f00000  [Unified Memory CPU page faults]\n",
            "384.38ms         -                    -               -         -         -         -                -         -         -         PC 0x45828d6e   0x7ec76c000000  [Unified Memory CPU page faults]\n",
            "384.77ms         -                    -               -         -         -         -                -         -         -         PC 0x45828d86   0x7ec768000000  [Unified Memory CPU page faults]\n",
            "385.22ms         -                    -               -         -         -         -                -         -         -         PC 0x45828d6e   0x7ec76c010000  [Unified Memory CPU page faults]\n",
            "385.26ms         -                    -               -         -         -         -                -         -         -         PC 0x45828d86   0x7ec768010000  [Unified Memory CPU page faults]\n",
            "385.34ms         -                    -               -         -         -         -                -         -         -         PC 0x45828d6e   0x7ec76c020000  [Unified Memory CPU page faults]\n",
            "385.38ms         -                    -               -         -         -         -                -         -         -         PC 0x45828d86   0x7ec768020000  [Unified Memory CPU page faults]\n",
            "385.52ms         -                    -               -         -         -         -                -         -         -         PC 0x45828d6e   0x7ec76c040000  [Unified Memory CPU page faults]\n",
            "385.57ms         -                    -               -         -         -         -                -         -         -         PC 0x45828d86   0x7ec768040000  [Unified Memory CPU page faults]\n",
            "385.80ms         -                    -               -         -         -         -                -         -         -         PC 0x45828d6e   0x7ec76c080000  [Unified Memory CPU page faults]\n",
            "385.87ms         -                    -               -         -         -         -                -         -         -         PC 0x45828d86   0x7ec768080000  [Unified Memory CPU page faults]\n",
            "386.31ms         -                    -               -         -         -         -                -         -         -         PC 0x45828d6e   0x7ec76c100000  [Unified Memory CPU page faults]\n",
            "386.41ms         -                    -               -         -         -         -                -         -         -         PC 0x45828d86   0x7ec768100000  [Unified Memory CPU page faults]\n",
            "387.23ms         -                    -               -         -         -         -                -         -         -         PC 0x45828d6e   0x7ec76c200000  [Unified Memory CPU page faults]\n",
            "387.63ms         -                    -               -         -         -         -                -         -         -         PC 0x45828d86   0x7ec768200000  [Unified Memory CPU page faults]\n",
            "388.08ms         -                    -               -         -         -         -                -         -         -         PC 0x45828d6e   0x7ec76c210000  [Unified Memory CPU page faults]\n",
            "388.11ms         -                    -               -         -         -         -                -         -         -         PC 0x45828d86   0x7ec768210000  [Unified Memory CPU page faults]\n",
            "388.20ms         -                    -               -         -         -         -                -         -         -         PC 0x45828d6e   0x7ec76c220000  [Unified Memory CPU page faults]\n",
            "388.24ms         -                    -               -         -         -         -                -         -         -         PC 0x45828d86   0x7ec768220000  [Unified Memory CPU page faults]\n",
            "388.37ms         -                    -               -         -         -         -                -         -         -         PC 0x45828d6e   0x7ec76c240000  [Unified Memory CPU page faults]\n",
            "388.42ms         -                    -               -         -         -         -                -         -         -         PC 0x45828d86   0x7ec768240000  [Unified Memory CPU page faults]\n",
            "388.66ms         -                    -               -         -         -         -                -         -         -         PC 0x45828d6e   0x7ec76c280000  [Unified Memory CPU page faults]\n",
            "388.73ms         -                    -               -         -         -         -                -         -         -         PC 0x45828d86   0x7ec768280000  [Unified Memory CPU page faults]\n",
            "389.16ms         -                    -               -         -         -         -                -         -         -         PC 0x45828d6e   0x7ec76c300000  [Unified Memory CPU page faults]\n",
            "389.26ms         -                    -               -         -         -         -                -         -         -         PC 0x45828d86   0x7ec768300000  [Unified Memory CPU page faults]\n",
            "390.08ms         -                    -               -         -         -         -                -         -         -         PC 0x45828d6e   0x7ec76c400000  [Unified Memory CPU page faults]\n",
            "390.49ms         -                    -               -         -         -         -                -         -         -         PC 0x45828d86   0x7ec768400000  [Unified Memory CPU page faults]\n",
            "390.92ms         -                    -               -         -         -         -                -         -         -         PC 0x45828d6e   0x7ec76c410000  [Unified Memory CPU page faults]\n",
            "390.96ms         -                    -               -         -         -         -                -         -         -         PC 0x45828d86   0x7ec768410000  [Unified Memory CPU page faults]\n",
            "391.04ms         -                    -               -         -         -         -                -         -         -         PC 0x45828d6e   0x7ec76c420000  [Unified Memory CPU page faults]\n",
            "391.08ms         -                    -               -         -         -         -                -         -         -         PC 0x45828d86   0x7ec768420000  [Unified Memory CPU page faults]\n",
            "391.22ms         -                    -               -         -         -         -                -         -         -         PC 0x45828d6e   0x7ec76c440000  [Unified Memory CPU page faults]\n",
            "391.26ms         -                    -               -         -         -         -                -         -         -         PC 0x45828d86   0x7ec768440000  [Unified Memory CPU page faults]\n",
            "391.50ms         -                    -               -         -         -         -                -         -         -         PC 0x45828d6e   0x7ec76c480000  [Unified Memory CPU page faults]\n",
            "391.57ms         -                    -               -         -         -         -                -         -         -         PC 0x45828d86   0x7ec768480000  [Unified Memory CPU page faults]\n",
            "391.99ms         -                    -               -         -         -         -                -         -         -         PC 0x45828d6e   0x7ec76c500000  [Unified Memory CPU page faults]\n",
            "392.08ms         -                    -               -         -         -         -                -         -         -         PC 0x45828d86   0x7ec768500000  [Unified Memory CPU page faults]\n",
            "392.87ms         -                    -               -         -         -         -                -         -         -         PC 0x45828d6e   0x7ec76c600000  [Unified Memory CPU page faults]\n",
            "393.27ms         -                    -               -         -         -         -                -         -         -         PC 0x45828d86   0x7ec768600000  [Unified Memory CPU page faults]\n",
            "393.70ms         -                    -               -         -         -         -                -         -         -         PC 0x45828d6e   0x7ec76c610000  [Unified Memory CPU page faults]\n",
            "393.73ms         -                    -               -         -         -         -                -         -         -         PC 0x45828d86   0x7ec768610000  [Unified Memory CPU page faults]\n",
            "393.81ms         -                    -               -         -         -         -                -         -         -         PC 0x45828d6e   0x7ec76c620000  [Unified Memory CPU page faults]\n",
            "393.85ms         -                    -               -         -         -         -                -         -         -         PC 0x45828d86   0x7ec768620000  [Unified Memory CPU page faults]\n",
            "393.98ms         -                    -               -         -         -         -                -         -         -         PC 0x45828d6e   0x7ec76c640000  [Unified Memory CPU page faults]\n",
            "394.03ms         -                    -               -         -         -         -                -         -         -         PC 0x45828d86   0x7ec768640000  [Unified Memory CPU page faults]\n",
            "394.29ms         -                    -               -         -         -         -                -         -         -         PC 0x45828d6e   0x7ec76c680000  [Unified Memory CPU page faults]\n",
            "394.35ms         -                    -               -         -         -         -                -         -         -         PC 0x45828d86   0x7ec768680000  [Unified Memory CPU page faults]\n",
            "394.80ms         -                    -               -         -         -         -                -         -         -         PC 0x45828d6e   0x7ec76c700000  [Unified Memory CPU page faults]\n",
            "394.90ms         -                    -               -         -         -         -                -         -         -         PC 0x45828d86   0x7ec768700000  [Unified Memory CPU page faults]\n",
            "395.71ms         -                    -               -         -         -         -                -         -         -         PC 0x45828d6e   0x7ec76c800000  [Unified Memory CPU page faults]\n",
            "396.11ms         -                    -               -         -         -         -                -         -         -         PC 0x45828d86   0x7ec768800000  [Unified Memory CPU page faults]\n",
            "396.54ms         -                    -               -         -         -         -                -         -         -         PC 0x45828d6e   0x7ec76c810000  [Unified Memory CPU page faults]\n",
            "396.58ms         -                    -               -         -         -         -                -         -         -         PC 0x45828d86   0x7ec768810000  [Unified Memory CPU page faults]\n",
            "396.66ms         -                    -               -         -         -         -                -         -         -         PC 0x45828d6e   0x7ec76c820000  [Unified Memory CPU page faults]\n",
            "396.70ms         -                    -               -         -         -         -                -         -         -         PC 0x45828d86   0x7ec768820000  [Unified Memory CPU page faults]\n",
            "396.83ms         -                    -               -         -         -         -                -         -         -         PC 0x45828d6e   0x7ec76c840000  [Unified Memory CPU page faults]\n",
            "396.88ms         -                    -               -         -         -         -                -         -         -         PC 0x45828d86   0x7ec768840000  [Unified Memory CPU page faults]\n",
            "397.15ms         -                    -               -         -         -         -                -         -         -         PC 0x45828d6e   0x7ec76c880000  [Unified Memory CPU page faults]\n",
            "397.21ms         -                    -               -         -         -         -                -         -         -         PC 0x45828d86   0x7ec768880000  [Unified Memory CPU page faults]\n",
            "397.66ms         -                    -               -         -         -         -                -         -         -         PC 0x45828d6e   0x7ec76c900000  [Unified Memory CPU page faults]\n",
            "397.76ms         -                    -               -         -         -         -                -         -         -         PC 0x45828d86   0x7ec768900000  [Unified Memory CPU page faults]\n",
            "398.56ms         -                    -               -         -         -         -                -         -         -         PC 0x45828d6e   0x7ec76ca00000  [Unified Memory CPU page faults]\n",
            "398.96ms         -                    -               -         -         -         -                -         -         -         PC 0x45828d86   0x7ec768a00000  [Unified Memory CPU page faults]\n",
            "399.41ms         -                    -               -         -         -         -                -         -         -         PC 0x45828d6e   0x7ec76ca10000  [Unified Memory CPU page faults]\n",
            "399.44ms         -                    -               -         -         -         -                -         -         -         PC 0x45828d86   0x7ec768a10000  [Unified Memory CPU page faults]\n",
            "399.54ms         -                    -               -         -         -         -                -         -         -         PC 0x45828d6e   0x7ec76ca20000  [Unified Memory CPU page faults]\n",
            "399.57ms         -                    -               -         -         -         -                -         -         -         PC 0x45828d86   0x7ec768a20000  [Unified Memory CPU page faults]\n",
            "399.71ms         -                    -               -         -         -         -                -         -         -         PC 0x45828d6e   0x7ec76ca40000  [Unified Memory CPU page faults]\n",
            "399.76ms         -                    -               -         -         -         -                -         -         -         PC 0x45828d86   0x7ec768a40000  [Unified Memory CPU page faults]\n",
            "399.99ms         -                    -               -         -         -         -                -         -         -         PC 0x45828d6e   0x7ec76ca80000  [Unified Memory CPU page faults]\n",
            "400.07ms         -                    -               -         -         -         -                -         -         -         PC 0x45828d86   0x7ec768a80000  [Unified Memory CPU page faults]\n",
            "400.48ms         -                    -               -         -         -         -                -         -         -         PC 0x45828d6e   0x7ec76cb00000  [Unified Memory CPU page faults]\n",
            "400.59ms         -                    -               -         -         -         -                -         -         -         PC 0x45828d86   0x7ec768b00000  [Unified Memory CPU page faults]\n",
            "401.43ms         -                    -               -         -         -         -                -         -         -         PC 0x45828d6e   0x7ec76cc00000  [Unified Memory CPU page faults]\n",
            "401.83ms         -                    -               -         -         -         -                -         -         -         PC 0x45828d86   0x7ec768c00000  [Unified Memory CPU page faults]\n",
            "402.28ms         -                    -               -         -         -         -                -         -         -         PC 0x45828d6e   0x7ec76cc10000  [Unified Memory CPU page faults]\n",
            "402.31ms         -                    -               -         -         -         -                -         -         -         PC 0x45828d86   0x7ec768c10000  [Unified Memory CPU page faults]\n",
            "402.40ms         -                    -               -         -         -         -                -         -         -         PC 0x45828d6e   0x7ec76cc20000  [Unified Memory CPU page faults]\n",
            "402.43ms         -                    -               -         -         -         -                -         -         -         PC 0x45828d86   0x7ec768c20000  [Unified Memory CPU page faults]\n",
            "402.57ms         -                    -               -         -         -         -                -         -         -         PC 0x45828d6e   0x7ec76cc40000  [Unified Memory CPU page faults]\n",
            "402.62ms         -                    -               -         -         -         -                -         -         -         PC 0x45828d86   0x7ec768c40000  [Unified Memory CPU page faults]\n",
            "402.85ms         -                    -               -         -         -         -                -         -         -         PC 0x45828d6e   0x7ec76cc80000  [Unified Memory CPU page faults]\n",
            "402.92ms         -                    -               -         -         -         -                -         -         -         PC 0x45828d86   0x7ec768c80000  [Unified Memory CPU page faults]\n",
            "403.36ms         -                    -               -         -         -         -                -         -         -         PC 0x45828d6e   0x7ec76cd00000  [Unified Memory CPU page faults]\n",
            "403.47ms         -                    -               -         -         -         -                -         -         -         PC 0x45828d86   0x7ec768d00000  [Unified Memory CPU page faults]\n",
            "404.27ms         -                    -               -         -         -         -                -         -         -         PC 0x45828d6e   0x7ec76ce00000  [Unified Memory CPU page faults]\n",
            "404.67ms         -                    -               -         -         -         -                -         -         -         PC 0x45828d86   0x7ec768e00000  [Unified Memory CPU page faults]\n",
            "405.11ms         -                    -               -         -         -         -                -         -         -         PC 0x45828d6e   0x7ec76ce10000  [Unified Memory CPU page faults]\n",
            "405.14ms         -                    -               -         -         -         -                -         -         -         PC 0x45828d86   0x7ec768e10000  [Unified Memory CPU page faults]\n",
            "405.23ms         -                    -               -         -         -         -                -         -         -         PC 0x45828d6e   0x7ec76ce20000  [Unified Memory CPU page faults]\n",
            "405.26ms         -                    -               -         -         -         -                -         -         -         PC 0x45828d86   0x7ec768e20000  [Unified Memory CPU page faults]\n",
            "405.40ms         -                    -               -         -         -         -                -         -         -         PC 0x45828d6e   0x7ec76ce40000  [Unified Memory CPU page faults]\n",
            "405.44ms         -                    -               -         -         -         -                -         -         -         PC 0x45828d86   0x7ec768e40000  [Unified Memory CPU page faults]\n",
            "405.68ms         -                    -               -         -         -         -                -         -         -         PC 0x45828d6e   0x7ec76ce80000  [Unified Memory CPU page faults]\n",
            "405.75ms         -                    -               -         -         -         -                -         -         -         PC 0x45828d86   0x7ec768e80000  [Unified Memory CPU page faults]\n",
            "406.18ms         -                    -               -         -         -         -                -         -         -         PC 0x45828d6e   0x7ec76cf00000  [Unified Memory CPU page faults]\n",
            "406.26ms         -                    -               -         -         -         -                -         -         -         PC 0x45828d86   0x7ec768f00000  [Unified Memory CPU page faults]\n",
            "407.10ms         -                    -               -         -         -         -                -         -         -         PC 0x45828d6e   0x7ec76d000000  [Unified Memory CPU page faults]\n",
            "407.49ms         -                    -               -         -         -         -                -         -         -         PC 0x45828d86   0x7ec769000000  [Unified Memory CPU page faults]\n",
            "407.93ms         -                    -               -         -         -         -                -         -         -         PC 0x45828d6e   0x7ec76d010000  [Unified Memory CPU page faults]\n",
            "407.96ms         -                    -               -         -         -         -                -         -         -         PC 0x45828d86   0x7ec769010000  [Unified Memory CPU page faults]\n",
            "408.04ms         -                    -               -         -         -         -                -         -         -         PC 0x45828d6e   0x7ec76d020000  [Unified Memory CPU page faults]\n",
            "408.09ms         -                    -               -         -         -         -                -         -         -         PC 0x45828d86   0x7ec769020000  [Unified Memory CPU page faults]\n",
            "408.22ms         -                    -               -         -         -         -                -         -         -         PC 0x45828d6e   0x7ec76d040000  [Unified Memory CPU page faults]\n",
            "408.27ms         -                    -               -         -         -         -                -         -         -         PC 0x45828d86   0x7ec769040000  [Unified Memory CPU page faults]\n",
            "408.50ms         -                    -               -         -         -         -                -         -         -         PC 0x45828d6e   0x7ec76d080000  [Unified Memory CPU page faults]\n",
            "408.57ms         -                    -               -         -         -         -                -         -         -         PC 0x45828d86   0x7ec769080000  [Unified Memory CPU page faults]\n",
            "408.98ms         -                    -               -         -         -         -                -         -         -         PC 0x45828d6e   0x7ec76d100000  [Unified Memory CPU page faults]\n",
            "409.09ms         -                    -               -         -         -         -                -         -         -         PC 0x45828d86   0x7ec769100000  [Unified Memory CPU page faults]\n",
            "409.87ms         -                    -               -         -         -         -                -         -         -         PC 0x45828d6e   0x7ec76d200000  [Unified Memory CPU page faults]\n",
            "410.29ms         -                    -               -         -         -         -                -         -         -         PC 0x45828d86   0x7ec769200000  [Unified Memory CPU page faults]\n",
            "410.72ms         -                    -               -         -         -         -                -         -         -         PC 0x45828d6e   0x7ec76d210000  [Unified Memory CPU page faults]\n",
            "410.75ms         -                    -               -         -         -         -                -         -         -         PC 0x45828d86   0x7ec769210000  [Unified Memory CPU page faults]\n",
            "410.85ms         -                    -               -         -         -         -                -         -         -         PC 0x45828d6e   0x7ec76d220000  [Unified Memory CPU page faults]\n",
            "410.89ms         -                    -               -         -         -         -                -         -         -         PC 0x45828d86   0x7ec769220000  [Unified Memory CPU page faults]\n",
            "411.03ms         -                    -               -         -         -         -                -         -         -         PC 0x45828d6e   0x7ec76d240000  [Unified Memory CPU page faults]\n",
            "411.10ms         -                    -               -         -         -         -                -         -         -         PC 0x45828d86   0x7ec769240000  [Unified Memory CPU page faults]\n",
            "411.37ms         -                    -               -         -         -         -                -         -         -         PC 0x45828d6e   0x7ec76d280000  [Unified Memory CPU page faults]\n",
            "411.46ms         -                    -               -         -         -         -                -         -         -         PC 0x45828d86   0x7ec769280000  [Unified Memory CPU page faults]\n",
            "411.89ms         -                    -               -         -         -         -                -         -         -         PC 0x45828d6e   0x7ec76d300000  [Unified Memory CPU page faults]\n",
            "411.99ms         -                    -               -         -         -         -                -         -         -         PC 0x45828d86   0x7ec769300000  [Unified Memory CPU page faults]\n",
            "412.80ms         -                    -               -         -         -         -                -         -         -         PC 0x45828d6e   0x7ec76d400000  [Unified Memory CPU page faults]\n",
            "413.21ms         -                    -               -         -         -         -                -         -         -         PC 0x45828d86   0x7ec769400000  [Unified Memory CPU page faults]\n",
            "413.65ms         -                    -               -         -         -         -                -         -         -         PC 0x45828d6e   0x7ec76d410000  [Unified Memory CPU page faults]\n",
            "413.69ms         -                    -               -         -         -         -                -         -         -         PC 0x45828d86   0x7ec769410000  [Unified Memory CPU page faults]\n",
            "413.78ms         -                    -               -         -         -         -                -         -         -         PC 0x45828d6e   0x7ec76d420000  [Unified Memory CPU page faults]\n",
            "413.82ms         -                    -               -         -         -         -                -         -         -         PC 0x45828d86   0x7ec769420000  [Unified Memory CPU page faults]\n",
            "413.95ms         -                    -               -         -         -         -                -         -         -         PC 0x45828d6e   0x7ec76d440000  [Unified Memory CPU page faults]\n",
            "413.99ms         -                    -               -         -         -         -                -         -         -         PC 0x45828d86   0x7ec769440000  [Unified Memory CPU page faults]\n",
            "414.25ms         -                    -               -         -         -         -                -         -         -         PC 0x45828d6e   0x7ec76d480000  [Unified Memory CPU page faults]\n",
            "414.32ms         -                    -               -         -         -         -                -         -         -         PC 0x45828d86   0x7ec769480000  [Unified Memory CPU page faults]\n",
            "414.74ms         -                    -               -         -         -         -                -         -         -         PC 0x45828d6e   0x7ec76d500000  [Unified Memory CPU page faults]\n",
            "414.84ms         -                    -               -         -         -         -                -         -         -         PC 0x45828d86   0x7ec769500000  [Unified Memory CPU page faults]\n",
            "415.65ms         -                    -               -         -         -         -                -         -         -         PC 0x45828d6e   0x7ec76d600000  [Unified Memory CPU page faults]\n",
            "416.06ms         -                    -               -         -         -         -                -         -         -         PC 0x45828d86   0x7ec769600000  [Unified Memory CPU page faults]\n",
            "416.49ms         -                    -               -         -         -         -                -         -         -         PC 0x45828d6e   0x7ec76d610000  [Unified Memory CPU page faults]\n",
            "416.53ms         -                    -               -         -         -         -                -         -         -         PC 0x45828d86   0x7ec769610000  [Unified Memory CPU page faults]\n",
            "416.62ms         -                    -               -         -         -         -                -         -         -         PC 0x45828d6e   0x7ec76d620000  [Unified Memory CPU page faults]\n",
            "416.66ms         -                    -               -         -         -         -                -         -         -         PC 0x45828d86   0x7ec769620000  [Unified Memory CPU page faults]\n",
            "416.79ms         -                    -               -         -         -         -                -         -         -         PC 0x45828d6e   0x7ec76d640000  [Unified Memory CPU page faults]\n",
            "416.84ms         -                    -               -         -         -         -                -         -         -         PC 0x45828d86   0x7ec769640000  [Unified Memory CPU page faults]\n",
            "417.10ms         -                    -               -         -         -         -                -         -         -         PC 0x45828d6e   0x7ec76d680000  [Unified Memory CPU page faults]\n",
            "417.17ms         -                    -               -         -         -         -                -         -         -         PC 0x45828d86   0x7ec769680000  [Unified Memory CPU page faults]\n",
            "417.61ms         -                    -               -         -         -         -                -         -         -         PC 0x45828d6e   0x7ec76d700000  [Unified Memory CPU page faults]\n",
            "417.72ms         -                    -               -         -         -         -                -         -         -         PC 0x45828d86   0x7ec769700000  [Unified Memory CPU page faults]\n",
            "418.51ms         -                    -               -         -         -         -                -         -         -         PC 0x45828d6e   0x7ec76d800000  [Unified Memory CPU page faults]\n",
            "418.91ms         -                    -               -         -         -         -                -         -         -         PC 0x45828d86   0x7ec769800000  [Unified Memory CPU page faults]\n",
            "419.36ms         -                    -               -         -         -         -                -         -         -         PC 0x45828d6e   0x7ec76d810000  [Unified Memory CPU page faults]\n",
            "419.40ms         -                    -               -         -         -         -                -         -         -         PC 0x45828d86   0x7ec769810000  [Unified Memory CPU page faults]\n",
            "419.48ms         -                    -               -         -         -         -                -         -         -         PC 0x45828d6e   0x7ec76d820000  [Unified Memory CPU page faults]\n",
            "419.52ms         -                    -               -         -         -         -                -         -         -         PC 0x45828d86   0x7ec769820000  [Unified Memory CPU page faults]\n",
            "419.66ms         -                    -               -         -         -         -                -         -         -         PC 0x45828d6e   0x7ec76d840000  [Unified Memory CPU page faults]\n",
            "419.71ms         -                    -               -         -         -         -                -         -         -         PC 0x45828d86   0x7ec769840000  [Unified Memory CPU page faults]\n",
            "419.94ms         -                    -               -         -         -         -                -         -         -         PC 0x45828d6e   0x7ec76d880000  [Unified Memory CPU page faults]\n",
            "420.01ms         -                    -               -         -         -         -                -         -         -         PC 0x45828d86   0x7ec769880000  [Unified Memory CPU page faults]\n",
            "420.43ms         -                    -               -         -         -         -                -         -         -         PC 0x45828d6e   0x7ec76d900000  [Unified Memory CPU page faults]\n",
            "420.54ms         -                    -               -         -         -         -                -         -         -         PC 0x45828d86   0x7ec769900000  [Unified Memory CPU page faults]\n",
            "421.34ms         -                    -               -         -         -         -                -         -         -         PC 0x45828d6e   0x7ec76da00000  [Unified Memory CPU page faults]\n",
            "421.74ms         -                    -               -         -         -         -                -         -         -         PC 0x45828d86   0x7ec769a00000  [Unified Memory CPU page faults]\n",
            "422.17ms         -                    -               -         -         -         -                -         -         -         PC 0x45828d6e   0x7ec76da10000  [Unified Memory CPU page faults]\n",
            "422.21ms         -                    -               -         -         -         -                -         -         -         PC 0x45828d86   0x7ec769a10000  [Unified Memory CPU page faults]\n",
            "422.30ms         -                    -               -         -         -         -                -         -         -         PC 0x45828d6e   0x7ec76da20000  [Unified Memory CPU page faults]\n",
            "422.34ms         -                    -               -         -         -         -                -         -         -         PC 0x45828d86   0x7ec769a20000  [Unified Memory CPU page faults]\n",
            "422.47ms         -                    -               -         -         -         -                -         -         -         PC 0x45828d6e   0x7ec76da40000  [Unified Memory CPU page faults]\n",
            "422.52ms         -                    -               -         -         -         -                -         -         -         PC 0x45828d86   0x7ec769a40000  [Unified Memory CPU page faults]\n",
            "422.76ms         -                    -               -         -         -         -                -         -         -         PC 0x45828d6e   0x7ec76da80000  [Unified Memory CPU page faults]\n",
            "422.83ms         -                    -               -         -         -         -                -         -         -         PC 0x45828d86   0x7ec769a80000  [Unified Memory CPU page faults]\n",
            "423.29ms         -                    -               -         -         -         -                -         -         -         PC 0x45828d6e   0x7ec76db00000  [Unified Memory CPU page faults]\n",
            "423.40ms         -                    -               -         -         -         -                -         -         -         PC 0x45828d86   0x7ec769b00000  [Unified Memory CPU page faults]\n",
            "424.20ms         -                    -               -         -         -         -                -         -         -         PC 0x45828d6e   0x7ec76dc00000  [Unified Memory CPU page faults]\n",
            "424.59ms         -                    -               -         -         -         -                -         -         -         PC 0x45828d86   0x7ec769c00000  [Unified Memory CPU page faults]\n",
            "425.03ms         -                    -               -         -         -         -                -         -         -         PC 0x45828d6e   0x7ec76dc10000  [Unified Memory CPU page faults]\n",
            "425.07ms         -                    -               -         -         -         -                -         -         -         PC 0x45828d86   0x7ec769c10000  [Unified Memory CPU page faults]\n",
            "425.15ms         -                    -               -         -         -         -                -         -         -         PC 0x45828d6e   0x7ec76dc20000  [Unified Memory CPU page faults]\n",
            "425.19ms         -                    -               -         -         -         -                -         -         -         PC 0x45828d86   0x7ec769c20000  [Unified Memory CPU page faults]\n",
            "425.33ms         -                    -               -         -         -         -                -         -         -         PC 0x45828d6e   0x7ec76dc40000  [Unified Memory CPU page faults]\n",
            "425.37ms         -                    -               -         -         -         -                -         -         -         PC 0x45828d86   0x7ec769c40000  [Unified Memory CPU page faults]\n",
            "425.62ms         -                    -               -         -         -         -                -         -         -         PC 0x45828d6e   0x7ec76dc80000  [Unified Memory CPU page faults]\n",
            "425.68ms         -                    -               -         -         -         -                -         -         -         PC 0x45828d86   0x7ec769c80000  [Unified Memory CPU page faults]\n",
            "426.11ms         -                    -               -         -         -         -                -         -         -         PC 0x45828d6e   0x7ec76dd00000  [Unified Memory CPU page faults]\n",
            "426.20ms         -                    -               -         -         -         -                -         -         -         PC 0x45828d86   0x7ec769d00000  [Unified Memory CPU page faults]\n",
            "426.98ms         -                    -               -         -         -         -                -         -         -         PC 0x45828d6e   0x7ec76de00000  [Unified Memory CPU page faults]\n",
            "427.40ms         -                    -               -         -         -         -                -         -         -         PC 0x45828d86   0x7ec769e00000  [Unified Memory CPU page faults]\n",
            "427.83ms         -                    -               -         -         -         -                -         -         -         PC 0x45828d6e   0x7ec76de10000  [Unified Memory CPU page faults]\n",
            "427.87ms         -                    -               -         -         -         -                -         -         -         PC 0x45828d86   0x7ec769e10000  [Unified Memory CPU page faults]\n",
            "427.95ms         -                    -               -         -         -         -                -         -         -         PC 0x45828d6e   0x7ec76de20000  [Unified Memory CPU page faults]\n",
            "427.99ms         -                    -               -         -         -         -                -         -         -         PC 0x45828d86   0x7ec769e20000  [Unified Memory CPU page faults]\n",
            "428.14ms         -                    -               -         -         -         -                -         -         -         PC 0x45828d6e   0x7ec76de40000  [Unified Memory CPU page faults]\n",
            "428.18ms         -                    -               -         -         -         -                -         -         -         PC 0x45828d86   0x7ec769e40000  [Unified Memory CPU page faults]\n",
            "428.42ms         -                    -               -         -         -         -                -         -         -         PC 0x45828d6e   0x7ec76de80000  [Unified Memory CPU page faults]\n",
            "428.49ms         -                    -               -         -         -         -                -         -         -         PC 0x45828d86   0x7ec769e80000  [Unified Memory CPU page faults]\n",
            "428.90ms         -                    -               -         -         -         -                -         -         -         PC 0x45828d6e   0x7ec76df00000  [Unified Memory CPU page faults]\n",
            "429.00ms         -                    -               -         -         -         -                -         -         -         PC 0x45828d86   0x7ec769f00000  [Unified Memory CPU page faults]\n",
            "430.01ms  173.98us                    -               -         -         -         -     Tesla T4 (0)         -         -            2.000000MB   0x7ec76a000000  [Unified Memory Memcpy HtoD]\n",
            "430.18ms  173.95us                    -               -         -         -         -     Tesla T4 (0)         -         -            2.000000MB   0x7ec76a200000  [Unified Memory Memcpy HtoD]\n",
            "430.36ms  174.05us                    -               -         -         -         -     Tesla T4 (0)         -         -            2.000000MB   0x7ec76a400000  [Unified Memory Memcpy HtoD]\n",
            "430.54ms  174.14us                    -               -         -         -         -     Tesla T4 (0)         -         -            2.000000MB   0x7ec76a600000  [Unified Memory Memcpy HtoD]\n",
            "430.71ms  174.59us                    -               -         -         -         -     Tesla T4 (0)         -         -            2.000000MB   0x7ec76a800000  [Unified Memory Memcpy HtoD]\n",
            "430.89ms  174.21us                    -               -         -         -         -     Tesla T4 (0)         -         -            2.000000MB   0x7ec76aa00000  [Unified Memory Memcpy HtoD]\n",
            "431.07ms  173.79us                    -               -         -         -         -     Tesla T4 (0)         -         -            2.000000MB   0x7ec76ac00000  [Unified Memory Memcpy HtoD]\n",
            "431.24ms  173.79us                    -               -         -         -         -     Tesla T4 (0)         -         -            2.000000MB   0x7ec76ae00000  [Unified Memory Memcpy HtoD]\n",
            "431.42ms  173.95us                    -               -         -         -         -     Tesla T4 (0)         -         -            2.000000MB   0x7ec76b000000  [Unified Memory Memcpy HtoD]\n",
            "431.60ms  174.53us                    -               -         -         -         -     Tesla T4 (0)         -         -            2.000000MB   0x7ec76b200000  [Unified Memory Memcpy HtoD]\n",
            "431.77ms  173.95us                    -               -         -         -         -     Tesla T4 (0)         -         -            2.000000MB   0x7ec76b400000  [Unified Memory Memcpy HtoD]\n",
            "431.95ms  175.68us                    -               -         -         -         -     Tesla T4 (0)         -         -            2.000000MB   0x7ec76b600000  [Unified Memory Memcpy HtoD]\n",
            "432.13ms  174.37us                    -               -         -         -         -     Tesla T4 (0)         -         -            2.000000MB   0x7ec76b800000  [Unified Memory Memcpy HtoD]\n",
            "432.30ms  174.37us                    -               -         -         -         -     Tesla T4 (0)         -         -            2.000000MB   0x7ec76ba00000  [Unified Memory Memcpy HtoD]\n",
            "432.48ms  174.34us                    -               -         -         -         -     Tesla T4 (0)         -         -            2.000000MB   0x7ec76bc00000  [Unified Memory Memcpy HtoD]\n",
            "432.66ms  174.14us                    -               -         -         -         -     Tesla T4 (0)         -         -            2.000000MB   0x7ec76be00000  [Unified Memory Memcpy HtoD]\n",
            "432.83ms  175.01us                    -               -         -         -         -     Tesla T4 (0)         -         -            2.000000MB   0x7ec76c000000  [Unified Memory Memcpy HtoD]\n",
            "433.01ms  174.24us                    -               -         -         -         -     Tesla T4 (0)         -         -            2.000000MB   0x7ec76c200000  [Unified Memory Memcpy HtoD]\n",
            "433.19ms  174.11us                    -               -         -         -         -     Tesla T4 (0)         -         -            2.000000MB   0x7ec76c400000  [Unified Memory Memcpy HtoD]\n",
            "433.37ms  174.34us                    -               -         -         -         -     Tesla T4 (0)         -         -            2.000000MB   0x7ec76c600000  [Unified Memory Memcpy HtoD]\n",
            "433.54ms  174.21us                    -               -         -         -         -     Tesla T4 (0)         -         -            2.000000MB   0x7ec76c800000  [Unified Memory Memcpy HtoD]\n",
            "433.72ms  174.72us                    -               -         -         -         -     Tesla T4 (0)         -         -            2.000000MB   0x7ec76ca00000  [Unified Memory Memcpy HtoD]\n",
            "433.90ms  174.24us                    -               -         -         -         -     Tesla T4 (0)         -         -            2.000000MB   0x7ec76cc00000  [Unified Memory Memcpy HtoD]\n",
            "434.07ms  174.66us                    -               -         -         -         -     Tesla T4 (0)         -         -            2.000000MB   0x7ec76ce00000  [Unified Memory Memcpy HtoD]\n",
            "434.25ms  174.01us                    -               -         -         -         -     Tesla T4 (0)         -         -            2.000000MB   0x7ec76d000000  [Unified Memory Memcpy HtoD]\n",
            "434.43ms  174.21us                    -               -         -         -         -     Tesla T4 (0)         -         -            2.000000MB   0x7ec76d200000  [Unified Memory Memcpy HtoD]\n",
            "434.60ms  174.11us                    -               -         -         -         -     Tesla T4 (0)         -         -            2.000000MB   0x7ec76d400000  [Unified Memory Memcpy HtoD]\n",
            "434.78ms  174.37us                    -               -         -         -         -     Tesla T4 (0)         -         -            2.000000MB   0x7ec76d600000  [Unified Memory Memcpy HtoD]\n",
            "434.96ms  174.40us                    -               -         -         -         -     Tesla T4 (0)         -         -            2.000000MB   0x7ec76d800000  [Unified Memory Memcpy HtoD]\n",
            "435.13ms  174.27us                    -               -         -         -         -     Tesla T4 (0)         -         -            2.000000MB   0x7ec76da00000  [Unified Memory Memcpy HtoD]\n",
            "435.31ms  174.14us                    -               -         -         -         -     Tesla T4 (0)         -         -            2.000000MB   0x7ec76dc00000  [Unified Memory Memcpy HtoD]\n",
            "435.49ms  174.14us                    -               -         -         -         -     Tesla T4 (0)         -         -            2.000000MB   0x7ec76de00000  [Unified Memory Memcpy HtoD]\n",
            "435.91ms  174.46us                    -               -         -         -         -     Tesla T4 (0)         -         -            2.000000MB   0x7ec766000000  [Unified Memory Memcpy HtoD]\n",
            "436.09ms  174.50us                    -               -         -         -         -     Tesla T4 (0)         -         -            2.000000MB   0x7ec766200000  [Unified Memory Memcpy HtoD]\n",
            "436.26ms  174.11us                    -               -         -         -         -     Tesla T4 (0)         -         -            2.000000MB   0x7ec766400000  [Unified Memory Memcpy HtoD]\n",
            "436.44ms  183.90us                    -               -         -         -         -     Tesla T4 (0)         -         -            2.000000MB   0x7ec766600000  [Unified Memory Memcpy HtoD]\n",
            "436.63ms  174.27us                    -               -         -         -         -     Tesla T4 (0)         -         -            2.000000MB   0x7ec766800000  [Unified Memory Memcpy HtoD]\n",
            "436.80ms  179.33us                    -               -         -         -         -     Tesla T4 (0)         -         -            2.000000MB   0x7ec766a00000  [Unified Memory Memcpy HtoD]\n",
            "436.99ms  173.86us                    -               -         -         -         -     Tesla T4 (0)         -         -            2.000000MB   0x7ec766c00000  [Unified Memory Memcpy HtoD]\n",
            "437.16ms  174.24us                    -               -         -         -         -     Tesla T4 (0)         -         -            2.000000MB   0x7ec766e00000  [Unified Memory Memcpy HtoD]\n",
            "437.34ms  173.89us                    -               -         -         -         -     Tesla T4 (0)         -         -            2.000000MB   0x7ec767000000  [Unified Memory Memcpy HtoD]\n",
            "437.52ms  173.82us                    -               -         -         -         -     Tesla T4 (0)         -         -            2.000000MB   0x7ec767200000  [Unified Memory Memcpy HtoD]\n",
            "437.69ms  173.95us                    -               -         -         -         -     Tesla T4 (0)         -         -            2.000000MB   0x7ec767400000  [Unified Memory Memcpy HtoD]\n",
            "437.87ms  174.33us                    -               -         -         -         -     Tesla T4 (0)         -         -            2.000000MB   0x7ec767600000  [Unified Memory Memcpy HtoD]\n",
            "438.05ms  173.79us                    -               -         -         -         -     Tesla T4 (0)         -         -            2.000000MB   0x7ec767800000  [Unified Memory Memcpy HtoD]\n",
            "438.22ms  174.30us                    -               -         -         -         -     Tesla T4 (0)         -         -            2.000000MB   0x7ec767a00000  [Unified Memory Memcpy HtoD]\n",
            "438.40ms  174.14us                    -               -         -         -         -     Tesla T4 (0)         -         -            2.000000MB   0x7ec767c00000  [Unified Memory Memcpy HtoD]\n",
            "438.58ms  174.49us                    -               -         -         -         -     Tesla T4 (0)         -         -            2.000000MB   0x7ec767e00000  [Unified Memory Memcpy HtoD]\n",
            "438.75ms  174.21us                    -               -         -         -         -     Tesla T4 (0)         -         -            2.000000MB   0x7ec768000000  [Unified Memory Memcpy HtoD]\n",
            "438.93ms  174.94us                    -               -         -         -         -     Tesla T4 (0)         -         -            2.000000MB   0x7ec768200000  [Unified Memory Memcpy HtoD]\n",
            "439.11ms  173.98us                    -               -         -         -         -     Tesla T4 (0)         -         -            2.000000MB   0x7ec768400000  [Unified Memory Memcpy HtoD]\n",
            "439.28ms  174.08us                    -               -         -         -         -     Tesla T4 (0)         -         -            2.000000MB   0x7ec768600000  [Unified Memory Memcpy HtoD]\n",
            "439.46ms  174.34us                    -               -         -         -         -     Tesla T4 (0)         -         -            2.000000MB   0x7ec768800000  [Unified Memory Memcpy HtoD]\n",
            "439.64ms  174.50us                    -               -         -         -         -     Tesla T4 (0)         -         -            2.000000MB   0x7ec768a00000  [Unified Memory Memcpy HtoD]\n",
            "439.81ms  173.95us                    -               -         -         -         -     Tesla T4 (0)         -         -            2.000000MB   0x7ec768c00000  [Unified Memory Memcpy HtoD]\n",
            "439.99ms  174.18us                    -               -         -         -         -     Tesla T4 (0)         -         -            2.000000MB   0x7ec768e00000  [Unified Memory Memcpy HtoD]\n",
            "440.17ms  174.81us                    -               -         -         -         -     Tesla T4 (0)         -         -            2.000000MB   0x7ec769000000  [Unified Memory Memcpy HtoD]\n",
            "440.34ms  174.37us                    -               -         -         -         -     Tesla T4 (0)         -         -            2.000000MB   0x7ec769200000  [Unified Memory Memcpy HtoD]\n",
            "440.52ms  174.62us                    -               -         -         -         -     Tesla T4 (0)         -         -            2.000000MB   0x7ec769400000  [Unified Memory Memcpy HtoD]\n",
            "440.70ms  174.14us                    -               -         -         -         -     Tesla T4 (0)         -         -            2.000000MB   0x7ec769600000  [Unified Memory Memcpy HtoD]\n",
            "440.88ms  174.37us                    -               -         -         -         -     Tesla T4 (0)         -         -            2.000000MB   0x7ec769800000  [Unified Memory Memcpy HtoD]\n",
            "441.05ms  174.27us                    -               -         -         -         -     Tesla T4 (0)         -         -            2.000000MB   0x7ec769a00000  [Unified Memory Memcpy HtoD]\n",
            "441.23ms  174.69us                    -               -         -         -         -     Tesla T4 (0)         -         -            2.000000MB   0x7ec769c00000  [Unified Memory Memcpy HtoD]\n",
            "441.41ms  174.56us                    -               -         -         -         -     Tesla T4 (0)         -         -            2.000000MB   0x7ec769e00000  [Unified Memory Memcpy HtoD]\n",
            "441.68ms  1.1645ms          (16384 1 1)      (1024 1 1)        21        0B        0B     Tesla T4 (0)         1         7                     -                -  conv1d_kernel(float const *, float*, int) [130]\n",
            "442.91ms  160.90us                    -               -         -         -         -     Tesla T4 (0)         -         -            2.000000MB   0x7ec766000000  [Unified Memory Memcpy DtoH]\n",
            "443.08ms  160.61us                    -               -         -         -         -     Tesla T4 (0)         -         -            2.000000MB   0x7ec766200000  [Unified Memory Memcpy DtoH]\n",
            "443.24ms  160.67us                    -               -         -         -         -     Tesla T4 (0)         -         -            2.000000MB   0x7ec766400000  [Unified Memory Memcpy DtoH]\n",
            "443.41ms  160.67us                    -               -         -         -         -     Tesla T4 (0)         -         -            2.000000MB   0x7ec766600000  [Unified Memory Memcpy DtoH]\n",
            "443.58ms  160.67us                    -               -         -         -         -     Tesla T4 (0)         -         -            2.000000MB   0x7ec766800000  [Unified Memory Memcpy DtoH]\n",
            "443.75ms  160.70us                    -               -         -         -         -     Tesla T4 (0)         -         -            2.000000MB   0x7ec766a00000  [Unified Memory Memcpy DtoH]\n",
            "443.91ms  160.67us                    -               -         -         -         -     Tesla T4 (0)         -         -            2.000000MB   0x7ec766c00000  [Unified Memory Memcpy DtoH]\n",
            "444.08ms  160.67us                    -               -         -         -         -     Tesla T4 (0)         -         -            2.000000MB   0x7ec766e00000  [Unified Memory Memcpy DtoH]\n",
            "444.25ms  160.73us                    -               -         -         -         -     Tesla T4 (0)         -         -            2.000000MB   0x7ec767000000  [Unified Memory Memcpy DtoH]\n",
            "444.42ms  160.61us                    -               -         -         -         -     Tesla T4 (0)         -         -            2.000000MB   0x7ec767200000  [Unified Memory Memcpy DtoH]\n",
            "444.58ms  160.64us                    -               -         -         -         -     Tesla T4 (0)         -         -            2.000000MB   0x7ec767400000  [Unified Memory Memcpy DtoH]\n",
            "444.75ms  160.64us                    -               -         -         -         -     Tesla T4 (0)         -         -            2.000000MB   0x7ec767600000  [Unified Memory Memcpy DtoH]\n",
            "444.92ms  160.64us                    -               -         -         -         -     Tesla T4 (0)         -         -            2.000000MB   0x7ec767800000  [Unified Memory Memcpy DtoH]\n",
            "445.09ms  160.74us                    -               -         -         -         -     Tesla T4 (0)         -         -            2.000000MB   0x7ec767a00000  [Unified Memory Memcpy DtoH]\n",
            "445.25ms  160.70us                    -               -         -         -         -     Tesla T4 (0)         -         -            2.000000MB   0x7ec767c00000  [Unified Memory Memcpy DtoH]\n",
            "445.42ms  160.67us                    -               -         -         -         -     Tesla T4 (0)         -         -            2.000000MB   0x7ec767e00000  [Unified Memory Memcpy DtoH]\n",
            "445.59ms  160.57us                    -               -         -         -         -     Tesla T4 (0)         -         -            2.000000MB   0x7ec768000000  [Unified Memory Memcpy DtoH]\n",
            "445.75ms  160.67us                    -               -         -         -         -     Tesla T4 (0)         -         -            2.000000MB   0x7ec768200000  [Unified Memory Memcpy DtoH]\n",
            "445.92ms  160.67us                    -               -         -         -         -     Tesla T4 (0)         -         -            2.000000MB   0x7ec768400000  [Unified Memory Memcpy DtoH]\n",
            "446.09ms  160.64us                    -               -         -         -         -     Tesla T4 (0)         -         -            2.000000MB   0x7ec768600000  [Unified Memory Memcpy DtoH]\n",
            "446.26ms  160.67us                    -               -         -         -         -     Tesla T4 (0)         -         -            2.000000MB   0x7ec768800000  [Unified Memory Memcpy DtoH]\n",
            "446.42ms  160.70us                    -               -         -         -         -     Tesla T4 (0)         -         -            2.000000MB   0x7ec768a00000  [Unified Memory Memcpy DtoH]\n",
            "446.59ms  160.54us                    -               -         -         -         -     Tesla T4 (0)         -         -            2.000000MB   0x7ec768c00000  [Unified Memory Memcpy DtoH]\n",
            "446.76ms  160.64us                    -               -         -         -         -     Tesla T4 (0)         -         -            2.000000MB   0x7ec768e00000  [Unified Memory Memcpy DtoH]\n",
            "446.92ms  160.54us                    -               -         -         -         -     Tesla T4 (0)         -         -            2.000000MB   0x7ec769000000  [Unified Memory Memcpy DtoH]\n",
            "447.09ms  160.64us                    -               -         -         -         -     Tesla T4 (0)         -         -            2.000000MB   0x7ec769200000  [Unified Memory Memcpy DtoH]\n",
            "447.26ms  160.67us                    -               -         -         -         -     Tesla T4 (0)         -         -            2.000000MB   0x7ec769400000  [Unified Memory Memcpy DtoH]\n",
            "447.43ms  160.64us                    -               -         -         -         -     Tesla T4 (0)         -         -            2.000000MB   0x7ec769600000  [Unified Memory Memcpy DtoH]\n",
            "447.59ms  160.74us                    -               -         -         -         -     Tesla T4 (0)         -         -            2.000000MB   0x7ec769800000  [Unified Memory Memcpy DtoH]\n",
            "447.76ms  160.61us                    -               -         -         -         -     Tesla T4 (0)         -         -            2.000000MB   0x7ec769a00000  [Unified Memory Memcpy DtoH]\n",
            "447.93ms  160.74us                    -               -         -         -         -     Tesla T4 (0)         -         -            2.000000MB   0x7ec769c00000  [Unified Memory Memcpy DtoH]\n",
            "448.09ms  160.61us                    -               -         -         -         -     Tesla T4 (0)         -         -            2.000000MB   0x7ec769e00000  [Unified Memory Memcpy DtoH]\n",
            "\n",
            "Regs: Number of registers used per CUDA thread. This number includes registers used internally by the CUDA driver and/or tools and can be more than what the compiler shows.\n",
            "SSMem: Static shared memory allocated per CUDA block.\n",
            "DSMem: Dynamic shared memory allocated per CUDA block.\n"
          ]
        },
        {
          "output_type": "execute_result",
          "data": {
            "text/plain": []
          },
          "metadata": {},
          "execution_count": 11
        }
      ]
    },
    {
      "cell_type": "code",
      "source": [
        "%%shell\n",
        "nvprof ./CUDA_convolve_prefetch 16777216"
      ],
      "metadata": {
        "id": "LH_CbXZqNG4u",
        "colab": {
          "base_uri": "https://localhost:8080/"
        },
        "outputId": "57b1dfab-2fd9-44a5-a2f7-1b11a5759fe6"
      },
      "execution_count": null,
      "outputs": [
        {
          "output_type": "stream",
          "name": "stdout",
          "text": [
            "==9123== NVPROF is profiling process 9123, command: ./CUDA_convolve_prefetch 16777216\n",
            "==9123== Profiling application: ./CUDA_convolve_prefetch 16777216\n",
            "==9123== Profiling result:\n",
            "            Type  Time(%)      Time     Calls       Avg       Min       Max  Name\n",
            " GPU activities:  100.00%  1.1625ms         1  1.1625ms  1.1625ms  1.1625ms  conv1d_kernel(float const *, float*, int)\n",
            "      API calls:   90.29%  193.63ms         2  96.814ms  53.920us  193.57ms  cudaMallocManaged\n",
            "                    4.55%  9.7650ms         1  9.7650ms  9.7650ms  9.7650ms  cudaLaunchKernel\n",
            "                    3.55%  7.6104ms         3  2.5368ms  215.60us  5.4947ms  cudaMemPrefetchAsync\n",
            "                    0.99%  2.1267ms         2  1.0634ms  601.66us  1.5251ms  cudaFree\n",
            "                    0.55%  1.1721ms         2  586.07us  7.5880us  1.1645ms  cudaDeviceSynchronize\n",
            "                    0.06%  130.94us       114  1.1480us     105ns  53.457us  cuDeviceGetAttribute\n",
            "                    0.00%  10.110us         1  10.110us  10.110us  10.110us  cuDeviceGetName\n",
            "                    0.00%  5.9470us         1  5.9470us  5.9470us  5.9470us  cudaGetDevice\n",
            "                    0.00%  4.8350us         1  4.8350us  4.8350us  4.8350us  cuDeviceGetPCIBusId\n",
            "                    0.00%  1.0280us         3     342ns     109ns     751ns  cuDeviceGetCount\n",
            "                    0.00%     973ns         2     486ns     118ns     855ns  cuDeviceGet\n",
            "                    0.00%     375ns         1     375ns     375ns     375ns  cuModuleGetLoadingMode\n",
            "                    0.00%     339ns         1     339ns     339ns     339ns  cuDeviceTotalMem\n",
            "                    0.00%     207ns         1     207ns     207ns     207ns  cuDeviceGetUuid\n",
            "\n",
            "==9123== Unified Memory profiling result:\n",
            "Device \"Tesla T4 (0)\"\n",
            "   Count  Avg Size  Min Size  Max Size  Total Size  Total Time  Name\n",
            "      64  2.0000MB  2.0000MB  2.0000MB  128.0000MB  11.16081ms  Host To Device\n",
            "      32  2.0000MB  2.0000MB  2.0000MB  64.00000MB  5.141587ms  Device To Host\n",
            "Total CPU Page faults: 384\n"
          ]
        },
        {
          "output_type": "execute_result",
          "data": {
            "text/plain": []
          },
          "metadata": {},
          "execution_count": 12
        }
      ]
    },
    {
      "cell_type": "code",
      "source": [
        "%%shell\n",
        "for i in {1..10}\n",
        "do\n",
        "  nvprof ./CUDA_convolve_prefetch 16777216 2>&1 | tee run_$i.log\n",
        "done"
      ],
      "metadata": {
        "id": "h8S_6xp_cfUF",
        "colab": {
          "base_uri": "https://localhost:8080/"
        },
        "outputId": "e32cd51d-e19a-4945-e50c-97135f4459f5"
      },
      "execution_count": null,
      "outputs": [
        {
          "output_type": "stream",
          "name": "stdout",
          "text": [
            "==12899== NVPROF is profiling process 12899, command: ./CUDA_convolve_prefetch 16777216\n",
            "==12899== Profiling application: ./CUDA_convolve_prefetch 16777216\n",
            "==12899== Profiling result:\n",
            "            Type  Time(%)      Time     Calls       Avg       Min       Max  Name\n",
            " GPU activities:  100.00%  1.1658ms         1  1.1658ms  1.1658ms  1.1658ms  conv1d_kernel(float const *, float*, int)\n",
            "      API calls:   90.99%  210.33ms         2  105.16ms  62.065us  210.27ms  cudaMallocManaged\n",
            "                    5.77%  13.342ms         3  4.4474ms  1.9254ms  5.9344ms  cudaMemPrefetchAsync\n",
            "                    1.69%  3.9046ms         1  3.9046ms  3.9046ms  3.9046ms  cudaLaunchKernel\n",
            "                    0.97%  2.2491ms         2  1.1246ms  588.65us  1.6605ms  cudaFree\n",
            "                    0.51%  1.1733ms         2  586.64us  4.8130us  1.1685ms  cudaDeviceSynchronize\n",
            "                    0.06%  138.02us       114  1.2100us     105ns  54.049us  cuDeviceGetAttribute\n",
            "                    0.00%  11.435us         1  11.435us  11.435us  11.435us  cuDeviceGetName\n",
            "                    0.00%  6.0350us         1  6.0350us  6.0350us  6.0350us  cudaGetDevice\n",
            "                    0.00%  5.1480us         1  5.1480us  5.1480us  5.1480us  cuDeviceGetPCIBusId\n",
            "                    0.00%  1.3520us         3     450ns     145ns     961ns  cuDeviceGetCount\n",
            "                    0.00%     966ns         2     483ns     150ns     816ns  cuDeviceGet\n",
            "                    0.00%     556ns         1     556ns     556ns     556ns  cuModuleGetLoadingMode\n",
            "                    0.00%     320ns         1     320ns     320ns     320ns  cuDeviceTotalMem\n",
            "                    0.00%     188ns         1     188ns     188ns     188ns  cuDeviceGetUuid\n",
            "\n",
            "==12899== Unified Memory profiling result:\n",
            "Device \"Tesla T4 (0)\"\n",
            "   Count  Avg Size  Min Size  Max Size  Total Size  Total Time  Name\n",
            "      64  2.0000MB  2.0000MB  2.0000MB  128.0000MB  11.14935ms  Host To Device\n",
            "      32  2.0000MB  2.0000MB  2.0000MB  64.00000MB  5.141560ms  Device To Host\n",
            "Total CPU Page faults: 384\n",
            "==12911== NVPROF is profiling process 12911, command: ./CUDA_convolve_prefetch 16777216\n",
            "==12911== Profiling application: ./CUDA_convolve_prefetch 16777216\n",
            "==12911== Profiling result:\n",
            "            Type  Time(%)      Time     Calls       Avg       Min       Max  Name\n",
            " GPU activities:  100.00%  1.1661ms         1  1.1661ms  1.1661ms  1.1661ms  conv1d_kernel(float const *, float*, int)\n",
            "      API calls:   90.00%  190.86ms         2  95.429ms  56.295us  190.80ms  cudaMallocManaged\n",
            "                    4.63%  9.8154ms         1  9.8154ms  9.8154ms  9.8154ms  cudaLaunchKernel\n",
            "                    3.57%  7.5797ms         3  2.5266ms  203.07us  5.5028ms  cudaMemPrefetchAsync\n",
            "                    1.17%  2.4789ms         2  1.2395ms  682.73us  1.7962ms  cudaFree\n",
            "                    0.56%  1.1790ms         2  589.51us  11.267us  1.1678ms  cudaDeviceSynchronize\n",
            "                    0.06%  128.33us       114  1.1250us     105ns  52.637us  cuDeviceGetAttribute\n",
            "                    0.01%  12.762us         1  12.762us  12.762us  12.762us  cuDeviceGetName\n",
            "                    0.00%  9.6660us         1  9.6660us  9.6660us  9.6660us  cudaGetDevice\n",
            "                    0.00%  4.6230us         1  4.6230us  4.6230us  4.6230us  cuDeviceGetPCIBusId\n",
            "                    0.00%  1.2250us         3     408ns     130ns     844ns  cuDeviceGetCount\n",
            "                    0.00%     765ns         2     382ns     256ns     509ns  cuDeviceGet\n",
            "                    0.00%     689ns         1     689ns     689ns     689ns  cuDeviceTotalMem\n",
            "                    0.00%     610ns         1     610ns     610ns     610ns  cuModuleGetLoadingMode\n",
            "                    0.00%     207ns         1     207ns     207ns     207ns  cuDeviceGetUuid\n",
            "\n",
            "==12911== Unified Memory profiling result:\n",
            "Device \"Tesla T4 (0)\"\n",
            "   Count  Avg Size  Min Size  Max Size  Total Size  Total Time  Name\n",
            "      64  2.0000MB  2.0000MB  2.0000MB  128.0000MB  11.14995ms  Host To Device\n",
            "      32  2.0000MB  2.0000MB  2.0000MB  64.00000MB  5.141590ms  Device To Host\n",
            "Total CPU Page faults: 384\n",
            "==12928== NVPROF is profiling process 12928, command: ./CUDA_convolve_prefetch 16777216\n",
            "==12928== Profiling application: ./CUDA_convolve_prefetch 16777216\n",
            "==12928== Profiling result:\n",
            "            Type  Time(%)      Time     Calls       Avg       Min       Max  Name\n",
            " GPU activities:  100.00%  1.1654ms         1  1.1654ms  1.1654ms  1.1654ms  conv1d_kernel(float const *, float*, int)\n",
            "      API calls:   89.91%  185.28ms         2  92.641ms  56.842us  185.23ms  cudaMallocManaged\n",
            "                    6.41%  13.215ms         3  4.4049ms  1.8216ms  5.9022ms  cudaMemPrefetchAsync\n",
            "                    1.93%  3.9855ms         1  3.9855ms  3.9855ms  3.9855ms  cudaLaunchKernel\n",
            "                    1.10%  2.2592ms         2  1.1296ms  605.59us  1.6536ms  cudaFree\n",
            "                    0.57%  1.1719ms         2  585.93us  5.1140us  1.1667ms  cudaDeviceSynchronize\n",
            "                    0.06%  126.62us       114  1.1100us     103ns  51.278us  cuDeviceGetAttribute\n",
            "                    0.01%  11.995us         1  11.995us  11.995us  11.995us  cuDeviceGetName\n",
            "                    0.00%  5.2470us         1  5.2470us  5.2470us  5.2470us  cudaGetDevice\n",
            "                    0.00%  4.8020us         1  4.8020us  4.8020us  4.8020us  cuDeviceGetPCIBusId\n",
            "                    0.00%  1.3520us         3     450ns     116ns  1.0630us  cuDeviceGetCount\n",
            "                    0.00%     766ns         2     383ns     189ns     577ns  cuDeviceGet\n",
            "                    0.00%     631ns         1     631ns     631ns     631ns  cuDeviceTotalMem\n",
            "                    0.00%     371ns         1     371ns     371ns     371ns  cuModuleGetLoadingMode\n",
            "                    0.00%     277ns         1     277ns     277ns     277ns  cuDeviceGetUuid\n",
            "\n",
            "==12928== Unified Memory profiling result:\n",
            "Device \"Tesla T4 (0)\"\n",
            "   Count  Avg Size  Min Size  Max Size  Total Size  Total Time  Name\n",
            "      64  2.0000MB  2.0000MB  2.0000MB  128.0000MB  11.12522ms  Host To Device\n",
            "      32  2.0000MB  2.0000MB  2.0000MB  64.00000MB  5.141494ms  Device To Host\n",
            "Total CPU Page faults: 384\n",
            "==12940== NVPROF is profiling process 12940, command: ./CUDA_convolve_prefetch 16777216\n",
            "==12940== Profiling application: ./CUDA_convolve_prefetch 16777216\n",
            "==12940== Profiling result:\n",
            "            Type  Time(%)      Time     Calls       Avg       Min       Max  Name\n",
            " GPU activities:  100.00%  1.1634ms         1  1.1634ms  1.1634ms  1.1634ms  conv1d_kernel(float const *, float*, int)\n",
            "      API calls:   89.91%  185.39ms         2  92.696ms  59.148us  185.33ms  cudaMallocManaged\n",
            "                    4.74%  9.7668ms         1  9.7668ms  9.7668ms  9.7668ms  cudaLaunchKernel\n",
            "                    3.69%  7.6053ms         3  2.5351ms  196.77us  5.4940ms  cudaMemPrefetchAsync\n",
            "                    1.01%  2.0900ms         2  1.0450ms  606.66us  1.4833ms  cudaFree\n",
            "                    0.57%  1.1811ms         2  590.56us  6.3430us  1.1748ms  cudaDeviceSynchronize\n",
            "                    0.06%  132.20us       114  1.1590us     108ns  55.347us  cuDeviceGetAttribute\n",
            "                    0.01%  11.376us         1  11.376us  11.376us  11.376us  cuDeviceGetName\n",
            "                    0.00%  7.1960us         1  7.1960us  7.1960us  7.1960us  cudaGetDevice\n",
            "                    0.00%  5.2160us         1  5.2160us  5.2160us  5.2160us  cuDeviceGetPCIBusId\n",
            "                    0.00%  1.3800us         3     460ns     158ns     992ns  cuDeviceGetCount\n",
            "                    0.00%     984ns         2     492ns     141ns     843ns  cuDeviceGet\n",
            "                    0.00%     526ns         1     526ns     526ns     526ns  cuDeviceTotalMem\n",
            "                    0.00%     377ns         1     377ns     377ns     377ns  cuModuleGetLoadingMode\n",
            "                    0.00%     279ns         1     279ns     279ns     279ns  cuDeviceGetUuid\n",
            "\n",
            "==12940== Unified Memory profiling result:\n",
            "Device \"Tesla T4 (0)\"\n",
            "   Count  Avg Size  Min Size  Max Size  Total Size  Total Time  Name\n",
            "      64  2.0000MB  2.0000MB  2.0000MB  128.0000MB  11.14964ms  Host To Device\n",
            "      32  2.0000MB  2.0000MB  2.0000MB  64.00000MB  5.141368ms  Device To Host\n",
            "Total CPU Page faults: 384\n",
            "==12957== NVPROF is profiling process 12957, command: ./CUDA_convolve_prefetch 16777216\n",
            "==12957== Profiling application: ./CUDA_convolve_prefetch 16777216\n",
            "==12957== Profiling result:\n",
            "            Type  Time(%)      Time     Calls       Avg       Min       Max  Name\n",
            " GPU activities:  100.00%  1.1647ms         1  1.1647ms  1.1647ms  1.1647ms  conv1d_kernel(float const *, float*, int)\n",
            "      API calls:   89.86%  185.02ms         2  92.510ms  55.127us  184.96ms  cudaMallocManaged\n",
            "                    4.75%  9.7801ms         1  9.7801ms  9.7801ms  9.7801ms  cudaLaunchKernel\n",
            "                    3.70%  7.6086ms         3  2.5362ms  188.87us  5.4902ms  cudaMemPrefetchAsync\n",
            "                    1.03%  2.1280ms         2  1.0640ms  603.96us  1.5241ms  cudaFree\n",
            "                    0.57%  1.1698ms         2  584.90us  8.0420us  1.1617ms  cudaDeviceSynchronize\n",
            "                    0.08%  166.63us       114  1.4610us     102ns  71.592us  cuDeviceGetAttribute\n",
            "                    0.01%  13.765us         1  13.765us  13.765us  13.765us  cuDeviceGetName\n",
            "                    0.00%  6.3430us         1  6.3430us  6.3430us  6.3430us  cudaGetDevice\n",
            "                    0.00%  5.0420us         1  5.0420us  5.0420us  5.0420us  cuDeviceGetPCIBusId\n",
            "                    0.00%  2.3150us         3     771ns     142ns  1.8010us  cuDeviceGetCount\n",
            "                    0.00%     865ns         2     432ns     258ns     607ns  cuDeviceGet\n",
            "                    0.00%     656ns         1     656ns     656ns     656ns  cuDeviceTotalMem\n",
            "                    0.00%     412ns         1     412ns     412ns     412ns  cuModuleGetLoadingMode\n",
            "                    0.00%     319ns         1     319ns     319ns     319ns  cuDeviceGetUuid\n",
            "\n",
            "==12957== Unified Memory profiling result:\n",
            "Device \"Tesla T4 (0)\"\n",
            "   Count  Avg Size  Min Size  Max Size  Total Size  Total Time  Name\n",
            "      64  2.0000MB  2.0000MB  2.0000MB  128.0000MB  11.17524ms  Host To Device\n",
            "      32  2.0000MB  2.0000MB  2.0000MB  64.00000MB  5.141459ms  Device To Host\n",
            "Total CPU Page faults: 384\n",
            "==12974== NVPROF is profiling process 12974, command: ./CUDA_convolve_prefetch 16777216\n",
            "==12974== Profiling application: ./CUDA_convolve_prefetch 16777216\n",
            "==12974== Profiling result:\n",
            "            Type  Time(%)      Time     Calls       Avg       Min       Max  Name\n",
            " GPU activities:  100.00%  1.1648ms         1  1.1648ms  1.1648ms  1.1648ms  conv1d_kernel(float const *, float*, int)\n",
            "      API calls:   89.90%  187.80ms         2  93.900ms  56.261us  187.74ms  cudaMallocManaged\n",
            "                    4.76%  9.9439ms         1  9.9439ms  9.9439ms  9.9439ms  cudaLaunchKernel\n",
            "                    3.61%  7.5517ms         3  2.5172ms  179.58us  5.4962ms  cudaMemPrefetchAsync\n",
            "                    1.07%  2.2390ms         2  1.1195ms  618.87us  1.6201ms  cudaFree\n",
            "                    0.56%  1.1795ms         2  589.77us  8.8240us  1.1707ms  cudaDeviceSynchronize\n",
            "                    0.08%  157.88us       114  1.3840us     107ns  72.100us  cuDeviceGetAttribute\n",
            "                    0.01%  13.977us         1  13.977us  13.977us  13.977us  cuDeviceGetName\n",
            "                    0.00%  7.0640us         1  7.0640us  7.0640us  7.0640us  cudaGetDevice\n",
            "                    0.00%  5.4050us         1  5.4050us  5.4050us  5.4050us  cuDeviceGetPCIBusId\n",
            "                    0.00%  1.9480us         3     649ns     217ns  1.4170us  cuDeviceGetCount\n",
            "                    0.00%  1.1610us         2     580ns     214ns     947ns  cuDeviceGet\n",
            "                    0.00%     691ns         1     691ns     691ns     691ns  cuDeviceTotalMem\n",
            "                    0.00%     686ns         1     686ns     686ns     686ns  cuModuleGetLoadingMode\n",
            "                    0.00%     248ns         1     248ns     248ns     248ns  cuDeviceGetUuid\n",
            "\n",
            "==12974== Unified Memory profiling result:\n",
            "Device \"Tesla T4 (0)\"\n",
            "   Count  Avg Size  Min Size  Max Size  Total Size  Total Time  Name\n",
            "      64  2.0000MB  2.0000MB  2.0000MB  128.0000MB  11.18160ms  Host To Device\n",
            "      32  2.0000MB  2.0000MB  2.0000MB  64.00000MB  5.141845ms  Device To Host\n",
            "Total CPU Page faults: 384\n",
            "==12987== NVPROF is profiling process 12987, command: ./CUDA_convolve_prefetch 16777216\n",
            "==12987== Profiling application: ./CUDA_convolve_prefetch 16777216\n",
            "==12987== Profiling result:\n",
            "            Type  Time(%)      Time     Calls       Avg       Min       Max  Name\n",
            " GPU activities:  100.00%  1.1661ms         1  1.1661ms  1.1661ms  1.1661ms  conv1d_kernel(float const *, float*, int)\n",
            "      API calls:   89.42%  177.82ms         2  88.909ms  56.803us  177.76ms  cudaMallocManaged\n",
            "                    4.82%  9.5801ms         1  9.5801ms  9.5801ms  9.5801ms  cudaLaunchKernel\n",
            "                    3.91%  7.7699ms         3  2.5900ms  204.24us  5.5496ms  cudaMemPrefetchAsync\n",
            "                    1.17%  2.3282ms         2  1.1641ms  718.00us  1.6102ms  cudaFree\n",
            "                    0.59%  1.1749ms         2  587.47us  9.1050us  1.1658ms  cudaDeviceSynchronize\n",
            "                    0.08%  155.20us       114  1.3610us     101ns  76.595us  cuDeviceGetAttribute\n",
            "                    0.01%  11.513us         1  11.513us  11.513us  11.513us  cuDeviceGetName\n",
            "                    0.00%  5.5100us         1  5.5100us  5.5100us  5.5100us  cudaGetDevice\n",
            "                    0.00%  5.4790us         1  5.4790us  5.4790us  5.4790us  cuDeviceGetPCIBusId\n",
            "                    0.00%  1.4460us         3     482ns     144ns  1.1080us  cuDeviceGetCount\n",
            "                    0.00%     809ns         2     404ns     193ns     616ns  cuDeviceGet\n",
            "                    0.00%     563ns         1     563ns     563ns     563ns  cuModuleGetLoadingMode\n",
            "                    0.00%     404ns         1     404ns     404ns     404ns  cuDeviceTotalMem\n",
            "                    0.00%     217ns         1     217ns     217ns     217ns  cuDeviceGetUuid\n",
            "\n",
            "==12987== Unified Memory profiling result:\n",
            "Device \"Tesla T4 (0)\"\n",
            "   Count  Avg Size  Min Size  Max Size  Total Size  Total Time  Name\n",
            "      64  2.0000MB  2.0000MB  2.0000MB  128.0000MB  11.14868ms  Host To Device\n",
            "      32  2.0000MB  2.0000MB  2.0000MB  64.00000MB  5.141334ms  Device To Host\n",
            "Total CPU Page faults: 384\n",
            "==13004== NVPROF is profiling process 13004, command: ./CUDA_convolve_prefetch 16777216\n",
            "==13004== Profiling application: ./CUDA_convolve_prefetch 16777216\n",
            "==13004== Profiling result:\n",
            "            Type  Time(%)      Time     Calls       Avg       Min       Max  Name\n",
            " GPU activities:  100.00%  1.1663ms         1  1.1663ms  1.1663ms  1.1663ms  conv1d_kernel(float const *, float*, int)\n",
            "      API calls:   89.66%  180.03ms         2  90.016ms  69.163us  179.96ms  cudaMallocManaged\n",
            "                    4.84%  9.7125ms         1  9.7125ms  9.7125ms  9.7125ms  cudaLaunchKernel\n",
            "                    3.78%  7.5954ms         3  2.5318ms  184.73us  5.4988ms  cudaMemPrefetchAsync\n",
            "                    1.05%  2.1160ms         2  1.0580ms  591.73us  1.5243ms  cudaFree\n",
            "                    0.58%  1.1732ms         2  586.58us  6.3930us  1.1668ms  cudaDeviceSynchronize\n",
            "                    0.07%  150.42us       114  1.3190us     102ns  74.173us  cuDeviceGetAttribute\n",
            "                    0.01%  10.739us         1  10.739us  10.739us  10.739us  cuDeviceGetName\n",
            "                    0.00%  6.5450us         1  6.5450us  6.5450us  6.5450us  cudaGetDevice\n",
            "                    0.00%  4.4070us         1  4.4070us  4.4070us  4.4070us  cuDeviceGetPCIBusId\n",
            "                    0.00%  1.3500us         3     450ns     152ns     993ns  cuDeviceGetCount\n",
            "                    0.00%     836ns         2     418ns     139ns     697ns  cuDeviceGet\n",
            "                    0.00%     450ns         1     450ns     450ns     450ns  cuModuleGetLoadingMode\n",
            "                    0.00%     413ns         1     413ns     413ns     413ns  cuDeviceTotalMem\n",
            "                    0.00%     290ns         1     290ns     290ns     290ns  cuDeviceGetUuid\n",
            "\n",
            "==13004== Unified Memory profiling result:\n",
            "Device \"Tesla T4 (0)\"\n",
            "   Count  Avg Size  Min Size  Max Size  Total Size  Total Time  Name\n",
            "      64  2.0000MB  2.0000MB  2.0000MB  128.0000MB  11.16090ms  Host To Device\n",
            "      32  2.0000MB  2.0000MB  2.0000MB  64.00000MB  5.141913ms  Device To Host\n",
            "Total CPU Page faults: 384\n",
            "==13017== NVPROF is profiling process 13017, command: ./CUDA_convolve_prefetch 16777216\n",
            "==13017== Profiling application: ./CUDA_convolve_prefetch 16777216\n",
            "==13017== Profiling result:\n",
            "            Type  Time(%)      Time     Calls       Avg       Min       Max  Name\n",
            " GPU activities:  100.00%  1.1636ms         1  1.1636ms  1.1636ms  1.1636ms  conv1d_kernel(float const *, float*, int)\n",
            "      API calls:   89.59%  180.80ms         2  90.401ms  59.126us  180.74ms  cudaMallocManaged\n",
            "                    4.91%  9.9092ms         1  9.9092ms  9.9092ms  9.9092ms  cudaLaunchKernel\n",
            "                    3.74%  7.5407ms         3  2.5136ms  178.09us  5.4980ms  cudaMemPrefetchAsync\n",
            "                    1.11%  2.2363ms         2  1.1181ms  589.07us  1.6472ms  cudaFree\n",
            "                    0.58%  1.1678ms         2  583.92us  5.4590us  1.1624ms  cudaDeviceSynchronize\n",
            "                    0.06%  128.72us       114  1.1290us     101ns  52.822us  cuDeviceGetAttribute\n",
            "                    0.01%  10.743us         1  10.743us  10.743us  10.743us  cuDeviceGetName\n",
            "                    0.00%  6.8250us         1  6.8250us  6.8250us  6.8250us  cudaGetDevice\n",
            "                    0.00%  4.3480us         1  4.3480us  4.3480us  4.3480us  cuDeviceGetPCIBusId\n",
            "                    0.00%  1.4890us         3     496ns     144ns  1.1300us  cuDeviceGetCount\n",
            "                    0.00%     675ns         2     337ns     139ns     536ns  cuDeviceGet\n",
            "                    0.00%     459ns         1     459ns     459ns     459ns  cuModuleGetLoadingMode\n",
            "                    0.00%     430ns         1     430ns     430ns     430ns  cuDeviceTotalMem\n",
            "                    0.00%     258ns         1     258ns     258ns     258ns  cuDeviceGetUuid\n",
            "\n",
            "==13017== Unified Memory profiling result:\n",
            "Device \"Tesla T4 (0)\"\n",
            "   Count  Avg Size  Min Size  Max Size  Total Size  Total Time  Name\n",
            "      64  2.0000MB  2.0000MB  2.0000MB  128.0000MB  11.14461ms  Host To Device\n",
            "      32  2.0000MB  2.0000MB  2.0000MB  64.00000MB  5.141267ms  Device To Host\n",
            "Total CPU Page faults: 384\n",
            "==13034== NVPROF is profiling process 13034, command: ./CUDA_convolve_prefetch 16777216\n",
            "==13034== Profiling application: ./CUDA_convolve_prefetch 16777216\n",
            "==13034== Profiling result:\n",
            "            Type  Time(%)      Time     Calls       Avg       Min       Max  Name\n",
            " GPU activities:  100.00%  1.1661ms         1  1.1661ms  1.1661ms  1.1661ms  conv1d_kernel(float const *, float*, int)\n",
            "      API calls:   90.08%  191.03ms         2  95.513ms  52.380us  190.97ms  cudaMallocManaged\n",
            "                    4.66%  9.8909ms         1  9.8909ms  9.8909ms  9.8909ms  cudaLaunchKernel\n",
            "                    3.57%  7.5760ms         3  2.5253ms  212.58us  5.4882ms  cudaMemPrefetchAsync\n",
            "                    1.06%  2.2464ms         2  1.1232ms  615.03us  1.6314ms  cudaFree\n",
            "                    0.55%  1.1709ms         2  585.45us  6.2210us  1.1647ms  cudaDeviceSynchronize\n",
            "                    0.06%  127.26us       114  1.1160us     105ns  52.179us  cuDeviceGetAttribute\n",
            "                    0.00%  10.556us         1  10.556us  10.556us  10.556us  cuDeviceGetName\n",
            "                    0.00%  6.0320us         1  6.0320us  6.0320us  6.0320us  cudaGetDevice\n",
            "                    0.00%  4.6290us         1  4.6290us  4.6290us  4.6290us  cuDeviceGetPCIBusId\n",
            "                    0.00%  1.4280us         3     476ns     142ns  1.0730us  cuDeviceGetCount\n",
            "                    0.00%     760ns         2     380ns     181ns     579ns  cuDeviceGet\n",
            "                    0.00%     565ns         1     565ns     565ns     565ns  cuDeviceTotalMem\n",
            "                    0.00%     537ns         1     537ns     537ns     537ns  cuModuleGetLoadingMode\n",
            "                    0.00%     174ns         1     174ns     174ns     174ns  cuDeviceGetUuid\n",
            "\n",
            "==13034== Unified Memory profiling result:\n",
            "Device \"Tesla T4 (0)\"\n",
            "   Count  Avg Size  Min Size  Max Size  Total Size  Total Time  Name\n",
            "      64  2.0000MB  2.0000MB  2.0000MB  128.0000MB  11.16119ms  Host To Device\n",
            "      32  2.0000MB  2.0000MB  2.0000MB  64.00000MB  5.141623ms  Device To Host\n",
            "Total CPU Page faults: 384\n"
          ]
        },
        {
          "output_type": "execute_result",
          "data": {
            "text/plain": []
          },
          "metadata": {},
          "execution_count": 21
        }
      ]
    },
    {
      "cell_type": "markdown",
      "source": [
        "### Execution time in milliseconds.  Multiple kernel run is based on average execution time. ###"
      ],
      "metadata": {
        "id": "9pJYkP1KywAC"
      }
    },
    {
      "cell_type": "markdown",
      "source": [
        "a.) Number of blocks/grid = max (as per formula)\n",
        "\n",
        "| Block size (2^24 elements) | Single kernel run | multiple kernel |\n",
        "| -------------------------- | ----------------- | --------------- |\n",
        "| Block size = 1024          | 1.1652ms          | 1.16742ms       |"
      ],
      "metadata": {
        "id": "F4h9in4_ywCZ"
      }
    },
    {
      "cell_type": "markdown",
      "source": [
        "b.)Unified memory profile - data transfer (2^24 elements)\n",
        "\n",
        "| Type           | Total size | Total time |\n",
        "| -------------- | ---------- | ---------- |\n",
        "| host to device | 128 MB     | 11.13964ms |\n",
        "| device to host | 64 MB      | 5.142931ms |"
      ],
      "metadata": {
        "id": "nNL0sMNhywE4"
      }
    },
    {
      "cell_type": "markdown",
      "source": [
        "c.) Unified memory profile - page fault (2^24 elements)\n",
        "\n",
        "| Type                 | Count | Total time |\n",
        "| -------------------- | ----- | ---------- |\n",
        "| GPU page fault group |       |            |\n",
        "| CPU Page fault group | 384   | ---------  |"
      ],
      "metadata": {
        "id": "RjLXcFuXywHd"
      }
    },
    {
      "cell_type": "markdown",
      "source": [
        "a.) In the unified memory profile, is the data transfer time included in the GPU execution time?  Explain your answer.\n",
        "- the data transfer time is generally included in the GPU execution time reported by the profiler. The amount of time taken to move data from host to device and device to host for processing by the GPU.\n",
        "\n",
        "b.) In the unified memory profile, is the page fault time included in the GPU execution time?  Explain your answer.\n",
        "- Yes, page faults is included in the profile results. Using cudaMallocManaged, which makes a unified address for both CPU and GPU, when the GPU accesses a memory page not currently resident in its local memory, a page fault occurs.\n",
        "\n",
        "c.) What is the speedup (or speed down) of the execution time of GPU with prefetching compare to without prefetching?  Is GPU execution time (with prefetching) better or worse? Include all the overhead in the computation.\n",
        "- There is a speed up around ~ 12ms with prefetching. Probably due to the data transfer not blocking the kernel processing time, since the data was already transfer prior to processing.\n",
        "\n",
        "d.) For this case, is there an effect in execution time if kernel is executed multiple times as compare to executing once only? Why is it so?\n",
        "- The runs shows very small difference in runtimes. Probably because if using prefetching, data is already moved to the GPU, it reduces the overall impact in processing / kernel execution."
      ],
      "metadata": {
        "id": "psnvJkV2ywL5"
      }
    },
    {
      "cell_type": "markdown",
      "source": [
        "## 4: CUDA Program Version Using Grid-Stride Loop With Prefetch and Memory Advice"
      ],
      "metadata": {
        "id": "wi3j6_5ZNaJP"
      }
    },
    {
      "cell_type": "code",
      "source": [
        "%%writefile CUDA_convolve_prefetch_mem_advice.cu\n",
        "#include <stdio.h>\n",
        "#include <stdlib.h>\n",
        "#include <iostream>\n",
        "\n",
        "__global__ void conv1d_kernel(const float* __restrict__ in, float* __restrict__ out, int n) {\n",
        "    int idx = blockIdx.x * blockDim.x + threadIdx.x;\n",
        "    int stride = blockDim.x * gridDim.x;\n",
        "\n",
        "    for (int i = idx; i < n - 2; i += stride) {\n",
        "        out[i] = (in[i] + in[i + 1] + in[i + 2]) / 3.0f;\n",
        "    }\n",
        "}\n",
        "\n",
        "int main(int argc, char* argv[]) {\n",
        "    if (argc < 2) {\n",
        "        std::cerr << \"Usage: \" << argv[0] << \" <N>\" << std::endl;\n",
        "        return 1;\n",
        "    }\n",
        "\n",
        "    int N = std::atoi(argv[1]);\n",
        "    if (N <= 0) {\n",
        "        std::cerr << \"N must be a positive integer.\" << std::endl;\n",
        "        return 1;\n",
        "    }\n",
        "\n",
        "    //const int N = 256;\n",
        "\n",
        "    float *h_in = nullptr;\n",
        "    float *h_out = nullptr;\n",
        "\n",
        "    // Allocate unified memory\n",
        "    cudaMallocManaged(&h_in, N * sizeof(float));\n",
        "    cudaMallocManaged(&h_out, N * sizeof(float));\n",
        "\n",
        "    // Initialize input\n",
        "    for (int i = 0; i < N; ++i) {\n",
        "        h_in[i] = float(i + 1);\n",
        "        h_out[i] = 0.0f;\n",
        "    }\n",
        "\n",
        "    int device = -1;\n",
        "    cudaGetDevice(&device);\n",
        "\n",
        "    // Advise that h_in will be mostly read on device\n",
        "    cudaMemAdvise(h_in, N * sizeof(float), cudaMemAdviseSetReadMostly, device);\n",
        "    // Advise that h_out will be mostly written on device\n",
        "    cudaMemAdvise(h_out, N * sizeof(float), cudaMemAdviseSetPreferredLocation, device);\n",
        "\n",
        "    // Prefetch to device\n",
        "    cudaMemPrefetchAsync(h_in, N * sizeof(float), device);\n",
        "    cudaMemPrefetchAsync(h_out, N * sizeof(float), device);\n",
        "\n",
        "    int threadsPerBlock = 1024;\n",
        "    int blocksPerGrid = (N + threadsPerBlock - 1) / threadsPerBlock;\n",
        "//    int threadsPerBlock = (N < 1024) ? N : 1024;\n",
        "//    int blocksPerGrid = 1;\n",
        "\n",
        "    conv1d_kernel<<<blocksPerGrid, threadsPerBlock>>>(h_in, h_out, N);\n",
        "    cudaDeviceSynchronize();\n",
        "\n",
        "    // Prefetch output back to host\n",
        "    cudaMemPrefetchAsync(h_out, N * sizeof(float), cudaCpuDeviceId);\n",
        "    cudaDeviceSynchronize();\n",
        "\n",
        "//    std::cout << \"Convolution output:\\n\";\n",
        "//    for (int i = 0; i < N - 2; ++i) {\n",
        "//        std::cout << h_out[i] << \" \";\n",
        "//    }\n",
        "//    std::cout << std::endl;\n",
        "\n",
        "    cudaFree(h_in);\n",
        "    cudaFree(h_out);\n",
        "\n",
        "    return 0;\n",
        "}"
      ],
      "metadata": {
        "id": "fhpD88OJNdHa"
      },
      "execution_count": null,
      "outputs": []
    },
    {
      "cell_type": "code",
      "source": [
        "%%shell\n",
        "nvcc CUDA_convolve_prefetch_mem_advice.cu -o CUDA_convolve_prefetch_mem_advice -arch=sm_75"
      ],
      "metadata": {
        "id": "ZBUKM-DBNdJy"
      },
      "execution_count": null,
      "outputs": []
    },
    {
      "cell_type": "code",
      "source": [
        "%%shell\n",
        "./CUDA_convolve_prefetch_mem_advice 256"
      ],
      "metadata": {
        "id": "K9q_fWXENdMb"
      },
      "execution_count": null,
      "outputs": []
    },
    {
      "cell_type": "code",
      "source": [
        "%%shell\n",
        "nvprof --unified-memory-profiling per-process-device --print-gpu-trace ./CUDA_convolve_prefetch_mem_advice 16777216"
      ],
      "metadata": {
        "id": "iY7pYSOfc4NR"
      },
      "execution_count": null,
      "outputs": []
    },
    {
      "cell_type": "code",
      "source": [
        "%%shell\n",
        "nvprof ./CUDA_convolve_prefetch_mem_advice 268435456"
      ],
      "metadata": {
        "id": "NFzS3YpZNdOx"
      },
      "execution_count": null,
      "outputs": []
    },
    {
      "cell_type": "code",
      "source": [
        "%%shell\n",
        "for i in {1..10}\n",
        "do\n",
        "  nvprof ./CUDA_convolve_prefetch_mem_advice 268435456 2>&1 | tee run_$i.log\n",
        "done"
      ],
      "metadata": {
        "id": "3SzDXOridAMZ"
      },
      "execution_count": null,
      "outputs": []
    },
    {
      "cell_type": "markdown",
      "source": [
        "### Execution time in milliseconds.  Multiple kernel run is based on average execution time. ###"
      ],
      "metadata": {
        "id": "x5EX5dx0zJOl"
      }
    },
    {
      "cell_type": "markdown",
      "source": [
        "a.) Number of blocks/grid = max (as per formula)\n",
        "\n",
        "| Block size (2^24 elements) | Single kernel run | multiple kernel |\n",
        "| -------------------------- | ----------------- | --------------- |\n",
        "| Block size = 1024          | 1.1690ms          | 1.16706ms       |"
      ],
      "metadata": {
        "id": "GGzUegsfzJQ0"
      }
    },
    {
      "cell_type": "markdown",
      "source": [
        "b.)Unified memory profile - data transfer (2^24 elements)\n",
        "\n",
        "| Type           | Total size | Total time |\n",
        "| -------------- | ---------- | ---------- |\n",
        "| host to device | 128 MB     | 11.14467ms |\n",
        "| device to host | 64 MB      | 5.151089ms |"
      ],
      "metadata": {
        "id": "k3y3j7GnzJTS"
      }
    },
    {
      "cell_type": "markdown",
      "source": [
        "c.) Unified memory profile - page fault (2^24 elements)\n",
        "\n",
        "| Type                 | Count | Total time |\n",
        "| -------------------- | ----- | ---------- |\n",
        "| GPU page fault group |       |            |\n",
        "| CPU Page fault group | 384   | --------   |"
      ],
      "metadata": {
        "id": "tAFZHWBkzJVv"
      }
    },
    {
      "cell_type": "markdown",
      "source": [
        "a.) In the unified memory profile, is the data transfer time included in the GPU execution time?  Explain your answer.\n",
        "\n",
        "b.) What is the speedup (or speed down) of the execution time of GPU (with prefetching, page creation and memadvise) compare to execution time of C?  Is GPU execution time better or worse? Include all the overhead in the computation.\n",
        "\n",
        "c.) For this case, is there an effect in execution time if kernel is executed multiple times as compare to executing once only? Why is it so?"
      ],
      "metadata": {
        "id": "bUMIcECCzZuk"
      }
    },
    {
      "cell_type": "markdown",
      "source": [
        "### Execution time in milliseconds.  Multiple kernel run is based on average execution time ###"
      ],
      "metadata": {
        "id": "YN2-xLihzdyI"
      }
    },
    {
      "cell_type": "markdown",
      "source": [
        "Grid-stride loop (prefetching with \"page creation\" and mem advise)"
      ],
      "metadata": {
        "id": "X6LAPlcAzg0V"
      }
    },
    {
      "cell_type": "markdown",
      "source": [
        "### block size = 256 threads ###"
      ],
      "metadata": {
        "id": "CyYVxrDvzy4Q"
      }
    },
    {
      "cell_type": "markdown",
      "source": [
        "| # of elements | Average based on multiple  kernel run | Speedup compare to C | Speedup compare to single run (no prefetch) |\n",
        "| ------------- | ------------------------------------- | -------------------- | ------------------------------------------- |\n",
        "| 256           | 88.448 us                             | 0.005 ms             | 7.264 us                                    |\n",
        "| 1024          | 12.608 us                             | 0.017 ms             | 7.456 us                                    |\n",
        "| 2^24          | 17.168322 ms                          | 191.308 ms           | 30.16546 ms                                 |\n",
        "| 2^26          | 68.26708 ms                           | 843.958 ms           | 118.8253 ms                                 |\n",
        "| 2^28          | 269.20204 ms                          | 3345.247 ms          | 474.072 ms                                  |"
      ],
      "metadata": {
        "id": "SvCCD98Xzlmf"
      }
    },
    {
      "cell_type": "markdown",
      "source": [
        "##### 2^24 [16777216] elements #####"
      ],
      "metadata": {
        "id": "cQypuIYVz6Yd"
      }
    },
    {
      "cell_type": "markdown",
      "source": [
        "| Block size (2^24 elements) | Single kernel run | multiple kernel run |\n",
        "| -------------------------- | ----------------- | ------------------- |\n",
        "| 256                        | 17.161082 ms      | 17.166806 ms        |\n",
        "| 512                        | 17.157936 ms      | 17.155219 ms        |\n",
        "| 1024                       | 17.168466 ms      | 17.156158 ms        |"
      ],
      "metadata": {
        "id": "WRGMhupwzloW"
      }
    },
    {
      "cell_type": "markdown",
      "source": [
        "##### 2^26 [67108864] elements #####"
      ],
      "metadata": {
        "id": "E4cArceJ0EnD"
      }
    },
    {
      "cell_type": "markdown",
      "source": [
        "| Block size (2^26 elements) | Single kernel run | multiple kernel run |\n",
        "| -------------------------- | ----------------- | ------------------- |\n",
        "| 256                        | 68.67913 ms       | 67.85576 ms         |\n",
        "| 512                        | 69.0517 ms        | 68.09373 ms         |\n",
        "| 1024                       | 69.22053 ms       | 67.18557 ms         |"
      ],
      "metadata": {
        "id": "vuQVgmnmzlq7"
      }
    },
    {
      "cell_type": "markdown",
      "source": [
        "##### 2^28 [268435456] elements #####"
      ],
      "metadata": {
        "id": "X4aSV0E60MMH"
      }
    },
    {
      "cell_type": "markdown",
      "source": [
        "| Block size (2^28 elements) | Single kernel run | multiple kernel run |\n",
        "| -------------------------- | ----------------- | ------------------- |\n",
        "| 256                        | 275.75955 ms      | 273.18701 ms        |\n",
        "| 512                        | 270.15548 ms      | 271.33376 ms        |\n",
        "| 1024                       | 275.72904 ms      | 269.23974 ms        |"
      ],
      "metadata": {
        "id": "itFpJFX6zltQ"
      }
    },
    {
      "cell_type": "markdown",
      "source": [
        "a.) What is the effect of the number of elements in the execution time?  What is the rate of increase (i.e., linear, logarithmic, exponential, etc.)?\n",
        "- the number of elements increases the runtime. Across all the runs, the increase in runtimes are mostly linear with outlier in some occasions. The kernel session was restarted every set of runs to ensure a clean environment.\n",
        "\n",
        "b.) How does block size affect execution time (observing various elements and using max blocks)?  Which block size will you recommend?\n",
        "- there is a slight improvements in runtime as the block size is being increased, with outliers in the single kernel run. But overall, the improvement in runtime for multiple kernel runs seems to improve or is within range of the runtime from the other block sizes. This might be due to the size of the elements being tested. More tests with a larger number of elements can prove if the outliers is due to a small number of elements during the test.\n",
        "\n",
        "c.) Is prefetching always recommended?  Can you think of a situation in which no prefetching is better?\n",
        "- In general prefetching is recommended, because it can help to reduce processing overhead, by moving data to the GPU prior to being accessed. But similar to caching it may sometimes bring unnecessary data transfer to the GPU causing traffic and not bringing performance gain. Or when the data is small enough and processing time is short enough, the overhead of prefetching does not bring any significant gain."
      ],
      "metadata": {
        "id": "jP0vzYj-zlvz"
      }
    }
  ]
}